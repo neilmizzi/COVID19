{
 "cells": [
  {
   "cell_type": "markdown",
   "metadata": {},
   "source": [
    "## Data Mining Techniques\n",
    "### COVID-19 data\n",
    "Kimberley Boersma (2572145), Neil Mizzi (2674737), Selma Muhammad (Stud no)"
   ]
  },
  {
   "cell_type": "code",
   "execution_count": 1,
   "metadata": {},
   "outputs": [],
   "source": [
    "# Imports\n",
    "import os\n",
    "import pandas as pd\n",
    "import csv\n",
    "import kaggle\n",
    "\n",
    "# other imports\n",
    "import numpy as np \n",
    "import matplotlib.pyplot as plt\n",
    "from sklearn.model_selection import train_test_split\n",
    "from sklearn.model_selection import GridSearchCV\n",
    "from sklearn.linear_model import ElasticNet\n",
    "from sklearn.linear_model import LinearRegression\n",
    "from sklearn.preprocessing import PolynomialFeatures\n",
    "from sklearn.metrics import mean_squared_error\n",
    "from copy import copy\n",
    "# import matplotlib.colors as mcolors\n",
    "# import random\n",
    "# import math\n",
    "# import time\n",
    "# from sklearn.linear_model import LinearRegression, BayesianRidge\n",
    "# from sklearn.model_selection import RandomizedSearchCV, train_test_split\n",
    "# from sklearn.preprocessing import PolynomialFeatures\n",
    "# from sklearn.tree import DecisionTreeRegressor\n",
    "# from sklearn.svm import SVR\n",
    "# from sklearn.metrics import mean_squared_error, mean_absolute_error\n",
    "from datetime import date, datetime\n",
    "from dateutil.parser import parse\n",
    "# import us\n",
    "# import operator \n",
    "# plt.style.use('fivethirtyeight')\n",
    "# %matplotlib inline "
   ]
  },
  {
   "cell_type": "markdown",
   "metadata": {},
   "source": [
    "# Covid Tracking Dataset (w/ hospitalised data)\n",
    "\n",
    "Source: https://covidtracking.com/"
   ]
  },
  {
   "cell_type": "markdown",
   "metadata": {},
   "source": [
    "## Step 1: Load and Clean the Data"
   ]
  },
  {
   "cell_type": "code",
   "execution_count": 2,
   "metadata": {},
   "outputs": [],
   "source": [
    "all_cases = pd.read_csv('https://covidtracking.com/api/v1/states/daily.csv')\n",
    "\n",
    "# Delete unecessary rows\n",
    "for row in ['negative', 'pending', 'hash', 'negativeIncrease', 'totalTestResults', 'totalTestResultsIncrease', 'dateChecked', 'fips', 'inIcuCumulative', 'onVentilatorCumulative', 'total', 'posNeg', 'deathIncrease', 'hospitalizedIncrease', 'positiveIncrease']:\n",
    "    del all_cases[row]\n",
    "\n",
    "# TODO missing values\n",
    "#      Do we get avg or missing values, or predict them?\n",
    "#      See https://developerzen.com/data-mining-handling-missing-values-the-database-bd2241882e72\n",
    "\n",
    "for i, row in all_cases.iterrows():\n",
    "    # Set Dates\n",
    "    s = str(row['date'])\n",
    "    all_cases.at[i, 'date'] = date(year=int(s[0:4]), month=int(s[4:6]), day=int(s[6:8]))\n",
    "    \n",
    "\n",
    "# Missing death figures means no death reports yet\n",
    "# These are set to 0\n",
    "for i, row in all_cases.iterrows():\n",
    "    if np.isnan(row['death']):\n",
    "        all_cases.at[i, 'death'] = 0"
   ]
  },
  {
   "cell_type": "markdown",
   "metadata": {},
   "source": [
    "## Missing values: Retrieving from other datasets or through merging columns (or both)\n",
    "\n",
    "The following will be done:\n",
    "- **Active Cases**: Retrieved from JHU dataset and calculating $active = pos-dead-recovered$\n",
    "- **Beds per State**: Retrieved from External Datasets"
   ]
  },
  {
   "cell_type": "code",
   "execution_count": 3,
   "metadata": {},
   "outputs": [],
   "source": [
    "# TODO Replace active cases with JHU and/or regression model (Selma)\n",
    "all_cases['active'] = all_cases['positive'] - all_cases['recovered'] - all_cases['death']\n",
    "# change location of 'active' column\n",
    "cols = list(all_cases)\n",
    "cols.insert(3, cols.pop(cols.index('active')))\n",
    "all_cases = all_cases.loc[:, cols]"
   ]
  },
  {
   "cell_type": "code",
   "execution_count": 4,
   "metadata": {},
   "outputs": [],
   "source": [
    "# Load datasets for US population and Hospital beds per 1000\n",
    "us_population = pd.read_csv('data/us_population.csv')\n",
    "hosp_beds = pd.read_csv('data/hospital_beds.csv')\n",
    "state_abbrev = pd.read_csv('data/us_state_names.csv')\n",
    "\n",
    "# add state abbreviations to us_population and hospital beds dataframe\n",
    "for state in state_abbrev['State'].tolist():\n",
    "    # store state abbreviation in variable\n",
    "    abbrev = state_abbrev.loc[state_abbrev['State'] == state, 'Abbreviation'].tolist()[0]\n",
    "    # add abbrev to new column 'Abbreviation' in us_population df\n",
    "    us_population.loc[us_population['State'] == state, 'Abbreviation'] = abbrev\n",
    "    # add abbrev to new column in hosp_beds df\n",
    "    hosp_beds.loc[hosp_beds['Location'] == state, 'Abbreviation'] = abbrev\n",
    "    \n",
    "# change order of columns of us_population\n",
    "cols = list(us_population)\n",
    "cols.insert(2, cols.pop(cols.index('Abbreviation')))\n",
    "us_population = us_population.loc[:, cols]\n",
    "\n",
    "# drop unnecessary columns of us_population\n",
    "us_population = us_population.drop(columns=['rank', 'Growth', 'Pop2018', 'Pop2010', 'growthSince2010', 'Percent', 'density'])\n",
    "\n",
    "# drop unnecessary columns of hosp_beds\n",
    "hosp_beds = hosp_beds.drop(columns=['Location', 'State/Local Government', 'Non-Profit', 'For-Profit'])\n",
    "\n",
    "# change order of columns of hosp_beds\n",
    "cols = list(hosp_beds)\n",
    "cols.insert(0, cols.pop(cols.index('Abbreviation')))\n",
    "hosp_beds = hosp_beds.loc[:, cols]"
   ]
  },
  {
   "cell_type": "code",
   "execution_count": 5,
   "metadata": {},
   "outputs": [
    {
     "output_type": "execute_result",
     "data": {
      "text/plain": "        State Abbreviation       Pop\n0     Alabama           AL   4908621\n1      Alaska           AK    734002\n2     Arizona           AZ   7378494\n3    Arkansas           AR   3038999\n4  California           CA  39937489",
      "text/html": "<div>\n<style scoped>\n    .dataframe tbody tr th:only-of-type {\n        vertical-align: middle;\n    }\n\n    .dataframe tbody tr th {\n        vertical-align: top;\n    }\n\n    .dataframe thead th {\n        text-align: right;\n    }\n</style>\n<table border=\"1\" class=\"dataframe\">\n  <thead>\n    <tr style=\"text-align: right;\">\n      <th></th>\n      <th>State</th>\n      <th>Abbreviation</th>\n      <th>Pop</th>\n    </tr>\n  </thead>\n  <tbody>\n    <tr>\n      <th>0</th>\n      <td>Alabama</td>\n      <td>AL</td>\n      <td>4908621</td>\n    </tr>\n    <tr>\n      <th>1</th>\n      <td>Alaska</td>\n      <td>AK</td>\n      <td>734002</td>\n    </tr>\n    <tr>\n      <th>2</th>\n      <td>Arizona</td>\n      <td>AZ</td>\n      <td>7378494</td>\n    </tr>\n    <tr>\n      <th>3</th>\n      <td>Arkansas</td>\n      <td>AR</td>\n      <td>3038999</td>\n    </tr>\n    <tr>\n      <th>4</th>\n      <td>California</td>\n      <td>CA</td>\n      <td>39937489</td>\n    </tr>\n  </tbody>\n</table>\n</div>"
     },
     "metadata": {},
     "execution_count": 5
    }
   ],
   "source": [
    "us_population.head()"
   ]
  },
  {
   "cell_type": "code",
   "execution_count": 6,
   "metadata": {},
   "outputs": [
    {
     "output_type": "execute_result",
     "data": {
      "text/plain": "  Abbreviation  Total\n0          NaN    2.4\n1           AL    3.1\n2           AK    2.2\n3           AZ    1.9\n4           AR    3.2",
      "text/html": "<div>\n<style scoped>\n    .dataframe tbody tr th:only-of-type {\n        vertical-align: middle;\n    }\n\n    .dataframe tbody tr th {\n        vertical-align: top;\n    }\n\n    .dataframe thead th {\n        text-align: right;\n    }\n</style>\n<table border=\"1\" class=\"dataframe\">\n  <thead>\n    <tr style=\"text-align: right;\">\n      <th></th>\n      <th>Abbreviation</th>\n      <th>Total</th>\n    </tr>\n  </thead>\n  <tbody>\n    <tr>\n      <th>0</th>\n      <td>NaN</td>\n      <td>2.4</td>\n    </tr>\n    <tr>\n      <th>1</th>\n      <td>AL</td>\n      <td>3.1</td>\n    </tr>\n    <tr>\n      <th>2</th>\n      <td>AK</td>\n      <td>2.2</td>\n    </tr>\n    <tr>\n      <th>3</th>\n      <td>AZ</td>\n      <td>1.9</td>\n    </tr>\n    <tr>\n      <th>4</th>\n      <td>AR</td>\n      <td>3.2</td>\n    </tr>\n  </tbody>\n</table>\n</div>"
     },
     "metadata": {},
     "execution_count": 6
    }
   ],
   "source": [
    "hosp_beds.head()"
   ]
  },
  {
   "cell_type": "code",
   "execution_count": 7,
   "metadata": {},
   "outputs": [],
   "source": [
    "# filter out non-existing states like 'AS'\n",
    "all_cases = all_cases[all_cases['state'].isin(state_abbrev['Abbreviation'].tolist())]"
   ]
  },
  {
   "cell_type": "code",
   "execution_count": 8,
   "metadata": {},
   "outputs": [
    {
     "output_type": "execute_result",
     "data": {
      "text/plain": "         date state  positive  active  hospitalizedCurrently  \\\n0  2020-05-03    AK     368.0    97.0                   12.0   \n1  2020-05-03    AL    7725.0     NaN                    NaN   \n2  2020-05-03    AR    3431.0  1356.0                  100.0   \n4  2020-05-03    AZ    8640.0  6681.0                  732.0   \n5  2020-05-03    CA   53616.0     NaN                 4734.0   \n\n   hospitalizedCumulative  inIcuCurrently  onVentilatorCurrently  recovered  \\\n0                     NaN             NaN                    NaN      262.0   \n1                  1035.0             NaN                    NaN        NaN   \n2                   427.0             NaN                   20.0     1999.0   \n4                  1348.0           282.0                  192.0     1597.0   \n5                     NaN          1468.0                    NaN        NaN   \n\n    death  hospitalized  \n0     9.0           NaN  \n1   290.0        1035.0  \n2    76.0         427.0  \n4   362.0        1348.0  \n5  2215.0           NaN  ",
      "text/html": "<div>\n<style scoped>\n    .dataframe tbody tr th:only-of-type {\n        vertical-align: middle;\n    }\n\n    .dataframe tbody tr th {\n        vertical-align: top;\n    }\n\n    .dataframe thead th {\n        text-align: right;\n    }\n</style>\n<table border=\"1\" class=\"dataframe\">\n  <thead>\n    <tr style=\"text-align: right;\">\n      <th></th>\n      <th>date</th>\n      <th>state</th>\n      <th>positive</th>\n      <th>active</th>\n      <th>hospitalizedCurrently</th>\n      <th>hospitalizedCumulative</th>\n      <th>inIcuCurrently</th>\n      <th>onVentilatorCurrently</th>\n      <th>recovered</th>\n      <th>death</th>\n      <th>hospitalized</th>\n    </tr>\n  </thead>\n  <tbody>\n    <tr>\n      <th>0</th>\n      <td>2020-05-03</td>\n      <td>AK</td>\n      <td>368.0</td>\n      <td>97.0</td>\n      <td>12.0</td>\n      <td>NaN</td>\n      <td>NaN</td>\n      <td>NaN</td>\n      <td>262.0</td>\n      <td>9.0</td>\n      <td>NaN</td>\n    </tr>\n    <tr>\n      <th>1</th>\n      <td>2020-05-03</td>\n      <td>AL</td>\n      <td>7725.0</td>\n      <td>NaN</td>\n      <td>NaN</td>\n      <td>1035.0</td>\n      <td>NaN</td>\n      <td>NaN</td>\n      <td>NaN</td>\n      <td>290.0</td>\n      <td>1035.0</td>\n    </tr>\n    <tr>\n      <th>2</th>\n      <td>2020-05-03</td>\n      <td>AR</td>\n      <td>3431.0</td>\n      <td>1356.0</td>\n      <td>100.0</td>\n      <td>427.0</td>\n      <td>NaN</td>\n      <td>20.0</td>\n      <td>1999.0</td>\n      <td>76.0</td>\n      <td>427.0</td>\n    </tr>\n    <tr>\n      <th>4</th>\n      <td>2020-05-03</td>\n      <td>AZ</td>\n      <td>8640.0</td>\n      <td>6681.0</td>\n      <td>732.0</td>\n      <td>1348.0</td>\n      <td>282.0</td>\n      <td>192.0</td>\n      <td>1597.0</td>\n      <td>362.0</td>\n      <td>1348.0</td>\n    </tr>\n    <tr>\n      <th>5</th>\n      <td>2020-05-03</td>\n      <td>CA</td>\n      <td>53616.0</td>\n      <td>NaN</td>\n      <td>4734.0</td>\n      <td>NaN</td>\n      <td>1468.0</td>\n      <td>NaN</td>\n      <td>NaN</td>\n      <td>2215.0</td>\n      <td>NaN</td>\n    </tr>\n  </tbody>\n</table>\n</div>"
     },
     "metadata": {},
     "execution_count": 8
    }
   ],
   "source": [
    "# see what filtered dataframe looks like\n",
    "all_cases.head()"
   ]
  },
  {
   "cell_type": "code",
   "execution_count": 9,
   "metadata": {},
   "outputs": [
    {
     "output_type": "execute_result",
     "data": {
      "text/plain": "            date state  positive  active  hospitalizedCurrently  \\\n2686  2020-03-17    WV       0.0     NaN                    NaN   \n2742  2020-03-16    WV       0.0     NaN                    NaN   \n2793  2020-03-15    WV       0.0     NaN                    NaN   \n2844  2020-03-14    WV       0.0     NaN                    NaN   \n2859  2020-03-13    ID       0.0     NaN                    NaN   \n...          ...   ...       ...     ...                    ...   \n3244  2020-03-05    NE       0.0     NaN                    NaN   \n3249  2020-03-05    OH       0.0     NaN                    NaN   \n3252  2020-03-05    SC       0.0     NaN                    NaN   \n3255  2020-03-05    VA       0.0     NaN                    NaN   \n3269  2020-03-04    SC       0.0     NaN                    NaN   \n\n      hospitalizedCumulative  inIcuCurrently  onVentilatorCurrently  \\\n2686                     NaN             NaN                    NaN   \n2742                     NaN             NaN                    NaN   \n2793                     NaN             NaN                    NaN   \n2844                     NaN             NaN                    NaN   \n2859                     NaN             NaN                    NaN   \n...                      ...             ...                    ...   \n3244                     NaN             NaN                    NaN   \n3249                     NaN             NaN                    NaN   \n3252                     NaN             NaN                    NaN   \n3255                     NaN             NaN                    NaN   \n3269                     NaN             NaN                    NaN   \n\n      recovered  death  hospitalized  \n2686        NaN    0.0           NaN  \n2742        NaN    0.0           NaN  \n2793        NaN    0.0           NaN  \n2844        NaN    0.0           NaN  \n2859        NaN    0.0           NaN  \n...         ...    ...           ...  \n3244        NaN    0.0           NaN  \n3249        NaN    0.0           NaN  \n3252        NaN    0.0           NaN  \n3255        NaN    0.0           NaN  \n3269        NaN    0.0           NaN  \n\n[107 rows x 11 columns]",
      "text/html": "<div>\n<style scoped>\n    .dataframe tbody tr th:only-of-type {\n        vertical-align: middle;\n    }\n\n    .dataframe tbody tr th {\n        vertical-align: top;\n    }\n\n    .dataframe thead th {\n        text-align: right;\n    }\n</style>\n<table border=\"1\" class=\"dataframe\">\n  <thead>\n    <tr style=\"text-align: right;\">\n      <th></th>\n      <th>date</th>\n      <th>state</th>\n      <th>positive</th>\n      <th>active</th>\n      <th>hospitalizedCurrently</th>\n      <th>hospitalizedCumulative</th>\n      <th>inIcuCurrently</th>\n      <th>onVentilatorCurrently</th>\n      <th>recovered</th>\n      <th>death</th>\n      <th>hospitalized</th>\n    </tr>\n  </thead>\n  <tbody>\n    <tr>\n      <th>2686</th>\n      <td>2020-03-17</td>\n      <td>WV</td>\n      <td>0.0</td>\n      <td>NaN</td>\n      <td>NaN</td>\n      <td>NaN</td>\n      <td>NaN</td>\n      <td>NaN</td>\n      <td>NaN</td>\n      <td>0.0</td>\n      <td>NaN</td>\n    </tr>\n    <tr>\n      <th>2742</th>\n      <td>2020-03-16</td>\n      <td>WV</td>\n      <td>0.0</td>\n      <td>NaN</td>\n      <td>NaN</td>\n      <td>NaN</td>\n      <td>NaN</td>\n      <td>NaN</td>\n      <td>NaN</td>\n      <td>0.0</td>\n      <td>NaN</td>\n    </tr>\n    <tr>\n      <th>2793</th>\n      <td>2020-03-15</td>\n      <td>WV</td>\n      <td>0.0</td>\n      <td>NaN</td>\n      <td>NaN</td>\n      <td>NaN</td>\n      <td>NaN</td>\n      <td>NaN</td>\n      <td>NaN</td>\n      <td>0.0</td>\n      <td>NaN</td>\n    </tr>\n    <tr>\n      <th>2844</th>\n      <td>2020-03-14</td>\n      <td>WV</td>\n      <td>0.0</td>\n      <td>NaN</td>\n      <td>NaN</td>\n      <td>NaN</td>\n      <td>NaN</td>\n      <td>NaN</td>\n      <td>NaN</td>\n      <td>0.0</td>\n      <td>NaN</td>\n    </tr>\n    <tr>\n      <th>2859</th>\n      <td>2020-03-13</td>\n      <td>ID</td>\n      <td>0.0</td>\n      <td>NaN</td>\n      <td>NaN</td>\n      <td>NaN</td>\n      <td>NaN</td>\n      <td>NaN</td>\n      <td>NaN</td>\n      <td>0.0</td>\n      <td>NaN</td>\n    </tr>\n    <tr>\n      <th>...</th>\n      <td>...</td>\n      <td>...</td>\n      <td>...</td>\n      <td>...</td>\n      <td>...</td>\n      <td>...</td>\n      <td>...</td>\n      <td>...</td>\n      <td>...</td>\n      <td>...</td>\n      <td>...</td>\n    </tr>\n    <tr>\n      <th>3244</th>\n      <td>2020-03-05</td>\n      <td>NE</td>\n      <td>0.0</td>\n      <td>NaN</td>\n      <td>NaN</td>\n      <td>NaN</td>\n      <td>NaN</td>\n      <td>NaN</td>\n      <td>NaN</td>\n      <td>0.0</td>\n      <td>NaN</td>\n    </tr>\n    <tr>\n      <th>3249</th>\n      <td>2020-03-05</td>\n      <td>OH</td>\n      <td>0.0</td>\n      <td>NaN</td>\n      <td>NaN</td>\n      <td>NaN</td>\n      <td>NaN</td>\n      <td>NaN</td>\n      <td>NaN</td>\n      <td>0.0</td>\n      <td>NaN</td>\n    </tr>\n    <tr>\n      <th>3252</th>\n      <td>2020-03-05</td>\n      <td>SC</td>\n      <td>0.0</td>\n      <td>NaN</td>\n      <td>NaN</td>\n      <td>NaN</td>\n      <td>NaN</td>\n      <td>NaN</td>\n      <td>NaN</td>\n      <td>0.0</td>\n      <td>NaN</td>\n    </tr>\n    <tr>\n      <th>3255</th>\n      <td>2020-03-05</td>\n      <td>VA</td>\n      <td>0.0</td>\n      <td>NaN</td>\n      <td>NaN</td>\n      <td>NaN</td>\n      <td>NaN</td>\n      <td>NaN</td>\n      <td>NaN</td>\n      <td>0.0</td>\n      <td>NaN</td>\n    </tr>\n    <tr>\n      <th>3269</th>\n      <td>2020-03-04</td>\n      <td>SC</td>\n      <td>0.0</td>\n      <td>NaN</td>\n      <td>NaN</td>\n      <td>NaN</td>\n      <td>NaN</td>\n      <td>NaN</td>\n      <td>NaN</td>\n      <td>0.0</td>\n      <td>NaN</td>\n    </tr>\n  </tbody>\n</table>\n<p>107 rows × 11 columns</p>\n</div>"
     },
     "metadata": {},
     "execution_count": 9
    }
   ],
   "source": [
    "# check which states have 0 positive cases\n",
    "all_cases.loc[all_cases['positive'] == 0]"
   ]
  },
  {
   "cell_type": "code",
   "execution_count": 10,
   "metadata": {},
   "outputs": [],
   "source": [
    "# Split dataframes by date\n",
    "df_split_by_date = dict(tuple(all_cases.groupby('date')))\n",
    "\n",
    "# Split dataframes by state\n",
    "df_split_by_state = dict(tuple(all_cases.groupby('state')))"
   ]
  },
  {
   "cell_type": "code",
   "execution_count": 11,
   "metadata": {},
   "outputs": [],
   "source": [
    "# merge dataframes us_population and all_cases\n",
    "df_merge_uspop = all_cases.merge(us_population, how='left', left_on='state', right_on='Abbreviation')\n",
    "df_merge_uspop = df_merge_uspop.drop(columns=['Abbreviation'])\n",
    "df_merge_uspop = df_merge_uspop.rename(columns={'Pop': 'population'})\n",
    "\n",
    "# change location of 'population' column\n",
    "cols = list(df_merge_uspop)\n",
    "cols.insert(2, cols.pop(cols.index('population')))\n",
    "df_merge_uspop = df_merge_uspop.loc[:, cols]\n",
    "\n",
    "# merge dataframes hosp_beds and df_merge_uspop\n",
    "df_merge_hosp = df_merge_uspop.merge(hosp_beds, how='left', left_on='state', right_on='Abbreviation')\n",
    "df_merge_hosp = df_merge_hosp.drop(columns=['Abbreviation'])\n",
    "all_cases = df_merge_hosp.rename(columns={'Total': 'bedsPerThousand'})"
   ]
  },
  {
   "cell_type": "code",
   "execution_count": 12,
   "metadata": {},
   "outputs": [
    {
     "output_type": "execute_result",
     "data": {
      "text/plain": "         date state  population  positive  active  hospitalizedCurrently  \\\n0  2020-05-03    AK      734002     368.0    97.0                   12.0   \n1  2020-05-03    AL     4908621    7725.0     NaN                    NaN   \n2  2020-05-03    AR     3038999    3431.0  1356.0                  100.0   \n3  2020-05-03    AZ     7378494    8640.0  6681.0                  732.0   \n4  2020-05-03    CA    39937489   53616.0     NaN                 4734.0   \n\n   hospitalizedCumulative  inIcuCurrently  onVentilatorCurrently  recovered  \\\n0                     NaN             NaN                    NaN      262.0   \n1                  1035.0             NaN                    NaN        NaN   \n2                   427.0             NaN                   20.0     1999.0   \n3                  1348.0           282.0                  192.0     1597.0   \n4                     NaN          1468.0                    NaN        NaN   \n\n    death  hospitalized       State  bedsPerThousand  \n0     9.0           NaN      Alaska              2.2  \n1   290.0        1035.0     Alabama              3.1  \n2    76.0         427.0    Arkansas              3.2  \n3   362.0        1348.0     Arizona              1.9  \n4  2215.0           NaN  California              1.8  ",
      "text/html": "<div>\n<style scoped>\n    .dataframe tbody tr th:only-of-type {\n        vertical-align: middle;\n    }\n\n    .dataframe tbody tr th {\n        vertical-align: top;\n    }\n\n    .dataframe thead th {\n        text-align: right;\n    }\n</style>\n<table border=\"1\" class=\"dataframe\">\n  <thead>\n    <tr style=\"text-align: right;\">\n      <th></th>\n      <th>date</th>\n      <th>state</th>\n      <th>population</th>\n      <th>positive</th>\n      <th>active</th>\n      <th>hospitalizedCurrently</th>\n      <th>hospitalizedCumulative</th>\n      <th>inIcuCurrently</th>\n      <th>onVentilatorCurrently</th>\n      <th>recovered</th>\n      <th>death</th>\n      <th>hospitalized</th>\n      <th>State</th>\n      <th>bedsPerThousand</th>\n    </tr>\n  </thead>\n  <tbody>\n    <tr>\n      <th>0</th>\n      <td>2020-05-03</td>\n      <td>AK</td>\n      <td>734002</td>\n      <td>368.0</td>\n      <td>97.0</td>\n      <td>12.0</td>\n      <td>NaN</td>\n      <td>NaN</td>\n      <td>NaN</td>\n      <td>262.0</td>\n      <td>9.0</td>\n      <td>NaN</td>\n      <td>Alaska</td>\n      <td>2.2</td>\n    </tr>\n    <tr>\n      <th>1</th>\n      <td>2020-05-03</td>\n      <td>AL</td>\n      <td>4908621</td>\n      <td>7725.0</td>\n      <td>NaN</td>\n      <td>NaN</td>\n      <td>1035.0</td>\n      <td>NaN</td>\n      <td>NaN</td>\n      <td>NaN</td>\n      <td>290.0</td>\n      <td>1035.0</td>\n      <td>Alabama</td>\n      <td>3.1</td>\n    </tr>\n    <tr>\n      <th>2</th>\n      <td>2020-05-03</td>\n      <td>AR</td>\n      <td>3038999</td>\n      <td>3431.0</td>\n      <td>1356.0</td>\n      <td>100.0</td>\n      <td>427.0</td>\n      <td>NaN</td>\n      <td>20.0</td>\n      <td>1999.0</td>\n      <td>76.0</td>\n      <td>427.0</td>\n      <td>Arkansas</td>\n      <td>3.2</td>\n    </tr>\n    <tr>\n      <th>3</th>\n      <td>2020-05-03</td>\n      <td>AZ</td>\n      <td>7378494</td>\n      <td>8640.0</td>\n      <td>6681.0</td>\n      <td>732.0</td>\n      <td>1348.0</td>\n      <td>282.0</td>\n      <td>192.0</td>\n      <td>1597.0</td>\n      <td>362.0</td>\n      <td>1348.0</td>\n      <td>Arizona</td>\n      <td>1.9</td>\n    </tr>\n    <tr>\n      <th>4</th>\n      <td>2020-05-03</td>\n      <td>CA</td>\n      <td>39937489</td>\n      <td>53616.0</td>\n      <td>NaN</td>\n      <td>4734.0</td>\n      <td>NaN</td>\n      <td>1468.0</td>\n      <td>NaN</td>\n      <td>NaN</td>\n      <td>2215.0</td>\n      <td>NaN</td>\n      <td>California</td>\n      <td>1.8</td>\n    </tr>\n  </tbody>\n</table>\n</div>"
     },
     "metadata": {},
     "execution_count": 12
    }
   ],
   "source": [
    "all_cases.head()"
   ]
  },
  {
   "cell_type": "code",
   "execution_count": 13,
   "metadata": {},
   "outputs": [
    {
     "output_type": "execute_result",
     "data": {
      "text/plain": "            date state  population  positive  active  hospitalizedCurrently  \\\n0     2020-05-03    AK      734002     368.0    97.0                   12.0   \n1     2020-05-03    AL     4908621    7725.0     NaN                    NaN   \n2     2020-05-03    AR     3038999    3431.0  1356.0                  100.0   \n3     2020-05-03    AZ     7378494    8640.0  6681.0                  732.0   \n4     2020-05-03    CA    39937489   53616.0     NaN                 4734.0   \n...          ...   ...         ...       ...     ...                    ...   \n3071  2020-01-26    WA     7797095       1.0     NaN                    NaN   \n3072  2020-01-25    WA     7797095       1.0     NaN                    NaN   \n3073  2020-01-24    WA     7797095       1.0     NaN                    NaN   \n3074  2020-01-23    WA     7797095       1.0     NaN                    NaN   \n3075  2020-01-22    WA     7797095       1.0     NaN                    NaN   \n\n      hospitalizedCumulative  inIcuCurrently  onVentilatorCurrently  \\\n0                        NaN             NaN                    NaN   \n1                     1035.0             NaN                    NaN   \n2                      427.0             NaN                   20.0   \n3                     1348.0           282.0                  192.0   \n4                        NaN          1468.0                    NaN   \n...                      ...             ...                    ...   \n3071                     NaN             NaN                    NaN   \n3072                     NaN             NaN                    NaN   \n3073                     NaN             NaN                    NaN   \n3074                     NaN             NaN                    NaN   \n3075                     NaN             NaN                    NaN   \n\n      recovered   death  hospitalized       State  bedsPerThousand  total_beds  \n0         262.0     9.0           NaN      Alaska              2.2   1614.8044  \n1           NaN   290.0        1035.0     Alabama              3.1  15216.7251  \n2        1999.0    76.0         427.0    Arkansas              3.2   9724.7968  \n3        1597.0   362.0        1348.0     Arizona              1.9  14019.1386  \n4           NaN  2215.0           NaN  California              1.8  71887.4802  \n...         ...     ...           ...         ...              ...         ...  \n3071        NaN     0.0           NaN  Washington              1.7  13255.0615  \n3072        NaN     0.0           NaN  Washington              1.7  13255.0615  \n3073        NaN     0.0           NaN  Washington              1.7  13255.0615  \n3074        NaN     0.0           NaN  Washington              1.7  13255.0615  \n3075        NaN     0.0           NaN  Washington              1.7  13255.0615  \n\n[3076 rows x 15 columns]",
      "text/html": "<div>\n<style scoped>\n    .dataframe tbody tr th:only-of-type {\n        vertical-align: middle;\n    }\n\n    .dataframe tbody tr th {\n        vertical-align: top;\n    }\n\n    .dataframe thead th {\n        text-align: right;\n    }\n</style>\n<table border=\"1\" class=\"dataframe\">\n  <thead>\n    <tr style=\"text-align: right;\">\n      <th></th>\n      <th>date</th>\n      <th>state</th>\n      <th>population</th>\n      <th>positive</th>\n      <th>active</th>\n      <th>hospitalizedCurrently</th>\n      <th>hospitalizedCumulative</th>\n      <th>inIcuCurrently</th>\n      <th>onVentilatorCurrently</th>\n      <th>recovered</th>\n      <th>death</th>\n      <th>hospitalized</th>\n      <th>State</th>\n      <th>bedsPerThousand</th>\n      <th>total_beds</th>\n    </tr>\n  </thead>\n  <tbody>\n    <tr>\n      <th>0</th>\n      <td>2020-05-03</td>\n      <td>AK</td>\n      <td>734002</td>\n      <td>368.0</td>\n      <td>97.0</td>\n      <td>12.0</td>\n      <td>NaN</td>\n      <td>NaN</td>\n      <td>NaN</td>\n      <td>262.0</td>\n      <td>9.0</td>\n      <td>NaN</td>\n      <td>Alaska</td>\n      <td>2.2</td>\n      <td>1614.8044</td>\n    </tr>\n    <tr>\n      <th>1</th>\n      <td>2020-05-03</td>\n      <td>AL</td>\n      <td>4908621</td>\n      <td>7725.0</td>\n      <td>NaN</td>\n      <td>NaN</td>\n      <td>1035.0</td>\n      <td>NaN</td>\n      <td>NaN</td>\n      <td>NaN</td>\n      <td>290.0</td>\n      <td>1035.0</td>\n      <td>Alabama</td>\n      <td>3.1</td>\n      <td>15216.7251</td>\n    </tr>\n    <tr>\n      <th>2</th>\n      <td>2020-05-03</td>\n      <td>AR</td>\n      <td>3038999</td>\n      <td>3431.0</td>\n      <td>1356.0</td>\n      <td>100.0</td>\n      <td>427.0</td>\n      <td>NaN</td>\n      <td>20.0</td>\n      <td>1999.0</td>\n      <td>76.0</td>\n      <td>427.0</td>\n      <td>Arkansas</td>\n      <td>3.2</td>\n      <td>9724.7968</td>\n    </tr>\n    <tr>\n      <th>3</th>\n      <td>2020-05-03</td>\n      <td>AZ</td>\n      <td>7378494</td>\n      <td>8640.0</td>\n      <td>6681.0</td>\n      <td>732.0</td>\n      <td>1348.0</td>\n      <td>282.0</td>\n      <td>192.0</td>\n      <td>1597.0</td>\n      <td>362.0</td>\n      <td>1348.0</td>\n      <td>Arizona</td>\n      <td>1.9</td>\n      <td>14019.1386</td>\n    </tr>\n    <tr>\n      <th>4</th>\n      <td>2020-05-03</td>\n      <td>CA</td>\n      <td>39937489</td>\n      <td>53616.0</td>\n      <td>NaN</td>\n      <td>4734.0</td>\n      <td>NaN</td>\n      <td>1468.0</td>\n      <td>NaN</td>\n      <td>NaN</td>\n      <td>2215.0</td>\n      <td>NaN</td>\n      <td>California</td>\n      <td>1.8</td>\n      <td>71887.4802</td>\n    </tr>\n    <tr>\n      <th>...</th>\n      <td>...</td>\n      <td>...</td>\n      <td>...</td>\n      <td>...</td>\n      <td>...</td>\n      <td>...</td>\n      <td>...</td>\n      <td>...</td>\n      <td>...</td>\n      <td>...</td>\n      <td>...</td>\n      <td>...</td>\n      <td>...</td>\n      <td>...</td>\n      <td>...</td>\n    </tr>\n    <tr>\n      <th>3071</th>\n      <td>2020-01-26</td>\n      <td>WA</td>\n      <td>7797095</td>\n      <td>1.0</td>\n      <td>NaN</td>\n      <td>NaN</td>\n      <td>NaN</td>\n      <td>NaN</td>\n      <td>NaN</td>\n      <td>NaN</td>\n      <td>0.0</td>\n      <td>NaN</td>\n      <td>Washington</td>\n      <td>1.7</td>\n      <td>13255.0615</td>\n    </tr>\n    <tr>\n      <th>3072</th>\n      <td>2020-01-25</td>\n      <td>WA</td>\n      <td>7797095</td>\n      <td>1.0</td>\n      <td>NaN</td>\n      <td>NaN</td>\n      <td>NaN</td>\n      <td>NaN</td>\n      <td>NaN</td>\n      <td>NaN</td>\n      <td>0.0</td>\n      <td>NaN</td>\n      <td>Washington</td>\n      <td>1.7</td>\n      <td>13255.0615</td>\n    </tr>\n    <tr>\n      <th>3073</th>\n      <td>2020-01-24</td>\n      <td>WA</td>\n      <td>7797095</td>\n      <td>1.0</td>\n      <td>NaN</td>\n      <td>NaN</td>\n      <td>NaN</td>\n      <td>NaN</td>\n      <td>NaN</td>\n      <td>NaN</td>\n      <td>0.0</td>\n      <td>NaN</td>\n      <td>Washington</td>\n      <td>1.7</td>\n      <td>13255.0615</td>\n    </tr>\n    <tr>\n      <th>3074</th>\n      <td>2020-01-23</td>\n      <td>WA</td>\n      <td>7797095</td>\n      <td>1.0</td>\n      <td>NaN</td>\n      <td>NaN</td>\n      <td>NaN</td>\n      <td>NaN</td>\n      <td>NaN</td>\n      <td>NaN</td>\n      <td>0.0</td>\n      <td>NaN</td>\n      <td>Washington</td>\n      <td>1.7</td>\n      <td>13255.0615</td>\n    </tr>\n    <tr>\n      <th>3075</th>\n      <td>2020-01-22</td>\n      <td>WA</td>\n      <td>7797095</td>\n      <td>1.0</td>\n      <td>NaN</td>\n      <td>NaN</td>\n      <td>NaN</td>\n      <td>NaN</td>\n      <td>NaN</td>\n      <td>NaN</td>\n      <td>0.0</td>\n      <td>NaN</td>\n      <td>Washington</td>\n      <td>1.7</td>\n      <td>13255.0615</td>\n    </tr>\n  </tbody>\n</table>\n<p>3076 rows × 15 columns</p>\n</div>"
     },
     "metadata": {},
     "execution_count": 13
    }
   ],
   "source": [
    "# Calculate the total beds, and add the column\n",
    "all_cases['total_beds'] = all_cases['population'] / 1000 * all_cases['bedsPerThousand']\n",
    "all_cases"
   ]
  },
  {
   "cell_type": "code",
   "execution_count": 14,
   "metadata": {},
   "outputs": [],
   "source": [
    "# change abbreviations to state names\n",
    "all_cases = all_cases.rename(columns={'state': 'abbrev'})\n",
    "all_cases = all_cases.rename(columns={'State': 'state'})"
   ]
  },
  {
   "cell_type": "code",
   "execution_count": 15,
   "metadata": {},
   "outputs": [],
   "source": [
    "# change location of 'state' column\n",
    "cols = list(all_cases)\n",
    "cols.insert(1, cols.pop(cols.index('state')))\n",
    "all_cases = all_cases.loc[:, cols]"
   ]
  },
  {
   "cell_type": "code",
   "execution_count": 16,
   "metadata": {},
   "outputs": [
    {
     "output_type": "execute_result",
     "data": {
      "text/plain": "            date       state abbrev  population  positive  active  \\\n0     2020-05-03      Alaska     AK      734002     368.0    97.0   \n1     2020-05-03     Alabama     AL     4908621    7725.0     NaN   \n2     2020-05-03    Arkansas     AR     3038999    3431.0  1356.0   \n3     2020-05-03     Arizona     AZ     7378494    8640.0  6681.0   \n4     2020-05-03  California     CA    39937489   53616.0     NaN   \n...          ...         ...    ...         ...       ...     ...   \n3071  2020-01-26  Washington     WA     7797095       1.0     NaN   \n3072  2020-01-25  Washington     WA     7797095       1.0     NaN   \n3073  2020-01-24  Washington     WA     7797095       1.0     NaN   \n3074  2020-01-23  Washington     WA     7797095       1.0     NaN   \n3075  2020-01-22  Washington     WA     7797095       1.0     NaN   \n\n      hospitalizedCurrently  hospitalizedCumulative  inIcuCurrently  \\\n0                      12.0                     NaN             NaN   \n1                       NaN                  1035.0             NaN   \n2                     100.0                   427.0             NaN   \n3                     732.0                  1348.0           282.0   \n4                    4734.0                     NaN          1468.0   \n...                     ...                     ...             ...   \n3071                    NaN                     NaN             NaN   \n3072                    NaN                     NaN             NaN   \n3073                    NaN                     NaN             NaN   \n3074                    NaN                     NaN             NaN   \n3075                    NaN                     NaN             NaN   \n\n      onVentilatorCurrently  recovered   death  hospitalized  bedsPerThousand  \\\n0                       NaN      262.0     9.0           NaN              2.2   \n1                       NaN        NaN   290.0        1035.0              3.1   \n2                      20.0     1999.0    76.0         427.0              3.2   \n3                     192.0     1597.0   362.0        1348.0              1.9   \n4                       NaN        NaN  2215.0           NaN              1.8   \n...                     ...        ...     ...           ...              ...   \n3071                    NaN        NaN     0.0           NaN              1.7   \n3072                    NaN        NaN     0.0           NaN              1.7   \n3073                    NaN        NaN     0.0           NaN              1.7   \n3074                    NaN        NaN     0.0           NaN              1.7   \n3075                    NaN        NaN     0.0           NaN              1.7   \n\n      total_beds  \n0      1614.8044  \n1     15216.7251  \n2      9724.7968  \n3     14019.1386  \n4     71887.4802  \n...          ...  \n3071  13255.0615  \n3072  13255.0615  \n3073  13255.0615  \n3074  13255.0615  \n3075  13255.0615  \n\n[3076 rows x 15 columns]",
      "text/html": "<div>\n<style scoped>\n    .dataframe tbody tr th:only-of-type {\n        vertical-align: middle;\n    }\n\n    .dataframe tbody tr th {\n        vertical-align: top;\n    }\n\n    .dataframe thead th {\n        text-align: right;\n    }\n</style>\n<table border=\"1\" class=\"dataframe\">\n  <thead>\n    <tr style=\"text-align: right;\">\n      <th></th>\n      <th>date</th>\n      <th>state</th>\n      <th>abbrev</th>\n      <th>population</th>\n      <th>positive</th>\n      <th>active</th>\n      <th>hospitalizedCurrently</th>\n      <th>hospitalizedCumulative</th>\n      <th>inIcuCurrently</th>\n      <th>onVentilatorCurrently</th>\n      <th>recovered</th>\n      <th>death</th>\n      <th>hospitalized</th>\n      <th>bedsPerThousand</th>\n      <th>total_beds</th>\n    </tr>\n  </thead>\n  <tbody>\n    <tr>\n      <th>0</th>\n      <td>2020-05-03</td>\n      <td>Alaska</td>\n      <td>AK</td>\n      <td>734002</td>\n      <td>368.0</td>\n      <td>97.0</td>\n      <td>12.0</td>\n      <td>NaN</td>\n      <td>NaN</td>\n      <td>NaN</td>\n      <td>262.0</td>\n      <td>9.0</td>\n      <td>NaN</td>\n      <td>2.2</td>\n      <td>1614.8044</td>\n    </tr>\n    <tr>\n      <th>1</th>\n      <td>2020-05-03</td>\n      <td>Alabama</td>\n      <td>AL</td>\n      <td>4908621</td>\n      <td>7725.0</td>\n      <td>NaN</td>\n      <td>NaN</td>\n      <td>1035.0</td>\n      <td>NaN</td>\n      <td>NaN</td>\n      <td>NaN</td>\n      <td>290.0</td>\n      <td>1035.0</td>\n      <td>3.1</td>\n      <td>15216.7251</td>\n    </tr>\n    <tr>\n      <th>2</th>\n      <td>2020-05-03</td>\n      <td>Arkansas</td>\n      <td>AR</td>\n      <td>3038999</td>\n      <td>3431.0</td>\n      <td>1356.0</td>\n      <td>100.0</td>\n      <td>427.0</td>\n      <td>NaN</td>\n      <td>20.0</td>\n      <td>1999.0</td>\n      <td>76.0</td>\n      <td>427.0</td>\n      <td>3.2</td>\n      <td>9724.7968</td>\n    </tr>\n    <tr>\n      <th>3</th>\n      <td>2020-05-03</td>\n      <td>Arizona</td>\n      <td>AZ</td>\n      <td>7378494</td>\n      <td>8640.0</td>\n      <td>6681.0</td>\n      <td>732.0</td>\n      <td>1348.0</td>\n      <td>282.0</td>\n      <td>192.0</td>\n      <td>1597.0</td>\n      <td>362.0</td>\n      <td>1348.0</td>\n      <td>1.9</td>\n      <td>14019.1386</td>\n    </tr>\n    <tr>\n      <th>4</th>\n      <td>2020-05-03</td>\n      <td>California</td>\n      <td>CA</td>\n      <td>39937489</td>\n      <td>53616.0</td>\n      <td>NaN</td>\n      <td>4734.0</td>\n      <td>NaN</td>\n      <td>1468.0</td>\n      <td>NaN</td>\n      <td>NaN</td>\n      <td>2215.0</td>\n      <td>NaN</td>\n      <td>1.8</td>\n      <td>71887.4802</td>\n    </tr>\n    <tr>\n      <th>...</th>\n      <td>...</td>\n      <td>...</td>\n      <td>...</td>\n      <td>...</td>\n      <td>...</td>\n      <td>...</td>\n      <td>...</td>\n      <td>...</td>\n      <td>...</td>\n      <td>...</td>\n      <td>...</td>\n      <td>...</td>\n      <td>...</td>\n      <td>...</td>\n      <td>...</td>\n    </tr>\n    <tr>\n      <th>3071</th>\n      <td>2020-01-26</td>\n      <td>Washington</td>\n      <td>WA</td>\n      <td>7797095</td>\n      <td>1.0</td>\n      <td>NaN</td>\n      <td>NaN</td>\n      <td>NaN</td>\n      <td>NaN</td>\n      <td>NaN</td>\n      <td>NaN</td>\n      <td>0.0</td>\n      <td>NaN</td>\n      <td>1.7</td>\n      <td>13255.0615</td>\n    </tr>\n    <tr>\n      <th>3072</th>\n      <td>2020-01-25</td>\n      <td>Washington</td>\n      <td>WA</td>\n      <td>7797095</td>\n      <td>1.0</td>\n      <td>NaN</td>\n      <td>NaN</td>\n      <td>NaN</td>\n      <td>NaN</td>\n      <td>NaN</td>\n      <td>NaN</td>\n      <td>0.0</td>\n      <td>NaN</td>\n      <td>1.7</td>\n      <td>13255.0615</td>\n    </tr>\n    <tr>\n      <th>3073</th>\n      <td>2020-01-24</td>\n      <td>Washington</td>\n      <td>WA</td>\n      <td>7797095</td>\n      <td>1.0</td>\n      <td>NaN</td>\n      <td>NaN</td>\n      <td>NaN</td>\n      <td>NaN</td>\n      <td>NaN</td>\n      <td>NaN</td>\n      <td>0.0</td>\n      <td>NaN</td>\n      <td>1.7</td>\n      <td>13255.0615</td>\n    </tr>\n    <tr>\n      <th>3074</th>\n      <td>2020-01-23</td>\n      <td>Washington</td>\n      <td>WA</td>\n      <td>7797095</td>\n      <td>1.0</td>\n      <td>NaN</td>\n      <td>NaN</td>\n      <td>NaN</td>\n      <td>NaN</td>\n      <td>NaN</td>\n      <td>NaN</td>\n      <td>0.0</td>\n      <td>NaN</td>\n      <td>1.7</td>\n      <td>13255.0615</td>\n    </tr>\n    <tr>\n      <th>3075</th>\n      <td>2020-01-22</td>\n      <td>Washington</td>\n      <td>WA</td>\n      <td>7797095</td>\n      <td>1.0</td>\n      <td>NaN</td>\n      <td>NaN</td>\n      <td>NaN</td>\n      <td>NaN</td>\n      <td>NaN</td>\n      <td>NaN</td>\n      <td>0.0</td>\n      <td>NaN</td>\n      <td>1.7</td>\n      <td>13255.0615</td>\n    </tr>\n  </tbody>\n</table>\n<p>3076 rows × 15 columns</p>\n</div>"
     },
     "metadata": {},
     "execution_count": 16
    }
   ],
   "source": [
    "all_cases"
   ]
  },
  {
   "cell_type": "markdown",
   "metadata": {},
   "source": [
    "- Load and clean JHU data\n",
    "- Merge JHU dataset with main dataset"
   ]
  },
  {
   "cell_type": "code",
   "execution_count": 17,
   "metadata": {},
   "outputs": [],
   "source": [
    "# This cell takes some time, as it needs to connect to Kaggle Servers to retrieve data\n",
    "kaggle.api.authenticate()\n",
    "kaggle.api.dataset_download_files('benhamner/jhucovid19', path='./kaggle/input/jhucovid19/', unzip=True)"
   ]
  },
  {
   "cell_type": "code",
   "execution_count": 18,
   "metadata": {},
   "outputs": [
    {
     "output_type": "execute_result",
     "data": {
      "text/plain": "      LastUpdate  ProvinceState   Active  Confirmed  Deaths  Recovered\n0     2020-01-22     Washington      0.0        1.0     0.0        0.0\n1     2020-01-23     Washington      0.0        1.0     0.0        0.0\n2     2020-01-24     Washington      0.0        1.0     0.0        0.0\n3     2020-01-25       Illinois      0.0        1.0     0.0        0.0\n4     2020-01-25     Washington      0.0        1.0     0.0        0.0\n...          ...            ...      ...        ...     ...        ...\n2799  2020-05-03       Virginia  17121.0    17738.0   617.0        0.0\n2800  2020-05-03     Washington  14173.0    15003.0   830.0        0.0\n2801  2020-05-03  West Virginia   1137.0     1185.0    48.0        0.0\n2802  2020-05-03      Wisconsin   7326.0     7660.0   334.0        0.0\n2803  2020-05-03        Wyoming    572.0      579.0     7.0        0.0\n\n[2804 rows x 6 columns]",
      "text/html": "<div>\n<style scoped>\n    .dataframe tbody tr th:only-of-type {\n        vertical-align: middle;\n    }\n\n    .dataframe tbody tr th {\n        vertical-align: top;\n    }\n\n    .dataframe thead th {\n        text-align: right;\n    }\n</style>\n<table border=\"1\" class=\"dataframe\">\n  <thead>\n    <tr style=\"text-align: right;\">\n      <th></th>\n      <th>LastUpdate</th>\n      <th>ProvinceState</th>\n      <th>Active</th>\n      <th>Confirmed</th>\n      <th>Deaths</th>\n      <th>Recovered</th>\n    </tr>\n  </thead>\n  <tbody>\n    <tr>\n      <th>0</th>\n      <td>2020-01-22</td>\n      <td>Washington</td>\n      <td>0.0</td>\n      <td>1.0</td>\n      <td>0.0</td>\n      <td>0.0</td>\n    </tr>\n    <tr>\n      <th>1</th>\n      <td>2020-01-23</td>\n      <td>Washington</td>\n      <td>0.0</td>\n      <td>1.0</td>\n      <td>0.0</td>\n      <td>0.0</td>\n    </tr>\n    <tr>\n      <th>2</th>\n      <td>2020-01-24</td>\n      <td>Washington</td>\n      <td>0.0</td>\n      <td>1.0</td>\n      <td>0.0</td>\n      <td>0.0</td>\n    </tr>\n    <tr>\n      <th>3</th>\n      <td>2020-01-25</td>\n      <td>Illinois</td>\n      <td>0.0</td>\n      <td>1.0</td>\n      <td>0.0</td>\n      <td>0.0</td>\n    </tr>\n    <tr>\n      <th>4</th>\n      <td>2020-01-25</td>\n      <td>Washington</td>\n      <td>0.0</td>\n      <td>1.0</td>\n      <td>0.0</td>\n      <td>0.0</td>\n    </tr>\n    <tr>\n      <th>...</th>\n      <td>...</td>\n      <td>...</td>\n      <td>...</td>\n      <td>...</td>\n      <td>...</td>\n      <td>...</td>\n    </tr>\n    <tr>\n      <th>2799</th>\n      <td>2020-05-03</td>\n      <td>Virginia</td>\n      <td>17121.0</td>\n      <td>17738.0</td>\n      <td>617.0</td>\n      <td>0.0</td>\n    </tr>\n    <tr>\n      <th>2800</th>\n      <td>2020-05-03</td>\n      <td>Washington</td>\n      <td>14173.0</td>\n      <td>15003.0</td>\n      <td>830.0</td>\n      <td>0.0</td>\n    </tr>\n    <tr>\n      <th>2801</th>\n      <td>2020-05-03</td>\n      <td>West Virginia</td>\n      <td>1137.0</td>\n      <td>1185.0</td>\n      <td>48.0</td>\n      <td>0.0</td>\n    </tr>\n    <tr>\n      <th>2802</th>\n      <td>2020-05-03</td>\n      <td>Wisconsin</td>\n      <td>7326.0</td>\n      <td>7660.0</td>\n      <td>334.0</td>\n      <td>0.0</td>\n    </tr>\n    <tr>\n      <th>2803</th>\n      <td>2020-05-03</td>\n      <td>Wyoming</td>\n      <td>572.0</td>\n      <td>579.0</td>\n      <td>7.0</td>\n      <td>0.0</td>\n    </tr>\n  </tbody>\n</table>\n<p>2804 rows × 6 columns</p>\n</div>"
     },
     "metadata": {},
     "execution_count": 18
    }
   ],
   "source": [
    "# Get Time-Series Data of cases as Pandas DataFrame\n",
    "dir_jhu = './kaggle/input/jhucovid19/csse_covid_19_data/csse_covid_19_daily_reports'\n",
    "\n",
    "df_list = []\n",
    "for dirname, _, files in os.walk(dir_jhu):\n",
    "    for file in files:\n",
    "        if 'gitignore' not in file and 'README' not in file:\n",
    "            full_dir = os.path.join(dirname, file)\n",
    "            #print(full_dir)\n",
    "            df_list.append(pd.read_csv(full_dir))\n",
    "jhu_df = pd.concat(df_list, axis=0, ignore_index=True, sort=True)\n",
    "\n",
    "# combine Last Update with Last_Update\n",
    "jhu_df['LastUpdate'] = jhu_df['Last_Update'].combine_first(jhu_df['Last Update'])\n",
    "\n",
    "# format dates with parser\n",
    "for i, row in jhu_df.iterrows():\n",
    "    # update dates\n",
    "    jhu_df.at[i, 'LastUpdate'] = parse(jhu_df.at[i, 'LastUpdate']).date()\n",
    "\n",
    "# combine Country/Region with Country_Region\n",
    "jhu_df['CountryRegion'] = jhu_df['Country/Region'].combine_first(jhu_df['Country_Region'])\n",
    "\n",
    "# Retrieve only US data\n",
    "jhu_df = jhu_df[jhu_df['CountryRegion']=='US']\n",
    "\n",
    "# combine Province/State with Province_State\n",
    "jhu_df['ProvinceState'] = jhu_df['Province/State'].combine_first(jhu_df['Province_State'])\n",
    "\n",
    "# drop unnecessary columns\n",
    "jhu_df = jhu_df.drop(['Admin2', 'Lat', 'Latitude', 'Long_', 'Longitude', 'Combined_Key', 'Country/Region',\n",
    "                      'Country_Region', 'Province/State', 'Province_State',\n",
    "                      'Last Update', 'Last_Update', 'FIPS'], axis=1)\n",
    "\n",
    "# change column order\n",
    "cols = list(jhu_df)\n",
    "cols.insert(0, cols.pop(cols.index('CountryRegion')))\n",
    "cols.insert(1, cols.pop(cols.index('ProvinceState')))\n",
    "cols.insert(2, cols.pop(cols.index('LastUpdate')))\n",
    "jhu_df = jhu_df.loc[:, cols]\n",
    "\n",
    "# Change region to known US states\n",
    "import us\n",
    "state_abbrs = []\n",
    "for state in us.states.STATES:\n",
    "    state_abbrs.append(state.abbr)\n",
    "\n",
    "for i, row in jhu_df.iterrows():\n",
    "    for j in state_abbrs:\n",
    "        if j in jhu_df.at[i, 'ProvinceState']:\n",
    "            jhu_df.at[i, 'ProvinceState'] = us.states.lookup(j).name\n",
    "        if jhu_df.at[i, 'ProvinceState'] == 'Washington, D.C.':\n",
    "            jhu_df.at[i, 'ProvinceState'] = 'District of Columbia'\n",
    "\n",
    "# Filter out unknown states\n",
    "jhu_df = jhu_df[jhu_df['ProvinceState'].isin(list(all_cases.state.unique()))]\n",
    "\n",
    "# Merge-sum rows with same date and State\n",
    "jhu_df = jhu_df.groupby(['LastUpdate', 'ProvinceState']).agg(\n",
    "    {\n",
    "        'Active': sum,\n",
    "        'Confirmed': sum,\n",
    "        'Deaths': sum,\n",
    "        'Recovered': sum\n",
    "    }\n",
    ").reset_index()\n",
    "\n",
    "jhu_df"
   ]
  },
  {
   "cell_type": "code",
   "execution_count": 19,
   "metadata": {},
   "outputs": [
    {
     "output_type": "execute_result",
     "data": {
      "text/plain": "            date       state abbrev  population  positive   active  \\\n0     2020-05-03      Alaska     AK      734002     368.0    356.0   \n1     2020-05-03     Alabama     AL     4908621    7725.0   7435.0   \n2     2020-05-03    Arkansas     AR     3038999    3431.0   3300.0   \n3     2020-05-03     Arizona     AZ     7378494    8640.0   8034.0   \n4     2020-05-03  California     CA    39937489   53616.0  51401.0   \n...          ...         ...    ...         ...       ...      ...   \n3071  2020-01-26  Washington     WA     7797095       1.0      1.0   \n3072  2020-01-25  Washington     WA     7797095       1.0      1.0   \n3073  2020-01-24  Washington     WA     7797095       1.0      1.0   \n3074  2020-01-23  Washington     WA     7797095       1.0      1.0   \n3075  2020-01-22  Washington     WA     7797095       1.0      1.0   \n\n      hospitalizedCurrently  hospitalizedCumulative  inIcuCurrently  \\\n0                      12.0                     NaN             NaN   \n1                       NaN                  1035.0             NaN   \n2                     100.0                   427.0             NaN   \n3                     732.0                  1348.0           282.0   \n4                    4734.0                     NaN          1468.0   \n...                     ...                     ...             ...   \n3071                    NaN                     NaN             NaN   \n3072                    NaN                     NaN             NaN   \n3073                    NaN                     NaN             NaN   \n3074                    NaN                     NaN             NaN   \n3075                    NaN                     NaN             NaN   \n\n      onVentilatorCurrently  recovered   death  hospitalized  bedsPerThousand  \\\n0                       NaN      262.0     9.0           NaN              2.2   \n1                       NaN        0.0   290.0        1035.0              3.1   \n2                      20.0     1999.0    76.0         427.0              3.2   \n3                     192.0     1597.0   362.0        1348.0              1.9   \n4                       NaN        0.0  2215.0           NaN              1.8   \n...                     ...        ...     ...           ...              ...   \n3071                    NaN        0.0     0.0           NaN              1.7   \n3072                    NaN        0.0     0.0           NaN              1.7   \n3073                    NaN        0.0     0.0           NaN              1.7   \n3074                    NaN        0.0     0.0           NaN              1.7   \n3075                    NaN        0.0     0.0           NaN              1.7   \n\n      total_beds  \n0      1614.8044  \n1     15216.7251  \n2      9724.7968  \n3     14019.1386  \n4     71887.4802  \n...          ...  \n3071  13255.0615  \n3072  13255.0615  \n3073  13255.0615  \n3074  13255.0615  \n3075  13255.0615  \n\n[3076 rows x 15 columns]",
      "text/html": "<div>\n<style scoped>\n    .dataframe tbody tr th:only-of-type {\n        vertical-align: middle;\n    }\n\n    .dataframe tbody tr th {\n        vertical-align: top;\n    }\n\n    .dataframe thead th {\n        text-align: right;\n    }\n</style>\n<table border=\"1\" class=\"dataframe\">\n  <thead>\n    <tr style=\"text-align: right;\">\n      <th></th>\n      <th>date</th>\n      <th>state</th>\n      <th>abbrev</th>\n      <th>population</th>\n      <th>positive</th>\n      <th>active</th>\n      <th>hospitalizedCurrently</th>\n      <th>hospitalizedCumulative</th>\n      <th>inIcuCurrently</th>\n      <th>onVentilatorCurrently</th>\n      <th>recovered</th>\n      <th>death</th>\n      <th>hospitalized</th>\n      <th>bedsPerThousand</th>\n      <th>total_beds</th>\n    </tr>\n  </thead>\n  <tbody>\n    <tr>\n      <th>0</th>\n      <td>2020-05-03</td>\n      <td>Alaska</td>\n      <td>AK</td>\n      <td>734002</td>\n      <td>368.0</td>\n      <td>356.0</td>\n      <td>12.0</td>\n      <td>NaN</td>\n      <td>NaN</td>\n      <td>NaN</td>\n      <td>262.0</td>\n      <td>9.0</td>\n      <td>NaN</td>\n      <td>2.2</td>\n      <td>1614.8044</td>\n    </tr>\n    <tr>\n      <th>1</th>\n      <td>2020-05-03</td>\n      <td>Alabama</td>\n      <td>AL</td>\n      <td>4908621</td>\n      <td>7725.0</td>\n      <td>7435.0</td>\n      <td>NaN</td>\n      <td>1035.0</td>\n      <td>NaN</td>\n      <td>NaN</td>\n      <td>0.0</td>\n      <td>290.0</td>\n      <td>1035.0</td>\n      <td>3.1</td>\n      <td>15216.7251</td>\n    </tr>\n    <tr>\n      <th>2</th>\n      <td>2020-05-03</td>\n      <td>Arkansas</td>\n      <td>AR</td>\n      <td>3038999</td>\n      <td>3431.0</td>\n      <td>3300.0</td>\n      <td>100.0</td>\n      <td>427.0</td>\n      <td>NaN</td>\n      <td>20.0</td>\n      <td>1999.0</td>\n      <td>76.0</td>\n      <td>427.0</td>\n      <td>3.2</td>\n      <td>9724.7968</td>\n    </tr>\n    <tr>\n      <th>3</th>\n      <td>2020-05-03</td>\n      <td>Arizona</td>\n      <td>AZ</td>\n      <td>7378494</td>\n      <td>8640.0</td>\n      <td>8034.0</td>\n      <td>732.0</td>\n      <td>1348.0</td>\n      <td>282.0</td>\n      <td>192.0</td>\n      <td>1597.0</td>\n      <td>362.0</td>\n      <td>1348.0</td>\n      <td>1.9</td>\n      <td>14019.1386</td>\n    </tr>\n    <tr>\n      <th>4</th>\n      <td>2020-05-03</td>\n      <td>California</td>\n      <td>CA</td>\n      <td>39937489</td>\n      <td>53616.0</td>\n      <td>51401.0</td>\n      <td>4734.0</td>\n      <td>NaN</td>\n      <td>1468.0</td>\n      <td>NaN</td>\n      <td>0.0</td>\n      <td>2215.0</td>\n      <td>NaN</td>\n      <td>1.8</td>\n      <td>71887.4802</td>\n    </tr>\n    <tr>\n      <th>...</th>\n      <td>...</td>\n      <td>...</td>\n      <td>...</td>\n      <td>...</td>\n      <td>...</td>\n      <td>...</td>\n      <td>...</td>\n      <td>...</td>\n      <td>...</td>\n      <td>...</td>\n      <td>...</td>\n      <td>...</td>\n      <td>...</td>\n      <td>...</td>\n      <td>...</td>\n    </tr>\n    <tr>\n      <th>3071</th>\n      <td>2020-01-26</td>\n      <td>Washington</td>\n      <td>WA</td>\n      <td>7797095</td>\n      <td>1.0</td>\n      <td>1.0</td>\n      <td>NaN</td>\n      <td>NaN</td>\n      <td>NaN</td>\n      <td>NaN</td>\n      <td>0.0</td>\n      <td>0.0</td>\n      <td>NaN</td>\n      <td>1.7</td>\n      <td>13255.0615</td>\n    </tr>\n    <tr>\n      <th>3072</th>\n      <td>2020-01-25</td>\n      <td>Washington</td>\n      <td>WA</td>\n      <td>7797095</td>\n      <td>1.0</td>\n      <td>1.0</td>\n      <td>NaN</td>\n      <td>NaN</td>\n      <td>NaN</td>\n      <td>NaN</td>\n      <td>0.0</td>\n      <td>0.0</td>\n      <td>NaN</td>\n      <td>1.7</td>\n      <td>13255.0615</td>\n    </tr>\n    <tr>\n      <th>3073</th>\n      <td>2020-01-24</td>\n      <td>Washington</td>\n      <td>WA</td>\n      <td>7797095</td>\n      <td>1.0</td>\n      <td>1.0</td>\n      <td>NaN</td>\n      <td>NaN</td>\n      <td>NaN</td>\n      <td>NaN</td>\n      <td>0.0</td>\n      <td>0.0</td>\n      <td>NaN</td>\n      <td>1.7</td>\n      <td>13255.0615</td>\n    </tr>\n    <tr>\n      <th>3074</th>\n      <td>2020-01-23</td>\n      <td>Washington</td>\n      <td>WA</td>\n      <td>7797095</td>\n      <td>1.0</td>\n      <td>1.0</td>\n      <td>NaN</td>\n      <td>NaN</td>\n      <td>NaN</td>\n      <td>NaN</td>\n      <td>0.0</td>\n      <td>0.0</td>\n      <td>NaN</td>\n      <td>1.7</td>\n      <td>13255.0615</td>\n    </tr>\n    <tr>\n      <th>3075</th>\n      <td>2020-01-22</td>\n      <td>Washington</td>\n      <td>WA</td>\n      <td>7797095</td>\n      <td>1.0</td>\n      <td>1.0</td>\n      <td>NaN</td>\n      <td>NaN</td>\n      <td>NaN</td>\n      <td>NaN</td>\n      <td>0.0</td>\n      <td>0.0</td>\n      <td>NaN</td>\n      <td>1.7</td>\n      <td>13255.0615</td>\n    </tr>\n  </tbody>\n</table>\n<p>3076 rows × 15 columns</p>\n</div>"
     },
     "metadata": {},
     "execution_count": 19
    }
   ],
   "source": [
    "# Now that we have the JHU dataset relatively cleaned\n",
    "# we can go ahead and merge its data with our main dataset\n",
    "\n",
    "for i, row in all_cases.iterrows():\n",
    "    last_update = all_cases.at[i, 'date']\n",
    "    state = all_cases.at[i, 'state']\n",
    "    matching_row = jhu_df[jhu_df['ProvinceState'] == state]\n",
    "    matching_row = matching_row[matching_row['LastUpdate'] == last_update].reset_index()\n",
    "\n",
    "    if len(matching_row.values) > 0:\n",
    "        #all_cases.at[i, 'positive'] = matching_row['Confirmed'].values[0]\n",
    "        all_cases.at[i, 'active'] = matching_row['Active'].values[0]\n",
    "        #all_cases.at[i, 'recovered'] = matching_row['Recovered'].values[0]   --- JHU was inconsistent, therefore removed\n",
    "        #all_cases.at[i, 'death'] = matching_row['Deaths'].values[0]\n",
    "\n",
    "    # Replace unknown recovery numbers with 0\n",
    "    if np.isnan(row['recovered']):\n",
    "        all_cases.at[i, 'recovered'] = 0\n",
    "\n",
    "    if all_cases.at[i, 'active'] == 0 or np.isnan(row['active']):\n",
    "        positive = all_cases.at[i, 'positive']\n",
    "        recovered = all_cases.at[i, 'recovered']\n",
    "        dead = all_cases.at[i, 'death']\n",
    "        all_cases.at[i, 'active'] = positive - recovered - dead\n",
    "\n",
    "all_cases"
   ]
  },
  {
   "cell_type": "code",
   "execution_count": 20,
   "metadata": {},
   "outputs": [],
   "source": [
    "# Save formatted dataset offline in case of disaster\n",
    "all_cases.to_csv('all_cases.csv')"
   ]
  },
  {
   "cell_type": "markdown",
   "metadata": {},
   "source": [
    "## Step 2: Some Exploratory Data Analysis (EDA)"
   ]
  },
  {
   "cell_type": "code",
   "execution_count": 21,
   "metadata": {},
   "outputs": [],
   "source": [
    "# TODO Get some insights on data"
   ]
  },
  {
   "cell_type": "markdown",
   "metadata": {},
   "source": [
    "## Step 3: Build model for dependent Variable \n",
    "- To be used to predict hospitalizedCurrently\n",
    "- Having more complete variables for inICUCurrently and onVentilatorCurrently will allow us to predict these numbers as well"
   ]
  },
  {
   "cell_type": "code",
   "execution_count": 22,
   "metadata": {},
   "outputs": [
    {
     "output_type": "execute_result",
     "data": {
      "text/plain": "           date  population  positive   active  hospitalizedCurrently  \\\n510  2020-04-23      734002     337.0    119.0                   42.0   \n533  2020-04-23     5700671    2942.0   1206.0                  268.0   \n546  2020-04-23     3954821    3017.0    954.0                  284.0   \n922  2020-04-15    39937489   24424.0  23603.0                 5163.0   \n942  2020-04-15     6169270    4895.0   4748.0                 1024.0   \n\n     inIcuCurrently  onVentilatorCurrently  recovered  death  total_beds  \n510             NaN                    NaN      209.0    9.0   1614.8044  \n533           104.0                    NaN     1536.0  200.0  14251.6775  \n546           156.0                    NaN     1884.0  179.0  11073.4988  \n922          1175.0                    NaN        0.0  821.0  71887.4802  \n942             NaN                    NaN        0.0  147.0  19124.7370  ",
      "text/html": "<div>\n<style scoped>\n    .dataframe tbody tr th:only-of-type {\n        vertical-align: middle;\n    }\n\n    .dataframe tbody tr th {\n        vertical-align: top;\n    }\n\n    .dataframe thead th {\n        text-align: right;\n    }\n</style>\n<table border=\"1\" class=\"dataframe\">\n  <thead>\n    <tr style=\"text-align: right;\">\n      <th></th>\n      <th>date</th>\n      <th>population</th>\n      <th>positive</th>\n      <th>active</th>\n      <th>hospitalizedCurrently</th>\n      <th>inIcuCurrently</th>\n      <th>onVentilatorCurrently</th>\n      <th>recovered</th>\n      <th>death</th>\n      <th>total_beds</th>\n    </tr>\n  </thead>\n  <tbody>\n    <tr>\n      <th>510</th>\n      <td>2020-04-23</td>\n      <td>734002</td>\n      <td>337.0</td>\n      <td>119.0</td>\n      <td>42.0</td>\n      <td>NaN</td>\n      <td>NaN</td>\n      <td>209.0</td>\n      <td>9.0</td>\n      <td>1614.8044</td>\n    </tr>\n    <tr>\n      <th>533</th>\n      <td>2020-04-23</td>\n      <td>5700671</td>\n      <td>2942.0</td>\n      <td>1206.0</td>\n      <td>268.0</td>\n      <td>104.0</td>\n      <td>NaN</td>\n      <td>1536.0</td>\n      <td>200.0</td>\n      <td>14251.6775</td>\n    </tr>\n    <tr>\n      <th>546</th>\n      <td>2020-04-23</td>\n      <td>3954821</td>\n      <td>3017.0</td>\n      <td>954.0</td>\n      <td>284.0</td>\n      <td>156.0</td>\n      <td>NaN</td>\n      <td>1884.0</td>\n      <td>179.0</td>\n      <td>11073.4988</td>\n    </tr>\n    <tr>\n      <th>922</th>\n      <td>2020-04-15</td>\n      <td>39937489</td>\n      <td>24424.0</td>\n      <td>23603.0</td>\n      <td>5163.0</td>\n      <td>1175.0</td>\n      <td>NaN</td>\n      <td>0.0</td>\n      <td>821.0</td>\n      <td>71887.4802</td>\n    </tr>\n    <tr>\n      <th>942</th>\n      <td>2020-04-15</td>\n      <td>6169270</td>\n      <td>4895.0</td>\n      <td>4748.0</td>\n      <td>1024.0</td>\n      <td>NaN</td>\n      <td>NaN</td>\n      <td>0.0</td>\n      <td>147.0</td>\n      <td>19124.7370</td>\n    </tr>\n  </tbody>\n</table>\n</div>"
     },
     "metadata": {},
     "execution_count": 22
    }
   ],
   "source": [
    "# We are going to compare three models:\n",
    "# - Linear Regression\n",
    "# - Polynomial Regression\n",
    "# - ElasticNet\n",
    "\n",
    "# Copy DFs to not mess up original one\n",
    "# We will use model_df for our regression model\n",
    "model_df = all_cases.copy()\n",
    "\n",
    "# Delete redundant rows\n",
    "for row in ['abbrev', 'bedsPerThousand', 'hospitalized', \n",
    "'state', 'hospitalizedCumulative']:\n",
    "    del model_df[row]\n",
    "\n",
    "# Drop NaN values for hospitalizedCurrently\n",
    "model_df = model_df.dropna(subset=['hospitalizedCurrently'])\n",
    "\n",
    "# Drop Values with low active-hospitalised ratio\n",
    "# TODO see if we can instead use this as a variable\n",
    "# TODO see if we can drop by bedsPerThousand instead\n",
    "model_df['ratio_hospital'] = model_df['hospitalizedCurrently'] / model_df['active']\n",
    "model_df = model_df[~(model_df['ratio_hospital'] <= model_df.ratio_hospital.quantile(0.95))]\n",
    "\n",
    "#model_df = model_df[~(model_df['ratio_hospital'] <= model_df['ratio_hospital'].median())]\n",
    "del model_df['ratio_hospital']\n",
    "\n",
    "# Get peek of model to use\n",
    "model_df.head()"
   ]
  },
  {
   "cell_type": "markdown",
   "metadata": {},
   "source": [
    "### Model 1: Linear Regression"
   ]
  },
  {
   "cell_type": "code",
   "execution_count": 23,
   "metadata": {},
   "outputs": [
    {
     "output_type": "execute_result",
     "data": {
      "text/plain": "                                           param_comb       score\n62  [population, positive, active, recovered, deat...  174.103753\n57  [population, positive, active, recovered, tota...  174.113627\n59  [population, positive, recovered, death, total...  174.169729\n45      [population, positive, recovered, total_beds]  174.172361\n60  [population, active, recovered, death, total_b...  174.769236",
      "text/html": "<div>\n<style scoped>\n    .dataframe tbody tr th:only-of-type {\n        vertical-align: middle;\n    }\n\n    .dataframe tbody tr th {\n        vertical-align: top;\n    }\n\n    .dataframe thead th {\n        text-align: right;\n    }\n</style>\n<table border=\"1\" class=\"dataframe\">\n  <thead>\n    <tr style=\"text-align: right;\">\n      <th></th>\n      <th>param_comb</th>\n      <th>score</th>\n    </tr>\n  </thead>\n  <tbody>\n    <tr>\n      <th>62</th>\n      <td>[population, positive, active, recovered, deat...</td>\n      <td>174.103753</td>\n    </tr>\n    <tr>\n      <th>57</th>\n      <td>[population, positive, active, recovered, tota...</td>\n      <td>174.113627</td>\n    </tr>\n    <tr>\n      <th>59</th>\n      <td>[population, positive, recovered, death, total...</td>\n      <td>174.169729</td>\n    </tr>\n    <tr>\n      <th>45</th>\n      <td>[population, positive, recovered, total_beds]</td>\n      <td>174.172361</td>\n    </tr>\n    <tr>\n      <th>60</th>\n      <td>[population, active, recovered, death, total_b...</td>\n      <td>174.769236</td>\n    </tr>\n  </tbody>\n</table>\n</div>"
     },
     "metadata": {},
     "execution_count": 23
    }
   ],
   "source": [
    "import itertools\n",
    "\n",
    "mse_df = {'param_comb': [],\n",
    "'score': []}\n",
    "\n",
    "independent_cols = [x for x in list(model_df.columns) if not(x in ['hospitalizedCurrently', 'inIcuCurrently', 'onVentilatorCurrently', 'date'])]\n",
    "\n",
    "max_keep = len(independent_cols) - 5\n",
    "\n",
    "param_comb = [list(x) for x in list(itertools.combinations(independent_cols, max_keep)) \n",
    "+ list(itertools.combinations(independent_cols, max_keep+1))\n",
    "+ list(itertools.combinations(independent_cols, max_keep+2))\n",
    "+ list(itertools.combinations(independent_cols, max_keep+3))\n",
    "+ list(itertools.combinations(independent_cols, max_keep+4))\n",
    "+ [independent_cols]]\n",
    "combs = []\n",
    "for sublist in param_comb:\n",
    "    combs.append(list(sublist))\n",
    "\n",
    "for comb in combs:\n",
    "    # Independent vars\n",
    "    X = model_df[comb]\n",
    "\n",
    "    # Dependent var\n",
    "    y = model_df['hospitalizedCurrently']\n",
    "\n",
    "    # Fit model\n",
    "    linear_model = LinearRegression()\n",
    "    linear_model.fit(X, y)\n",
    "\n",
    "    score=(mean_squared_error(y_true=y,y_pred=linear_model.predict(X)))\n",
    "    \n",
    "    mse_df['param_comb'].append(comb)\n",
    "    mse_df['score'].append(np.sqrt(score))\n",
    "\n",
    "mse_df = pd.DataFrame(mse_df)\n",
    "mse_df.sort_values(by='score', ascending=True).head()"
   ]
  },
  {
   "cell_type": "markdown",
   "metadata": {},
   "source": [
    "### Model 2: ElasticNet Regression"
   ]
  },
  {
   "cell_type": "markdown",
   "metadata": {},
   "source": [
    "Step 1: Get all combinations of independent params"
   ]
  },
  {
   "cell_type": "code",
   "execution_count": 38,
   "metadata": {},
   "outputs": [],
   "source": [
    "comb_list = []\n",
    "len_ind = len(independent_cols)\n",
    "for i in range(len_ind):\n",
    "    sub_list = list(itertools.combinations(independent_cols, len_ind-i))\n",
    "    comb_list += list(list(x) for x in sub_list)"
   ]
  },
  {
   "cell_type": "markdown",
   "metadata": {},
   "source": [
    "Step 2: Cross-validate every combination (Look for best hyperparams first)"
   ]
  },
  {
   "cell_type": "code",
   "execution_count": 44,
   "metadata": {
    "tags": [
     "outputPrepend",
     "outputPrepend",
     "outputPrepend",
     "outputPrepend",
     "outputPrepend",
     "outputPrepend",
     "outputPrepend",
     "outputPrepend",
     "outputPrepend",
     "outputPrepend",
     "outputPrepend",
     "outputPrepend",
     "outputPrepend",
     "outputPrepend",
     "outputPrepend",
     "outputPrepend",
     "outputPrepend",
     "outputPrepend",
     "outputPrepend",
     "outputPrepend",
     "outputPrepend",
     "outputPrepend",
     "outputPrepend",
     "outputPrepend",
     "outputPrepend",
     "outputPrepend",
     "outputPrepend",
     "outputPrepend",
     "outputPrepend",
     "outputPrepend",
     "outputPrepend",
     "outputPrepend",
     "outputPrepend",
     "outputPrepend",
     "outputPrepend",
     "outputPrepend",
     "outputPrepend",
     "outputPrepend",
     "outputPrepend",
     "outputPrepend",
     "outputPrepend",
     "outputPrepend",
     "outputPrepend",
     "outputPrepend"
    ]
   },
   "outputs": [
    {
     "output_type": "execute_result",
     "data": {
      "text/plain": "                                              columns    alpha  l1_ratio\n0   [population, positive, active, recovered, deat...   1.0000      1.00\n1    [population, positive, active, recovered, death]   1.0000      1.00\n2   [population, positive, active, recovered, tota...   0.0010      0.60\n3   [population, positive, active, death, total_beds]   1.0000      1.00\n4   [population, positive, recovered, death, total...   1.0000      1.00\n..                                                ...      ...       ...\n58                                         [positive]   0.0010      0.60\n59                                           [active]   0.0001      0.85\n60                                        [recovered]   0.0100      0.40\n61                                            [death]  10.0000      1.00\n62                                       [total_beds]   0.0010      0.20\n\n[63 rows x 3 columns]",
      "text/html": "<div>\n<style scoped>\n    .dataframe tbody tr th:only-of-type {\n        vertical-align: middle;\n    }\n\n    .dataframe tbody tr th {\n        vertical-align: top;\n    }\n\n    .dataframe thead th {\n        text-align: right;\n    }\n</style>\n<table border=\"1\" class=\"dataframe\">\n  <thead>\n    <tr style=\"text-align: right;\">\n      <th></th>\n      <th>columns</th>\n      <th>alpha</th>\n      <th>l1_ratio</th>\n    </tr>\n  </thead>\n  <tbody>\n    <tr>\n      <th>0</th>\n      <td>[population, positive, active, recovered, deat...</td>\n      <td>1.0000</td>\n      <td>1.00</td>\n    </tr>\n    <tr>\n      <th>1</th>\n      <td>[population, positive, active, recovered, death]</td>\n      <td>1.0000</td>\n      <td>1.00</td>\n    </tr>\n    <tr>\n      <th>2</th>\n      <td>[population, positive, active, recovered, tota...</td>\n      <td>0.0010</td>\n      <td>0.60</td>\n    </tr>\n    <tr>\n      <th>3</th>\n      <td>[population, positive, active, death, total_beds]</td>\n      <td>1.0000</td>\n      <td>1.00</td>\n    </tr>\n    <tr>\n      <th>4</th>\n      <td>[population, positive, recovered, death, total...</td>\n      <td>1.0000</td>\n      <td>1.00</td>\n    </tr>\n    <tr>\n      <th>...</th>\n      <td>...</td>\n      <td>...</td>\n      <td>...</td>\n    </tr>\n    <tr>\n      <th>58</th>\n      <td>[positive]</td>\n      <td>0.0010</td>\n      <td>0.60</td>\n    </tr>\n    <tr>\n      <th>59</th>\n      <td>[active]</td>\n      <td>0.0001</td>\n      <td>0.85</td>\n    </tr>\n    <tr>\n      <th>60</th>\n      <td>[recovered]</td>\n      <td>0.0100</td>\n      <td>0.40</td>\n    </tr>\n    <tr>\n      <th>61</th>\n      <td>[death]</td>\n      <td>10.0000</td>\n      <td>1.00</td>\n    </tr>\n    <tr>\n      <th>62</th>\n      <td>[total_beds]</td>\n      <td>0.0010</td>\n      <td>0.20</td>\n    </tr>\n  </tbody>\n</table>\n<p>63 rows × 3 columns</p>\n</div>"
     },
     "metadata": {},
     "execution_count": 44
    }
   ],
   "source": [
    "cross_val_results = {\n",
    "    'columns': [],\n",
    "    'alpha': [],\n",
    "    'l1_ratio': []\n",
    "}\n",
    "\n",
    "for ind_cols in comb_list:\n",
    "    X = model_df[ind_cols]\n",
    "    y = model_df['hospitalizedCurrently']\n",
    "\n",
    "    X_train, X_test, y_train, y_test = train_test_split(X, y, test_size=0.1)\n",
    "\n",
    "    # Seek best params like we seek the COVID vaccine\n",
    "    elastic = ElasticNet(normalize=True, max_iter=100000000)\n",
    "    search=GridSearchCV(estimator=elastic,param_grid={\n",
    "        'alpha':np.logspace(-5, 2, 8),\n",
    "        'l1_ratio':[.1, .2, .4, .6, .75, .8, .85, .9, .95, 1]},\n",
    "        scoring='neg_mean_squared_error',\n",
    "        n_jobs=1,\n",
    "        refit=True,\n",
    "        cv=10)\n",
    "\n",
    "    search.fit(X_train,y_train)\n",
    "    cross_val_results['columns'].append(ind_cols)\n",
    "    cross_val_results['alpha'].append(search.best_params_['alpha'])\n",
    "    cross_val_results['l1_ratio'].append(search.best_params_['l1_ratio'])\n",
    "\n",
    "cross_val_results = pd.DataFrame(cross_val_results)\n",
    "cross_val_results"
   ]
  },
  {
   "cell_type": "code",
   "execution_count": 45,
   "metadata": {},
   "outputs": [
    {
     "output_type": "execute_result",
     "data": {
      "text/plain": "                                             columns   alpha  l1_ratio  \\\n20          [positive, recovered, death, total_beds]  1.0000      1.00   \n28                  [population, active, total_beds]  0.0001      0.60   \n48                             [positive, recovered]  0.0010      0.85   \n1   [population, positive, active, recovered, death]  1.0000      1.00   \n7          [population, positive, active, recovered]  0.0010      0.60   \n\n         RMSE  \n20  42.895878  \n28  46.059021  \n48  69.252710  \n1   70.453937  \n7   71.739029  ",
      "text/html": "<div>\n<style scoped>\n    .dataframe tbody tr th:only-of-type {\n        vertical-align: middle;\n    }\n\n    .dataframe tbody tr th {\n        vertical-align: top;\n    }\n\n    .dataframe thead th {\n        text-align: right;\n    }\n</style>\n<table border=\"1\" class=\"dataframe\">\n  <thead>\n    <tr style=\"text-align: right;\">\n      <th></th>\n      <th>columns</th>\n      <th>alpha</th>\n      <th>l1_ratio</th>\n      <th>RMSE</th>\n    </tr>\n  </thead>\n  <tbody>\n    <tr>\n      <th>20</th>\n      <td>[positive, recovered, death, total_beds]</td>\n      <td>1.0000</td>\n      <td>1.00</td>\n      <td>42.895878</td>\n    </tr>\n    <tr>\n      <th>28</th>\n      <td>[population, active, total_beds]</td>\n      <td>0.0001</td>\n      <td>0.60</td>\n      <td>46.059021</td>\n    </tr>\n    <tr>\n      <th>48</th>\n      <td>[positive, recovered]</td>\n      <td>0.0010</td>\n      <td>0.85</td>\n      <td>69.252710</td>\n    </tr>\n    <tr>\n      <th>1</th>\n      <td>[population, positive, active, recovered, death]</td>\n      <td>1.0000</td>\n      <td>1.00</td>\n      <td>70.453937</td>\n    </tr>\n    <tr>\n      <th>7</th>\n      <td>[population, positive, active, recovered]</td>\n      <td>0.0010</td>\n      <td>0.60</td>\n      <td>71.739029</td>\n    </tr>\n  </tbody>\n</table>\n</div>"
     },
     "metadata": {},
     "execution_count": 45
    }
   ],
   "source": [
    "rmse_list = []\n",
    "for i, row in cross_val_results.iterrows():\n",
    "    alpha = cross_val_results.at[i, 'alpha']\n",
    "    l1 = cross_val_results.at[i, 'l1_ratio']\n",
    "\n",
    "    X = model_df[cross_val_results.at[i, 'columns']]\n",
    "    y = model_df['hospitalizedCurrently']\n",
    "\n",
    "    X_train, X_test, y_train, y_test = train_test_split(X, y, test_size=0.1)\n",
    "    elastic = ElasticNet(normalize=True, alpha=alpha, l1_ratio=l1, max_iter=100000000)\n",
    "    elastic.fit(X_train,y_train)\n",
    "    rmse=(np.sqrt(mean_squared_error(y_true=y_test,y_pred=elastic.predict(X_test))))\n",
    "    rmse_list.append(rmse)\n",
    "\n",
    "cross_val_results['RMSE'] = rmse_list\n",
    "\n",
    "cross_val_results.sort_values(by='RMSE', ascending=True).head()"
   ]
  },
  {
   "cell_type": "markdown",
   "metadata": {},
   "source": [
    "## Step 4: Using findings from dataset of hospital beds, conclude research problem"
   ]
  },
  {
   "cell_type": "code",
   "execution_count": null,
   "metadata": {},
   "outputs": [],
   "source": []
  }
 ],
 "metadata": {
  "kernelspec": {
   "display_name": "Python 3",
   "language": "python",
   "name": "python3"
  },
  "language_info": {
   "codemirror_mode": {
    "name": "ipython",
    "version": 3
   },
   "file_extension": ".py",
   "mimetype": "text/x-python",
   "name": "python",
   "nbconvert_exporter": "python",
   "pygments_lexer": "ipython3",
   "version": "3.7.4-final"
  }
 },
 "nbformat": 4,
 "nbformat_minor": 2
}