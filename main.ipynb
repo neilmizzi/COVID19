{
 "cells": [
  {
   "cell_type": "markdown",
   "metadata": {},
   "source": [
    "## Data Mining Techniques\n",
    "### COVID-19 data\n",
    "Kimberley Boersma (2572145), Neil Mizzi (2674737), Selma Muhammad (Stud no)"
   ]
  },
  {
   "cell_type": "code",
   "execution_count": 1,
   "metadata": {},
   "outputs": [],
   "source": [
    "# Imports\n",
    "import os\n",
    "import pandas as pd\n",
    "import csv\n",
    "import kaggle\n",
    "\n",
    "# other imports\n",
    "import numpy as np \n",
    "import matplotlib.pyplot as plt\n",
    "from sklearn.model_selection import train_test_split\n",
    "from sklearn.model_selection import GridSearchCV\n",
    "from sklearn.linear_model import ElasticNet\n",
    "from sklearn.linear_model import LinearRegression\n",
    "from sklearn.preprocessing import PolynomialFeatures\n",
    "from sklearn.metrics import mean_squared_error\n",
    "from copy import copy\n",
    "# import matplotlib.colors as mcolors\n",
    "# import random\n",
    "# import math\n",
    "# import time\n",
    "# from sklearn.linear_model import LinearRegression, BayesianRidge\n",
    "# from sklearn.model_selection import RandomizedSearchCV, train_test_split\n",
    "# from sklearn.preprocessing import PolynomialFeatures\n",
    "# from sklearn.tree import DecisionTreeRegressor\n",
    "# from sklearn.svm import SVR\n",
    "# from sklearn.metrics import mean_squared_error, mean_absolute_error\n",
    "from datetime import date, datetime\n",
    "from dateutil.parser import parse\n",
    "# import us\n",
    "# import operator \n",
    "# plt.style.use('fivethirtyeight')\n",
    "# %matplotlib inline "
   ]
  },
  {
   "cell_type": "markdown",
   "metadata": {},
   "source": [
    "# Covid Tracking Dataset (w/ hospitalised data)\n",
    "\n",
    "Source: https://covidtracking.com/"
   ]
  },
  {
   "cell_type": "markdown",
   "metadata": {},
   "source": [
    "## Step 1: Load and Clean the Data"
   ]
  },
  {
   "cell_type": "code",
   "execution_count": 2,
   "metadata": {},
   "outputs": [],
   "source": [
    "all_cases = pd.read_csv('https://covidtracking.com/api/v1/states/daily.csv')\n",
    "\n",
    "# Delete unecessary rows\n",
    "for row in ['negative', 'pending', 'hash', 'negativeIncrease', 'totalTestResults', 'totalTestResultsIncrease', 'dateChecked', 'fips', 'inIcuCumulative', 'onVentilatorCumulative', 'total', 'posNeg', 'deathIncrease', 'hospitalizedIncrease', 'positiveIncrease']:\n",
    "    del all_cases[row]\n",
    "\n",
    "# TODO missing values\n",
    "#      Do we get avg or missing values, or predict them?\n",
    "#      See https://developerzen.com/data-mining-handling-missing-values-the-database-bd2241882e72\n",
    "\n",
    "for i, row in all_cases.iterrows():\n",
    "    # Set Dates\n",
    "    s = str(row['date'])\n",
    "    all_cases.at[i, 'date'] = date(year=int(s[0:4]), month=int(s[4:6]), day=int(s[6:8]))\n",
    "    \n",
    "\n",
    "# Missing death figures means no death reports yet\n",
    "# These are set to 0\n",
    "for i, row in all_cases.iterrows():\n",
    "    if np.isnan(row['death']):\n",
    "        all_cases.at[i, 'death'] = 0"
   ]
  },
  {
   "cell_type": "markdown",
   "metadata": {},
   "source": [
    "## Missing values: Retrieving from other datasets or through merging columns (or both)\n",
    "\n",
    "The following will be done:\n",
    "- **Active Cases**: Retrieved from JHU dataset and calculating $active = pos-dead-recovered$\n",
    "- **Beds per State**: Retrieved from External Datasets"
   ]
  },
  {
   "cell_type": "code",
   "execution_count": 3,
   "metadata": {},
   "outputs": [],
   "source": [
    "# TODO Replace active cases with JHU and/or regression model (Selma)\n",
    "all_cases['active'] = all_cases['positive'] - all_cases['recovered'] - all_cases['death']\n",
    "# change location of 'active' column\n",
    "cols = list(all_cases)\n",
    "cols.insert(3, cols.pop(cols.index('active')))\n",
    "all_cases = all_cases.loc[:, cols]"
   ]
  },
  {
   "cell_type": "code",
   "execution_count": 4,
   "metadata": {},
   "outputs": [],
   "source": [
    "# Load datasets for US population and Hospital beds per 1000\n",
    "us_population = pd.read_csv('data/us_population.csv')\n",
    "hosp_beds = pd.read_csv('data/hospital_beds.csv')\n",
    "state_abbrev = pd.read_csv('data/us_state_names.csv')\n",
    "\n",
    "# add state abbreviations to us_population and hospital beds dataframe\n",
    "for state in state_abbrev['State'].tolist():\n",
    "    # store state abbreviation in variable\n",
    "    abbrev = state_abbrev.loc[state_abbrev['State'] == state, 'Abbreviation'].tolist()[0]\n",
    "    # add abbrev to new column 'Abbreviation' in us_population df\n",
    "    us_population.loc[us_population['State'] == state, 'Abbreviation'] = abbrev\n",
    "    # add abbrev to new column in hosp_beds df\n",
    "    hosp_beds.loc[hosp_beds['Location'] == state, 'Abbreviation'] = abbrev\n",
    "    \n",
    "# change order of columns of us_population\n",
    "cols = list(us_population)\n",
    "cols.insert(2, cols.pop(cols.index('Abbreviation')))\n",
    "us_population = us_population.loc[:, cols]\n",
    "\n",
    "# drop unnecessary columns of us_population\n",
    "us_population = us_population.drop(columns=['rank', 'Growth', 'Pop2018', 'Pop2010', 'growthSince2010', 'Percent', 'density'])\n",
    "\n",
    "# drop unnecessary columns of hosp_beds\n",
    "hosp_beds = hosp_beds.drop(columns=['Location', 'State/Local Government', 'Non-Profit', 'For-Profit'])\n",
    "\n",
    "# change order of columns of hosp_beds\n",
    "cols = list(hosp_beds)\n",
    "cols.insert(0, cols.pop(cols.index('Abbreviation')))\n",
    "hosp_beds = hosp_beds.loc[:, cols]"
   ]
  },
  {
   "cell_type": "code",
   "execution_count": 5,
   "metadata": {},
   "outputs": [
    {
     "output_type": "execute_result",
     "data": {
      "text/plain": "        State Abbreviation       Pop\n0     Alabama           AL   4908621\n1      Alaska           AK    734002\n2     Arizona           AZ   7378494\n3    Arkansas           AR   3038999\n4  California           CA  39937489",
      "text/html": "<div>\n<style scoped>\n    .dataframe tbody tr th:only-of-type {\n        vertical-align: middle;\n    }\n\n    .dataframe tbody tr th {\n        vertical-align: top;\n    }\n\n    .dataframe thead th {\n        text-align: right;\n    }\n</style>\n<table border=\"1\" class=\"dataframe\">\n  <thead>\n    <tr style=\"text-align: right;\">\n      <th></th>\n      <th>State</th>\n      <th>Abbreviation</th>\n      <th>Pop</th>\n    </tr>\n  </thead>\n  <tbody>\n    <tr>\n      <th>0</th>\n      <td>Alabama</td>\n      <td>AL</td>\n      <td>4908621</td>\n    </tr>\n    <tr>\n      <th>1</th>\n      <td>Alaska</td>\n      <td>AK</td>\n      <td>734002</td>\n    </tr>\n    <tr>\n      <th>2</th>\n      <td>Arizona</td>\n      <td>AZ</td>\n      <td>7378494</td>\n    </tr>\n    <tr>\n      <th>3</th>\n      <td>Arkansas</td>\n      <td>AR</td>\n      <td>3038999</td>\n    </tr>\n    <tr>\n      <th>4</th>\n      <td>California</td>\n      <td>CA</td>\n      <td>39937489</td>\n    </tr>\n  </tbody>\n</table>\n</div>"
     },
     "metadata": {},
     "execution_count": 5
    }
   ],
   "source": [
    "us_population.head()"
   ]
  },
  {
   "cell_type": "code",
   "execution_count": 6,
   "metadata": {},
   "outputs": [
    {
     "output_type": "execute_result",
     "data": {
      "text/plain": "  Abbreviation  Total\n0          NaN    2.4\n1           AL    3.1\n2           AK    2.2\n3           AZ    1.9\n4           AR    3.2",
      "text/html": "<div>\n<style scoped>\n    .dataframe tbody tr th:only-of-type {\n        vertical-align: middle;\n    }\n\n    .dataframe tbody tr th {\n        vertical-align: top;\n    }\n\n    .dataframe thead th {\n        text-align: right;\n    }\n</style>\n<table border=\"1\" class=\"dataframe\">\n  <thead>\n    <tr style=\"text-align: right;\">\n      <th></th>\n      <th>Abbreviation</th>\n      <th>Total</th>\n    </tr>\n  </thead>\n  <tbody>\n    <tr>\n      <th>0</th>\n      <td>NaN</td>\n      <td>2.4</td>\n    </tr>\n    <tr>\n      <th>1</th>\n      <td>AL</td>\n      <td>3.1</td>\n    </tr>\n    <tr>\n      <th>2</th>\n      <td>AK</td>\n      <td>2.2</td>\n    </tr>\n    <tr>\n      <th>3</th>\n      <td>AZ</td>\n      <td>1.9</td>\n    </tr>\n    <tr>\n      <th>4</th>\n      <td>AR</td>\n      <td>3.2</td>\n    </tr>\n  </tbody>\n</table>\n</div>"
     },
     "metadata": {},
     "execution_count": 6
    }
   ],
   "source": [
    "hosp_beds.head()"
   ]
  },
  {
   "cell_type": "code",
   "execution_count": 7,
   "metadata": {},
   "outputs": [],
   "source": [
    "# filter out non-existing states like 'AS'\n",
    "all_cases = all_cases[all_cases['state'].isin(state_abbrev['Abbreviation'].tolist())]"
   ]
  },
  {
   "cell_type": "code",
   "execution_count": 8,
   "metadata": {},
   "outputs": [
    {
     "output_type": "execute_result",
     "data": {
      "text/plain": "         date state  positive  active  hospitalizedCurrently  \\\n0  2020-05-01    AK     364.0   101.0                   25.0   \n1  2020-05-01    AL    7158.0     NaN                    NaN   \n2  2020-05-01    AR    3321.0  1284.0                   95.0   \n4  2020-05-01    AZ    7962.0  6104.0                  709.0   \n5  2020-05-01    CA   50442.0     NaN                 4706.0   \n\n   hospitalizedCumulative  inIcuCurrently  onVentilatorCurrently  recovered  \\\n0                     NaN             NaN                    NaN      254.0   \n1                  1008.0             NaN                    NaN        NaN   \n2                   414.0             NaN                   23.0     1973.0   \n4                  1203.0           311.0                  187.0     1528.0   \n5                     NaN          1434.0                    NaN        NaN   \n\n    death  hospitalized  \n0     9.0           NaN  \n1   279.0        1008.0  \n2    64.0         414.0  \n4   330.0        1203.0  \n5  2073.0           NaN  ",
      "text/html": "<div>\n<style scoped>\n    .dataframe tbody tr th:only-of-type {\n        vertical-align: middle;\n    }\n\n    .dataframe tbody tr th {\n        vertical-align: top;\n    }\n\n    .dataframe thead th {\n        text-align: right;\n    }\n</style>\n<table border=\"1\" class=\"dataframe\">\n  <thead>\n    <tr style=\"text-align: right;\">\n      <th></th>\n      <th>date</th>\n      <th>state</th>\n      <th>positive</th>\n      <th>active</th>\n      <th>hospitalizedCurrently</th>\n      <th>hospitalizedCumulative</th>\n      <th>inIcuCurrently</th>\n      <th>onVentilatorCurrently</th>\n      <th>recovered</th>\n      <th>death</th>\n      <th>hospitalized</th>\n    </tr>\n  </thead>\n  <tbody>\n    <tr>\n      <th>0</th>\n      <td>2020-05-01</td>\n      <td>AK</td>\n      <td>364.0</td>\n      <td>101.0</td>\n      <td>25.0</td>\n      <td>NaN</td>\n      <td>NaN</td>\n      <td>NaN</td>\n      <td>254.0</td>\n      <td>9.0</td>\n      <td>NaN</td>\n    </tr>\n    <tr>\n      <th>1</th>\n      <td>2020-05-01</td>\n      <td>AL</td>\n      <td>7158.0</td>\n      <td>NaN</td>\n      <td>NaN</td>\n      <td>1008.0</td>\n      <td>NaN</td>\n      <td>NaN</td>\n      <td>NaN</td>\n      <td>279.0</td>\n      <td>1008.0</td>\n    </tr>\n    <tr>\n      <th>2</th>\n      <td>2020-05-01</td>\n      <td>AR</td>\n      <td>3321.0</td>\n      <td>1284.0</td>\n      <td>95.0</td>\n      <td>414.0</td>\n      <td>NaN</td>\n      <td>23.0</td>\n      <td>1973.0</td>\n      <td>64.0</td>\n      <td>414.0</td>\n    </tr>\n    <tr>\n      <th>4</th>\n      <td>2020-05-01</td>\n      <td>AZ</td>\n      <td>7962.0</td>\n      <td>6104.0</td>\n      <td>709.0</td>\n      <td>1203.0</td>\n      <td>311.0</td>\n      <td>187.0</td>\n      <td>1528.0</td>\n      <td>330.0</td>\n      <td>1203.0</td>\n    </tr>\n    <tr>\n      <th>5</th>\n      <td>2020-05-01</td>\n      <td>CA</td>\n      <td>50442.0</td>\n      <td>NaN</td>\n      <td>4706.0</td>\n      <td>NaN</td>\n      <td>1434.0</td>\n      <td>NaN</td>\n      <td>NaN</td>\n      <td>2073.0</td>\n      <td>NaN</td>\n    </tr>\n  </tbody>\n</table>\n</div>"
     },
     "metadata": {},
     "execution_count": 8
    }
   ],
   "source": [
    "# see what filtered dataframe looks like\n",
    "all_cases.head()"
   ]
  },
  {
   "cell_type": "code",
   "execution_count": 9,
   "metadata": {},
   "outputs": [
    {
     "output_type": "execute_result",
     "data": {
      "text/plain": "            date state  positive  active  hospitalizedCurrently  \\\n2574  2020-03-17    WV       0.0     NaN                    NaN   \n2630  2020-03-16    WV       0.0     NaN                    NaN   \n2681  2020-03-15    WV       0.0     NaN                    NaN   \n2732  2020-03-14    WV       0.0     NaN                    NaN   \n2747  2020-03-13    ID       0.0     NaN                    NaN   \n...          ...   ...       ...     ...                    ...   \n3132  2020-03-05    NE       0.0     NaN                    NaN   \n3137  2020-03-05    OH       0.0     NaN                    NaN   \n3140  2020-03-05    SC       0.0     NaN                    NaN   \n3143  2020-03-05    VA       0.0     NaN                    NaN   \n3157  2020-03-04    SC       0.0     NaN                    NaN   \n\n      hospitalizedCumulative  inIcuCurrently  onVentilatorCurrently  \\\n2574                     NaN             NaN                    NaN   \n2630                     NaN             NaN                    NaN   \n2681                     NaN             NaN                    NaN   \n2732                     NaN             NaN                    NaN   \n2747                     NaN             NaN                    NaN   \n...                      ...             ...                    ...   \n3132                     NaN             NaN                    NaN   \n3137                     NaN             NaN                    NaN   \n3140                     NaN             NaN                    NaN   \n3143                     NaN             NaN                    NaN   \n3157                     NaN             NaN                    NaN   \n\n      recovered  death  hospitalized  \n2574        NaN    0.0           NaN  \n2630        NaN    0.0           NaN  \n2681        NaN    0.0           NaN  \n2732        NaN    0.0           NaN  \n2747        NaN    0.0           NaN  \n...         ...    ...           ...  \n3132        NaN    0.0           NaN  \n3137        NaN    0.0           NaN  \n3140        NaN    0.0           NaN  \n3143        NaN    0.0           NaN  \n3157        NaN    0.0           NaN  \n\n[107 rows x 11 columns]",
      "text/html": "<div>\n<style scoped>\n    .dataframe tbody tr th:only-of-type {\n        vertical-align: middle;\n    }\n\n    .dataframe tbody tr th {\n        vertical-align: top;\n    }\n\n    .dataframe thead th {\n        text-align: right;\n    }\n</style>\n<table border=\"1\" class=\"dataframe\">\n  <thead>\n    <tr style=\"text-align: right;\">\n      <th></th>\n      <th>date</th>\n      <th>state</th>\n      <th>positive</th>\n      <th>active</th>\n      <th>hospitalizedCurrently</th>\n      <th>hospitalizedCumulative</th>\n      <th>inIcuCurrently</th>\n      <th>onVentilatorCurrently</th>\n      <th>recovered</th>\n      <th>death</th>\n      <th>hospitalized</th>\n    </tr>\n  </thead>\n  <tbody>\n    <tr>\n      <th>2574</th>\n      <td>2020-03-17</td>\n      <td>WV</td>\n      <td>0.0</td>\n      <td>NaN</td>\n      <td>NaN</td>\n      <td>NaN</td>\n      <td>NaN</td>\n      <td>NaN</td>\n      <td>NaN</td>\n      <td>0.0</td>\n      <td>NaN</td>\n    </tr>\n    <tr>\n      <th>2630</th>\n      <td>2020-03-16</td>\n      <td>WV</td>\n      <td>0.0</td>\n      <td>NaN</td>\n      <td>NaN</td>\n      <td>NaN</td>\n      <td>NaN</td>\n      <td>NaN</td>\n      <td>NaN</td>\n      <td>0.0</td>\n      <td>NaN</td>\n    </tr>\n    <tr>\n      <th>2681</th>\n      <td>2020-03-15</td>\n      <td>WV</td>\n      <td>0.0</td>\n      <td>NaN</td>\n      <td>NaN</td>\n      <td>NaN</td>\n      <td>NaN</td>\n      <td>NaN</td>\n      <td>NaN</td>\n      <td>0.0</td>\n      <td>NaN</td>\n    </tr>\n    <tr>\n      <th>2732</th>\n      <td>2020-03-14</td>\n      <td>WV</td>\n      <td>0.0</td>\n      <td>NaN</td>\n      <td>NaN</td>\n      <td>NaN</td>\n      <td>NaN</td>\n      <td>NaN</td>\n      <td>NaN</td>\n      <td>0.0</td>\n      <td>NaN</td>\n    </tr>\n    <tr>\n      <th>2747</th>\n      <td>2020-03-13</td>\n      <td>ID</td>\n      <td>0.0</td>\n      <td>NaN</td>\n      <td>NaN</td>\n      <td>NaN</td>\n      <td>NaN</td>\n      <td>NaN</td>\n      <td>NaN</td>\n      <td>0.0</td>\n      <td>NaN</td>\n    </tr>\n    <tr>\n      <th>...</th>\n      <td>...</td>\n      <td>...</td>\n      <td>...</td>\n      <td>...</td>\n      <td>...</td>\n      <td>...</td>\n      <td>...</td>\n      <td>...</td>\n      <td>...</td>\n      <td>...</td>\n      <td>...</td>\n    </tr>\n    <tr>\n      <th>3132</th>\n      <td>2020-03-05</td>\n      <td>NE</td>\n      <td>0.0</td>\n      <td>NaN</td>\n      <td>NaN</td>\n      <td>NaN</td>\n      <td>NaN</td>\n      <td>NaN</td>\n      <td>NaN</td>\n      <td>0.0</td>\n      <td>NaN</td>\n    </tr>\n    <tr>\n      <th>3137</th>\n      <td>2020-03-05</td>\n      <td>OH</td>\n      <td>0.0</td>\n      <td>NaN</td>\n      <td>NaN</td>\n      <td>NaN</td>\n      <td>NaN</td>\n      <td>NaN</td>\n      <td>NaN</td>\n      <td>0.0</td>\n      <td>NaN</td>\n    </tr>\n    <tr>\n      <th>3140</th>\n      <td>2020-03-05</td>\n      <td>SC</td>\n      <td>0.0</td>\n      <td>NaN</td>\n      <td>NaN</td>\n      <td>NaN</td>\n      <td>NaN</td>\n      <td>NaN</td>\n      <td>NaN</td>\n      <td>0.0</td>\n      <td>NaN</td>\n    </tr>\n    <tr>\n      <th>3143</th>\n      <td>2020-03-05</td>\n      <td>VA</td>\n      <td>0.0</td>\n      <td>NaN</td>\n      <td>NaN</td>\n      <td>NaN</td>\n      <td>NaN</td>\n      <td>NaN</td>\n      <td>NaN</td>\n      <td>0.0</td>\n      <td>NaN</td>\n    </tr>\n    <tr>\n      <th>3157</th>\n      <td>2020-03-04</td>\n      <td>SC</td>\n      <td>0.0</td>\n      <td>NaN</td>\n      <td>NaN</td>\n      <td>NaN</td>\n      <td>NaN</td>\n      <td>NaN</td>\n      <td>NaN</td>\n      <td>0.0</td>\n      <td>NaN</td>\n    </tr>\n  </tbody>\n</table>\n<p>107 rows × 11 columns</p>\n</div>"
     },
     "metadata": {},
     "execution_count": 9
    }
   ],
   "source": [
    "# check which states have 0 positive cases\n",
    "all_cases.loc[all_cases['positive'] == 0]"
   ]
  },
  {
   "cell_type": "code",
   "execution_count": 10,
   "metadata": {},
   "outputs": [],
   "source": [
    "# Split dataframes by date\n",
    "df_split_by_date = dict(tuple(all_cases.groupby('date')))\n",
    "\n",
    "# Split dataframes by state\n",
    "df_split_by_state = dict(tuple(all_cases.groupby('state')))"
   ]
  },
  {
   "cell_type": "code",
   "execution_count": 11,
   "metadata": {},
   "outputs": [],
   "source": [
    "# merge dataframes us_population and all_cases\n",
    "df_merge_uspop = all_cases.merge(us_population, how='left', left_on='state', right_on='Abbreviation')\n",
    "df_merge_uspop = df_merge_uspop.drop(columns=['Abbreviation'])\n",
    "df_merge_uspop = df_merge_uspop.rename(columns={'Pop': 'population'})\n",
    "\n",
    "# change location of 'population' column\n",
    "cols = list(df_merge_uspop)\n",
    "cols.insert(2, cols.pop(cols.index('population')))\n",
    "df_merge_uspop = df_merge_uspop.loc[:, cols]\n",
    "\n",
    "# merge dataframes hosp_beds and df_merge_uspop\n",
    "df_merge_hosp = df_merge_uspop.merge(hosp_beds, how='left', left_on='state', right_on='Abbreviation')\n",
    "df_merge_hosp = df_merge_hosp.drop(columns=['Abbreviation'])\n",
    "all_cases = df_merge_hosp.rename(columns={'Total': 'bedsPerThousand'})"
   ]
  },
  {
   "cell_type": "code",
   "execution_count": 12,
   "metadata": {},
   "outputs": [
    {
     "output_type": "execute_result",
     "data": {
      "text/plain": "         date state  population  positive  active  hospitalizedCurrently  \\\n0  2020-05-01    AK      734002     364.0   101.0                   25.0   \n1  2020-05-01    AL     4908621    7158.0     NaN                    NaN   \n2  2020-05-01    AR     3038999    3321.0  1284.0                   95.0   \n3  2020-05-01    AZ     7378494    7962.0  6104.0                  709.0   \n4  2020-05-01    CA    39937489   50442.0     NaN                 4706.0   \n\n   hospitalizedCumulative  inIcuCurrently  onVentilatorCurrently  recovered  \\\n0                     NaN             NaN                    NaN      254.0   \n1                  1008.0             NaN                    NaN        NaN   \n2                   414.0             NaN                   23.0     1973.0   \n3                  1203.0           311.0                  187.0     1528.0   \n4                     NaN          1434.0                    NaN        NaN   \n\n    death  hospitalized       State  bedsPerThousand  \n0     9.0           NaN      Alaska              2.2  \n1   279.0        1008.0     Alabama              3.1  \n2    64.0         414.0    Arkansas              3.2  \n3   330.0        1203.0     Arizona              1.9  \n4  2073.0           NaN  California              1.8  ",
      "text/html": "<div>\n<style scoped>\n    .dataframe tbody tr th:only-of-type {\n        vertical-align: middle;\n    }\n\n    .dataframe tbody tr th {\n        vertical-align: top;\n    }\n\n    .dataframe thead th {\n        text-align: right;\n    }\n</style>\n<table border=\"1\" class=\"dataframe\">\n  <thead>\n    <tr style=\"text-align: right;\">\n      <th></th>\n      <th>date</th>\n      <th>state</th>\n      <th>population</th>\n      <th>positive</th>\n      <th>active</th>\n      <th>hospitalizedCurrently</th>\n      <th>hospitalizedCumulative</th>\n      <th>inIcuCurrently</th>\n      <th>onVentilatorCurrently</th>\n      <th>recovered</th>\n      <th>death</th>\n      <th>hospitalized</th>\n      <th>State</th>\n      <th>bedsPerThousand</th>\n    </tr>\n  </thead>\n  <tbody>\n    <tr>\n      <th>0</th>\n      <td>2020-05-01</td>\n      <td>AK</td>\n      <td>734002</td>\n      <td>364.0</td>\n      <td>101.0</td>\n      <td>25.0</td>\n      <td>NaN</td>\n      <td>NaN</td>\n      <td>NaN</td>\n      <td>254.0</td>\n      <td>9.0</td>\n      <td>NaN</td>\n      <td>Alaska</td>\n      <td>2.2</td>\n    </tr>\n    <tr>\n      <th>1</th>\n      <td>2020-05-01</td>\n      <td>AL</td>\n      <td>4908621</td>\n      <td>7158.0</td>\n      <td>NaN</td>\n      <td>NaN</td>\n      <td>1008.0</td>\n      <td>NaN</td>\n      <td>NaN</td>\n      <td>NaN</td>\n      <td>279.0</td>\n      <td>1008.0</td>\n      <td>Alabama</td>\n      <td>3.1</td>\n    </tr>\n    <tr>\n      <th>2</th>\n      <td>2020-05-01</td>\n      <td>AR</td>\n      <td>3038999</td>\n      <td>3321.0</td>\n      <td>1284.0</td>\n      <td>95.0</td>\n      <td>414.0</td>\n      <td>NaN</td>\n      <td>23.0</td>\n      <td>1973.0</td>\n      <td>64.0</td>\n      <td>414.0</td>\n      <td>Arkansas</td>\n      <td>3.2</td>\n    </tr>\n    <tr>\n      <th>3</th>\n      <td>2020-05-01</td>\n      <td>AZ</td>\n      <td>7378494</td>\n      <td>7962.0</td>\n      <td>6104.0</td>\n      <td>709.0</td>\n      <td>1203.0</td>\n      <td>311.0</td>\n      <td>187.0</td>\n      <td>1528.0</td>\n      <td>330.0</td>\n      <td>1203.0</td>\n      <td>Arizona</td>\n      <td>1.9</td>\n    </tr>\n    <tr>\n      <th>4</th>\n      <td>2020-05-01</td>\n      <td>CA</td>\n      <td>39937489</td>\n      <td>50442.0</td>\n      <td>NaN</td>\n      <td>4706.0</td>\n      <td>NaN</td>\n      <td>1434.0</td>\n      <td>NaN</td>\n      <td>NaN</td>\n      <td>2073.0</td>\n      <td>NaN</td>\n      <td>California</td>\n      <td>1.8</td>\n    </tr>\n  </tbody>\n</table>\n</div>"
     },
     "metadata": {},
     "execution_count": 12
    }
   ],
   "source": [
    "all_cases.head()"
   ]
  },
  {
   "cell_type": "code",
   "execution_count": 13,
   "metadata": {},
   "outputs": [
    {
     "output_type": "execute_result",
     "data": {
      "text/plain": "            date state  population  positive  active  hospitalizedCurrently  \\\n0     2020-05-01    AK      734002     364.0   101.0                   25.0   \n1     2020-05-01    AL     4908621    7158.0     NaN                    NaN   \n2     2020-05-01    AR     3038999    3321.0  1284.0                   95.0   \n3     2020-05-01    AZ     7378494    7962.0  6104.0                  709.0   \n4     2020-05-01    CA    39937489   50442.0     NaN                 4706.0   \n...          ...   ...         ...       ...     ...                    ...   \n2969  2020-01-26    WA     7797095       1.0     NaN                    NaN   \n2970  2020-01-25    WA     7797095       1.0     NaN                    NaN   \n2971  2020-01-24    WA     7797095       1.0     NaN                    NaN   \n2972  2020-01-23    WA     7797095       1.0     NaN                    NaN   \n2973  2020-01-22    WA     7797095       1.0     NaN                    NaN   \n\n      hospitalizedCumulative  inIcuCurrently  onVentilatorCurrently  \\\n0                        NaN             NaN                    NaN   \n1                     1008.0             NaN                    NaN   \n2                      414.0             NaN                   23.0   \n3                     1203.0           311.0                  187.0   \n4                        NaN          1434.0                    NaN   \n...                      ...             ...                    ...   \n2969                     NaN             NaN                    NaN   \n2970                     NaN             NaN                    NaN   \n2971                     NaN             NaN                    NaN   \n2972                     NaN             NaN                    NaN   \n2973                     NaN             NaN                    NaN   \n\n      recovered   death  hospitalized       State  bedsPerThousand  total_beds  \n0         254.0     9.0           NaN      Alaska              2.2   1614.8044  \n1           NaN   279.0        1008.0     Alabama              3.1  15216.7251  \n2        1973.0    64.0         414.0    Arkansas              3.2   9724.7968  \n3        1528.0   330.0        1203.0     Arizona              1.9  14019.1386  \n4           NaN  2073.0           NaN  California              1.8  71887.4802  \n...         ...     ...           ...         ...              ...         ...  \n2969        NaN     0.0           NaN  Washington              1.7  13255.0615  \n2970        NaN     0.0           NaN  Washington              1.7  13255.0615  \n2971        NaN     0.0           NaN  Washington              1.7  13255.0615  \n2972        NaN     0.0           NaN  Washington              1.7  13255.0615  \n2973        NaN     0.0           NaN  Washington              1.7  13255.0615  \n\n[2974 rows x 15 columns]",
      "text/html": "<div>\n<style scoped>\n    .dataframe tbody tr th:only-of-type {\n        vertical-align: middle;\n    }\n\n    .dataframe tbody tr th {\n        vertical-align: top;\n    }\n\n    .dataframe thead th {\n        text-align: right;\n    }\n</style>\n<table border=\"1\" class=\"dataframe\">\n  <thead>\n    <tr style=\"text-align: right;\">\n      <th></th>\n      <th>date</th>\n      <th>state</th>\n      <th>population</th>\n      <th>positive</th>\n      <th>active</th>\n      <th>hospitalizedCurrently</th>\n      <th>hospitalizedCumulative</th>\n      <th>inIcuCurrently</th>\n      <th>onVentilatorCurrently</th>\n      <th>recovered</th>\n      <th>death</th>\n      <th>hospitalized</th>\n      <th>State</th>\n      <th>bedsPerThousand</th>\n      <th>total_beds</th>\n    </tr>\n  </thead>\n  <tbody>\n    <tr>\n      <th>0</th>\n      <td>2020-05-01</td>\n      <td>AK</td>\n      <td>734002</td>\n      <td>364.0</td>\n      <td>101.0</td>\n      <td>25.0</td>\n      <td>NaN</td>\n      <td>NaN</td>\n      <td>NaN</td>\n      <td>254.0</td>\n      <td>9.0</td>\n      <td>NaN</td>\n      <td>Alaska</td>\n      <td>2.2</td>\n      <td>1614.8044</td>\n    </tr>\n    <tr>\n      <th>1</th>\n      <td>2020-05-01</td>\n      <td>AL</td>\n      <td>4908621</td>\n      <td>7158.0</td>\n      <td>NaN</td>\n      <td>NaN</td>\n      <td>1008.0</td>\n      <td>NaN</td>\n      <td>NaN</td>\n      <td>NaN</td>\n      <td>279.0</td>\n      <td>1008.0</td>\n      <td>Alabama</td>\n      <td>3.1</td>\n      <td>15216.7251</td>\n    </tr>\n    <tr>\n      <th>2</th>\n      <td>2020-05-01</td>\n      <td>AR</td>\n      <td>3038999</td>\n      <td>3321.0</td>\n      <td>1284.0</td>\n      <td>95.0</td>\n      <td>414.0</td>\n      <td>NaN</td>\n      <td>23.0</td>\n      <td>1973.0</td>\n      <td>64.0</td>\n      <td>414.0</td>\n      <td>Arkansas</td>\n      <td>3.2</td>\n      <td>9724.7968</td>\n    </tr>\n    <tr>\n      <th>3</th>\n      <td>2020-05-01</td>\n      <td>AZ</td>\n      <td>7378494</td>\n      <td>7962.0</td>\n      <td>6104.0</td>\n      <td>709.0</td>\n      <td>1203.0</td>\n      <td>311.0</td>\n      <td>187.0</td>\n      <td>1528.0</td>\n      <td>330.0</td>\n      <td>1203.0</td>\n      <td>Arizona</td>\n      <td>1.9</td>\n      <td>14019.1386</td>\n    </tr>\n    <tr>\n      <th>4</th>\n      <td>2020-05-01</td>\n      <td>CA</td>\n      <td>39937489</td>\n      <td>50442.0</td>\n      <td>NaN</td>\n      <td>4706.0</td>\n      <td>NaN</td>\n      <td>1434.0</td>\n      <td>NaN</td>\n      <td>NaN</td>\n      <td>2073.0</td>\n      <td>NaN</td>\n      <td>California</td>\n      <td>1.8</td>\n      <td>71887.4802</td>\n    </tr>\n    <tr>\n      <th>...</th>\n      <td>...</td>\n      <td>...</td>\n      <td>...</td>\n      <td>...</td>\n      <td>...</td>\n      <td>...</td>\n      <td>...</td>\n      <td>...</td>\n      <td>...</td>\n      <td>...</td>\n      <td>...</td>\n      <td>...</td>\n      <td>...</td>\n      <td>...</td>\n      <td>...</td>\n    </tr>\n    <tr>\n      <th>2969</th>\n      <td>2020-01-26</td>\n      <td>WA</td>\n      <td>7797095</td>\n      <td>1.0</td>\n      <td>NaN</td>\n      <td>NaN</td>\n      <td>NaN</td>\n      <td>NaN</td>\n      <td>NaN</td>\n      <td>NaN</td>\n      <td>0.0</td>\n      <td>NaN</td>\n      <td>Washington</td>\n      <td>1.7</td>\n      <td>13255.0615</td>\n    </tr>\n    <tr>\n      <th>2970</th>\n      <td>2020-01-25</td>\n      <td>WA</td>\n      <td>7797095</td>\n      <td>1.0</td>\n      <td>NaN</td>\n      <td>NaN</td>\n      <td>NaN</td>\n      <td>NaN</td>\n      <td>NaN</td>\n      <td>NaN</td>\n      <td>0.0</td>\n      <td>NaN</td>\n      <td>Washington</td>\n      <td>1.7</td>\n      <td>13255.0615</td>\n    </tr>\n    <tr>\n      <th>2971</th>\n      <td>2020-01-24</td>\n      <td>WA</td>\n      <td>7797095</td>\n      <td>1.0</td>\n      <td>NaN</td>\n      <td>NaN</td>\n      <td>NaN</td>\n      <td>NaN</td>\n      <td>NaN</td>\n      <td>NaN</td>\n      <td>0.0</td>\n      <td>NaN</td>\n      <td>Washington</td>\n      <td>1.7</td>\n      <td>13255.0615</td>\n    </tr>\n    <tr>\n      <th>2972</th>\n      <td>2020-01-23</td>\n      <td>WA</td>\n      <td>7797095</td>\n      <td>1.0</td>\n      <td>NaN</td>\n      <td>NaN</td>\n      <td>NaN</td>\n      <td>NaN</td>\n      <td>NaN</td>\n      <td>NaN</td>\n      <td>0.0</td>\n      <td>NaN</td>\n      <td>Washington</td>\n      <td>1.7</td>\n      <td>13255.0615</td>\n    </tr>\n    <tr>\n      <th>2973</th>\n      <td>2020-01-22</td>\n      <td>WA</td>\n      <td>7797095</td>\n      <td>1.0</td>\n      <td>NaN</td>\n      <td>NaN</td>\n      <td>NaN</td>\n      <td>NaN</td>\n      <td>NaN</td>\n      <td>NaN</td>\n      <td>0.0</td>\n      <td>NaN</td>\n      <td>Washington</td>\n      <td>1.7</td>\n      <td>13255.0615</td>\n    </tr>\n  </tbody>\n</table>\n<p>2974 rows × 15 columns</p>\n</div>"
     },
     "metadata": {},
     "execution_count": 13
    }
   ],
   "source": [
    "# Calculate the total beds, and add the column\n",
    "all_cases['total_beds'] = all_cases['population'] / 1000 * all_cases['bedsPerThousand']\n",
    "all_cases"
   ]
  },
  {
   "cell_type": "code",
   "execution_count": 14,
   "metadata": {},
   "outputs": [],
   "source": [
    "# change abbreviations to state names\n",
    "all_cases = all_cases.rename(columns={'state': 'abbrev'})\n",
    "all_cases = all_cases.rename(columns={'State': 'state'})"
   ]
  },
  {
   "cell_type": "code",
   "execution_count": 15,
   "metadata": {},
   "outputs": [],
   "source": [
    "# change location of 'state' column\n",
    "cols = list(all_cases)\n",
    "cols.insert(1, cols.pop(cols.index('state')))\n",
    "all_cases = all_cases.loc[:, cols]"
   ]
  },
  {
   "cell_type": "code",
   "execution_count": 16,
   "metadata": {},
   "outputs": [
    {
     "output_type": "execute_result",
     "data": {
      "text/plain": "            date       state abbrev  population  positive  active  \\\n0     2020-05-01      Alaska     AK      734002     364.0   101.0   \n1     2020-05-01     Alabama     AL     4908621    7158.0     NaN   \n2     2020-05-01    Arkansas     AR     3038999    3321.0  1284.0   \n3     2020-05-01     Arizona     AZ     7378494    7962.0  6104.0   \n4     2020-05-01  California     CA    39937489   50442.0     NaN   \n...          ...         ...    ...         ...       ...     ...   \n2969  2020-01-26  Washington     WA     7797095       1.0     NaN   \n2970  2020-01-25  Washington     WA     7797095       1.0     NaN   \n2971  2020-01-24  Washington     WA     7797095       1.0     NaN   \n2972  2020-01-23  Washington     WA     7797095       1.0     NaN   \n2973  2020-01-22  Washington     WA     7797095       1.0     NaN   \n\n      hospitalizedCurrently  hospitalizedCumulative  inIcuCurrently  \\\n0                      25.0                     NaN             NaN   \n1                       NaN                  1008.0             NaN   \n2                      95.0                   414.0             NaN   \n3                     709.0                  1203.0           311.0   \n4                    4706.0                     NaN          1434.0   \n...                     ...                     ...             ...   \n2969                    NaN                     NaN             NaN   \n2970                    NaN                     NaN             NaN   \n2971                    NaN                     NaN             NaN   \n2972                    NaN                     NaN             NaN   \n2973                    NaN                     NaN             NaN   \n\n      onVentilatorCurrently  recovered   death  hospitalized  bedsPerThousand  \\\n0                       NaN      254.0     9.0           NaN              2.2   \n1                       NaN        NaN   279.0        1008.0              3.1   \n2                      23.0     1973.0    64.0         414.0              3.2   \n3                     187.0     1528.0   330.0        1203.0              1.9   \n4                       NaN        NaN  2073.0           NaN              1.8   \n...                     ...        ...     ...           ...              ...   \n2969                    NaN        NaN     0.0           NaN              1.7   \n2970                    NaN        NaN     0.0           NaN              1.7   \n2971                    NaN        NaN     0.0           NaN              1.7   \n2972                    NaN        NaN     0.0           NaN              1.7   \n2973                    NaN        NaN     0.0           NaN              1.7   \n\n      total_beds  \n0      1614.8044  \n1     15216.7251  \n2      9724.7968  \n3     14019.1386  \n4     71887.4802  \n...          ...  \n2969  13255.0615  \n2970  13255.0615  \n2971  13255.0615  \n2972  13255.0615  \n2973  13255.0615  \n\n[2974 rows x 15 columns]",
      "text/html": "<div>\n<style scoped>\n    .dataframe tbody tr th:only-of-type {\n        vertical-align: middle;\n    }\n\n    .dataframe tbody tr th {\n        vertical-align: top;\n    }\n\n    .dataframe thead th {\n        text-align: right;\n    }\n</style>\n<table border=\"1\" class=\"dataframe\">\n  <thead>\n    <tr style=\"text-align: right;\">\n      <th></th>\n      <th>date</th>\n      <th>state</th>\n      <th>abbrev</th>\n      <th>population</th>\n      <th>positive</th>\n      <th>active</th>\n      <th>hospitalizedCurrently</th>\n      <th>hospitalizedCumulative</th>\n      <th>inIcuCurrently</th>\n      <th>onVentilatorCurrently</th>\n      <th>recovered</th>\n      <th>death</th>\n      <th>hospitalized</th>\n      <th>bedsPerThousand</th>\n      <th>total_beds</th>\n    </tr>\n  </thead>\n  <tbody>\n    <tr>\n      <th>0</th>\n      <td>2020-05-01</td>\n      <td>Alaska</td>\n      <td>AK</td>\n      <td>734002</td>\n      <td>364.0</td>\n      <td>101.0</td>\n      <td>25.0</td>\n      <td>NaN</td>\n      <td>NaN</td>\n      <td>NaN</td>\n      <td>254.0</td>\n      <td>9.0</td>\n      <td>NaN</td>\n      <td>2.2</td>\n      <td>1614.8044</td>\n    </tr>\n    <tr>\n      <th>1</th>\n      <td>2020-05-01</td>\n      <td>Alabama</td>\n      <td>AL</td>\n      <td>4908621</td>\n      <td>7158.0</td>\n      <td>NaN</td>\n      <td>NaN</td>\n      <td>1008.0</td>\n      <td>NaN</td>\n      <td>NaN</td>\n      <td>NaN</td>\n      <td>279.0</td>\n      <td>1008.0</td>\n      <td>3.1</td>\n      <td>15216.7251</td>\n    </tr>\n    <tr>\n      <th>2</th>\n      <td>2020-05-01</td>\n      <td>Arkansas</td>\n      <td>AR</td>\n      <td>3038999</td>\n      <td>3321.0</td>\n      <td>1284.0</td>\n      <td>95.0</td>\n      <td>414.0</td>\n      <td>NaN</td>\n      <td>23.0</td>\n      <td>1973.0</td>\n      <td>64.0</td>\n      <td>414.0</td>\n      <td>3.2</td>\n      <td>9724.7968</td>\n    </tr>\n    <tr>\n      <th>3</th>\n      <td>2020-05-01</td>\n      <td>Arizona</td>\n      <td>AZ</td>\n      <td>7378494</td>\n      <td>7962.0</td>\n      <td>6104.0</td>\n      <td>709.0</td>\n      <td>1203.0</td>\n      <td>311.0</td>\n      <td>187.0</td>\n      <td>1528.0</td>\n      <td>330.0</td>\n      <td>1203.0</td>\n      <td>1.9</td>\n      <td>14019.1386</td>\n    </tr>\n    <tr>\n      <th>4</th>\n      <td>2020-05-01</td>\n      <td>California</td>\n      <td>CA</td>\n      <td>39937489</td>\n      <td>50442.0</td>\n      <td>NaN</td>\n      <td>4706.0</td>\n      <td>NaN</td>\n      <td>1434.0</td>\n      <td>NaN</td>\n      <td>NaN</td>\n      <td>2073.0</td>\n      <td>NaN</td>\n      <td>1.8</td>\n      <td>71887.4802</td>\n    </tr>\n    <tr>\n      <th>...</th>\n      <td>...</td>\n      <td>...</td>\n      <td>...</td>\n      <td>...</td>\n      <td>...</td>\n      <td>...</td>\n      <td>...</td>\n      <td>...</td>\n      <td>...</td>\n      <td>...</td>\n      <td>...</td>\n      <td>...</td>\n      <td>...</td>\n      <td>...</td>\n      <td>...</td>\n    </tr>\n    <tr>\n      <th>2969</th>\n      <td>2020-01-26</td>\n      <td>Washington</td>\n      <td>WA</td>\n      <td>7797095</td>\n      <td>1.0</td>\n      <td>NaN</td>\n      <td>NaN</td>\n      <td>NaN</td>\n      <td>NaN</td>\n      <td>NaN</td>\n      <td>NaN</td>\n      <td>0.0</td>\n      <td>NaN</td>\n      <td>1.7</td>\n      <td>13255.0615</td>\n    </tr>\n    <tr>\n      <th>2970</th>\n      <td>2020-01-25</td>\n      <td>Washington</td>\n      <td>WA</td>\n      <td>7797095</td>\n      <td>1.0</td>\n      <td>NaN</td>\n      <td>NaN</td>\n      <td>NaN</td>\n      <td>NaN</td>\n      <td>NaN</td>\n      <td>NaN</td>\n      <td>0.0</td>\n      <td>NaN</td>\n      <td>1.7</td>\n      <td>13255.0615</td>\n    </tr>\n    <tr>\n      <th>2971</th>\n      <td>2020-01-24</td>\n      <td>Washington</td>\n      <td>WA</td>\n      <td>7797095</td>\n      <td>1.0</td>\n      <td>NaN</td>\n      <td>NaN</td>\n      <td>NaN</td>\n      <td>NaN</td>\n      <td>NaN</td>\n      <td>NaN</td>\n      <td>0.0</td>\n      <td>NaN</td>\n      <td>1.7</td>\n      <td>13255.0615</td>\n    </tr>\n    <tr>\n      <th>2972</th>\n      <td>2020-01-23</td>\n      <td>Washington</td>\n      <td>WA</td>\n      <td>7797095</td>\n      <td>1.0</td>\n      <td>NaN</td>\n      <td>NaN</td>\n      <td>NaN</td>\n      <td>NaN</td>\n      <td>NaN</td>\n      <td>NaN</td>\n      <td>0.0</td>\n      <td>NaN</td>\n      <td>1.7</td>\n      <td>13255.0615</td>\n    </tr>\n    <tr>\n      <th>2973</th>\n      <td>2020-01-22</td>\n      <td>Washington</td>\n      <td>WA</td>\n      <td>7797095</td>\n      <td>1.0</td>\n      <td>NaN</td>\n      <td>NaN</td>\n      <td>NaN</td>\n      <td>NaN</td>\n      <td>NaN</td>\n      <td>NaN</td>\n      <td>0.0</td>\n      <td>NaN</td>\n      <td>1.7</td>\n      <td>13255.0615</td>\n    </tr>\n  </tbody>\n</table>\n<p>2974 rows × 15 columns</p>\n</div>"
     },
     "metadata": {},
     "execution_count": 16
    }
   ],
   "source": [
    "all_cases"
   ]
  },
  {
   "cell_type": "markdown",
   "metadata": {},
   "source": [
    "- Load and clean JHU data\n",
    "- Merge JHU dataset with main dataset"
   ]
  },
  {
   "cell_type": "code",
   "execution_count": 17,
   "metadata": {},
   "outputs": [],
   "source": [
    "# This cell takes some time, as it needs to connect to Kaggle Servers to retrieve data\n",
    "kaggle.api.authenticate()\n",
    "kaggle.api.dataset_download_files('benhamner/jhucovid19', path='./kaggle/input/jhucovid19/', unzip=True)"
   ]
  },
  {
   "cell_type": "code",
   "execution_count": 18,
   "metadata": {},
   "outputs": [
    {
     "output_type": "execute_result",
     "data": {
      "text/plain": "      LastUpdate  ProvinceState   Active  Confirmed  Deaths  Recovered\n0     2020-01-22     Washington      0.0        1.0     0.0        0.0\n1     2020-01-23     Washington      0.0        1.0     0.0        0.0\n2     2020-01-24     Washington      0.0        1.0     0.0        0.0\n3     2020-01-25       Illinois      0.0        1.0     0.0        0.0\n4     2020-01-25     Washington      0.0        1.0     0.0        0.0\n...          ...            ...      ...        ...     ...        ...\n2697  2020-05-01       Virginia  15295.0    15847.0   552.0        0.0\n2698  2020-05-01     Washington  13513.0    14327.0   814.0        0.0\n2699  2020-05-01  West Virginia   1084.0     1125.0    41.0        0.0\n2700  2020-05-01      Wisconsin   6538.0     6854.0   316.0        0.0\n2701  2020-05-01        Wyoming    552.0      559.0     7.0        0.0\n\n[2702 rows x 6 columns]",
      "text/html": "<div>\n<style scoped>\n    .dataframe tbody tr th:only-of-type {\n        vertical-align: middle;\n    }\n\n    .dataframe tbody tr th {\n        vertical-align: top;\n    }\n\n    .dataframe thead th {\n        text-align: right;\n    }\n</style>\n<table border=\"1\" class=\"dataframe\">\n  <thead>\n    <tr style=\"text-align: right;\">\n      <th></th>\n      <th>LastUpdate</th>\n      <th>ProvinceState</th>\n      <th>Active</th>\n      <th>Confirmed</th>\n      <th>Deaths</th>\n      <th>Recovered</th>\n    </tr>\n  </thead>\n  <tbody>\n    <tr>\n      <th>0</th>\n      <td>2020-01-22</td>\n      <td>Washington</td>\n      <td>0.0</td>\n      <td>1.0</td>\n      <td>0.0</td>\n      <td>0.0</td>\n    </tr>\n    <tr>\n      <th>1</th>\n      <td>2020-01-23</td>\n      <td>Washington</td>\n      <td>0.0</td>\n      <td>1.0</td>\n      <td>0.0</td>\n      <td>0.0</td>\n    </tr>\n    <tr>\n      <th>2</th>\n      <td>2020-01-24</td>\n      <td>Washington</td>\n      <td>0.0</td>\n      <td>1.0</td>\n      <td>0.0</td>\n      <td>0.0</td>\n    </tr>\n    <tr>\n      <th>3</th>\n      <td>2020-01-25</td>\n      <td>Illinois</td>\n      <td>0.0</td>\n      <td>1.0</td>\n      <td>0.0</td>\n      <td>0.0</td>\n    </tr>\n    <tr>\n      <th>4</th>\n      <td>2020-01-25</td>\n      <td>Washington</td>\n      <td>0.0</td>\n      <td>1.0</td>\n      <td>0.0</td>\n      <td>0.0</td>\n    </tr>\n    <tr>\n      <th>...</th>\n      <td>...</td>\n      <td>...</td>\n      <td>...</td>\n      <td>...</td>\n      <td>...</td>\n      <td>...</td>\n    </tr>\n    <tr>\n      <th>2697</th>\n      <td>2020-05-01</td>\n      <td>Virginia</td>\n      <td>15295.0</td>\n      <td>15847.0</td>\n      <td>552.0</td>\n      <td>0.0</td>\n    </tr>\n    <tr>\n      <th>2698</th>\n      <td>2020-05-01</td>\n      <td>Washington</td>\n      <td>13513.0</td>\n      <td>14327.0</td>\n      <td>814.0</td>\n      <td>0.0</td>\n    </tr>\n    <tr>\n      <th>2699</th>\n      <td>2020-05-01</td>\n      <td>West Virginia</td>\n      <td>1084.0</td>\n      <td>1125.0</td>\n      <td>41.0</td>\n      <td>0.0</td>\n    </tr>\n    <tr>\n      <th>2700</th>\n      <td>2020-05-01</td>\n      <td>Wisconsin</td>\n      <td>6538.0</td>\n      <td>6854.0</td>\n      <td>316.0</td>\n      <td>0.0</td>\n    </tr>\n    <tr>\n      <th>2701</th>\n      <td>2020-05-01</td>\n      <td>Wyoming</td>\n      <td>552.0</td>\n      <td>559.0</td>\n      <td>7.0</td>\n      <td>0.0</td>\n    </tr>\n  </tbody>\n</table>\n<p>2702 rows × 6 columns</p>\n</div>"
     },
     "metadata": {},
     "execution_count": 18
    }
   ],
   "source": [
    "# Get Time-Series Data of cases as Pandas DataFrame\n",
    "dir_jhu = './kaggle/input/jhucovid19/csse_covid_19_data/csse_covid_19_daily_reports'\n",
    "\n",
    "df_list = []\n",
    "for dirname, _, files in os.walk(dir_jhu):\n",
    "    for file in files:\n",
    "        if 'gitignore' not in file and 'README' not in file:\n",
    "            full_dir = os.path.join(dirname, file)\n",
    "            #print(full_dir)\n",
    "            df_list.append(pd.read_csv(full_dir))\n",
    "jhu_df = pd.concat(df_list, axis=0, ignore_index=True, sort=True)\n",
    "\n",
    "# combine Last Update with Last_Update\n",
    "jhu_df['LastUpdate'] = jhu_df['Last_Update'].combine_first(jhu_df['Last Update'])\n",
    "\n",
    "# format dates with parser\n",
    "for i, row in jhu_df.iterrows():\n",
    "    # update dates\n",
    "    jhu_df.at[i, 'LastUpdate'] = parse(jhu_df.at[i, 'LastUpdate']).date()\n",
    "\n",
    "# combine Country/Region with Country_Region\n",
    "jhu_df['CountryRegion'] = jhu_df['Country/Region'].combine_first(jhu_df['Country_Region'])\n",
    "\n",
    "# Retrieve only US data\n",
    "jhu_df = jhu_df[jhu_df['CountryRegion']=='US']\n",
    "\n",
    "# combine Province/State with Province_State\n",
    "jhu_df['ProvinceState'] = jhu_df['Province/State'].combine_first(jhu_df['Province_State'])\n",
    "\n",
    "# drop unnecessary columns\n",
    "jhu_df = jhu_df.drop(['Admin2', 'Lat', 'Latitude', 'Long_', 'Longitude', 'Combined_Key', 'Country/Region',\n",
    "                      'Country_Region', 'Province/State', 'Province_State',\n",
    "                      'Last Update', 'Last_Update', 'FIPS'], axis=1)\n",
    "\n",
    "# change column order\n",
    "cols = list(jhu_df)\n",
    "cols.insert(0, cols.pop(cols.index('CountryRegion')))\n",
    "cols.insert(1, cols.pop(cols.index('ProvinceState')))\n",
    "cols.insert(2, cols.pop(cols.index('LastUpdate')))\n",
    "jhu_df = jhu_df.loc[:, cols]\n",
    "\n",
    "# Change region to known US states\n",
    "import us\n",
    "state_abbrs = []\n",
    "for state in us.states.STATES:\n",
    "    state_abbrs.append(state.abbr)\n",
    "\n",
    "for i, row in jhu_df.iterrows():\n",
    "    for j in state_abbrs:\n",
    "        if j in jhu_df.at[i, 'ProvinceState']:\n",
    "            jhu_df.at[i, 'ProvinceState'] = us.states.lookup(j).name\n",
    "        if jhu_df.at[i, 'ProvinceState'] == 'Washington, D.C.':\n",
    "            jhu_df.at[i, 'ProvinceState'] = 'District of Columbia'\n",
    "\n",
    "# Filter out unknown states\n",
    "jhu_df = jhu_df[jhu_df['ProvinceState'].isin(list(all_cases.state.unique()))]\n",
    "\n",
    "# Merge-sum rows with same date and State\n",
    "jhu_df = jhu_df.groupby(['LastUpdate', 'ProvinceState']).agg(\n",
    "    {\n",
    "        'Active': sum,\n",
    "        'Confirmed': sum,\n",
    "        'Deaths': sum,\n",
    "        'Recovered': sum\n",
    "    }\n",
    ").reset_index()\n",
    "\n",
    "jhu_df"
   ]
  },
  {
   "cell_type": "code",
   "execution_count": 19,
   "metadata": {},
   "outputs": [
    {
     "output_type": "execute_result",
     "data": {
      "text/plain": "            date       state abbrev  population  positive   active  \\\n0     2020-05-01      Alaska     AK      734002     364.0    346.0   \n1     2020-05-01     Alabama     AL     4908621    7158.0   6879.0   \n2     2020-05-01    Arkansas     AR     3038999    3321.0   3220.0   \n3     2020-05-01     Arizona     AZ     7378494    7962.0   7335.0   \n4     2020-05-01  California     CA    39937489   50442.0  48369.0   \n...          ...         ...    ...         ...       ...      ...   \n2969  2020-01-26  Washington     WA     7797095       1.0      1.0   \n2970  2020-01-25  Washington     WA     7797095       1.0      1.0   \n2971  2020-01-24  Washington     WA     7797095       1.0      1.0   \n2972  2020-01-23  Washington     WA     7797095       1.0      1.0   \n2973  2020-01-22  Washington     WA     7797095       1.0      1.0   \n\n      hospitalizedCurrently  hospitalizedCumulative  inIcuCurrently  \\\n0                      25.0                     NaN             NaN   \n1                       NaN                  1008.0             NaN   \n2                      95.0                   414.0             NaN   \n3                     709.0                  1203.0           311.0   \n4                    4706.0                     NaN          1434.0   \n...                     ...                     ...             ...   \n2969                    NaN                     NaN             NaN   \n2970                    NaN                     NaN             NaN   \n2971                    NaN                     NaN             NaN   \n2972                    NaN                     NaN             NaN   \n2973                    NaN                     NaN             NaN   \n\n      onVentilatorCurrently  recovered   death  hospitalized  bedsPerThousand  \\\n0                       NaN      254.0     9.0           NaN              2.2   \n1                       NaN        0.0   279.0        1008.0              3.1   \n2                      23.0     1973.0    64.0         414.0              3.2   \n3                     187.0     1528.0   330.0        1203.0              1.9   \n4                       NaN        0.0  2073.0           NaN              1.8   \n...                     ...        ...     ...           ...              ...   \n2969                    NaN        0.0     0.0           NaN              1.7   \n2970                    NaN        0.0     0.0           NaN              1.7   \n2971                    NaN        0.0     0.0           NaN              1.7   \n2972                    NaN        0.0     0.0           NaN              1.7   \n2973                    NaN        0.0     0.0           NaN              1.7   \n\n      total_beds  \n0      1614.8044  \n1     15216.7251  \n2      9724.7968  \n3     14019.1386  \n4     71887.4802  \n...          ...  \n2969  13255.0615  \n2970  13255.0615  \n2971  13255.0615  \n2972  13255.0615  \n2973  13255.0615  \n\n[2974 rows x 15 columns]",
      "text/html": "<div>\n<style scoped>\n    .dataframe tbody tr th:only-of-type {\n        vertical-align: middle;\n    }\n\n    .dataframe tbody tr th {\n        vertical-align: top;\n    }\n\n    .dataframe thead th {\n        text-align: right;\n    }\n</style>\n<table border=\"1\" class=\"dataframe\">\n  <thead>\n    <tr style=\"text-align: right;\">\n      <th></th>\n      <th>date</th>\n      <th>state</th>\n      <th>abbrev</th>\n      <th>population</th>\n      <th>positive</th>\n      <th>active</th>\n      <th>hospitalizedCurrently</th>\n      <th>hospitalizedCumulative</th>\n      <th>inIcuCurrently</th>\n      <th>onVentilatorCurrently</th>\n      <th>recovered</th>\n      <th>death</th>\n      <th>hospitalized</th>\n      <th>bedsPerThousand</th>\n      <th>total_beds</th>\n    </tr>\n  </thead>\n  <tbody>\n    <tr>\n      <th>0</th>\n      <td>2020-05-01</td>\n      <td>Alaska</td>\n      <td>AK</td>\n      <td>734002</td>\n      <td>364.0</td>\n      <td>346.0</td>\n      <td>25.0</td>\n      <td>NaN</td>\n      <td>NaN</td>\n      <td>NaN</td>\n      <td>254.0</td>\n      <td>9.0</td>\n      <td>NaN</td>\n      <td>2.2</td>\n      <td>1614.8044</td>\n    </tr>\n    <tr>\n      <th>1</th>\n      <td>2020-05-01</td>\n      <td>Alabama</td>\n      <td>AL</td>\n      <td>4908621</td>\n      <td>7158.0</td>\n      <td>6879.0</td>\n      <td>NaN</td>\n      <td>1008.0</td>\n      <td>NaN</td>\n      <td>NaN</td>\n      <td>0.0</td>\n      <td>279.0</td>\n      <td>1008.0</td>\n      <td>3.1</td>\n      <td>15216.7251</td>\n    </tr>\n    <tr>\n      <th>2</th>\n      <td>2020-05-01</td>\n      <td>Arkansas</td>\n      <td>AR</td>\n      <td>3038999</td>\n      <td>3321.0</td>\n      <td>3220.0</td>\n      <td>95.0</td>\n      <td>414.0</td>\n      <td>NaN</td>\n      <td>23.0</td>\n      <td>1973.0</td>\n      <td>64.0</td>\n      <td>414.0</td>\n      <td>3.2</td>\n      <td>9724.7968</td>\n    </tr>\n    <tr>\n      <th>3</th>\n      <td>2020-05-01</td>\n      <td>Arizona</td>\n      <td>AZ</td>\n      <td>7378494</td>\n      <td>7962.0</td>\n      <td>7335.0</td>\n      <td>709.0</td>\n      <td>1203.0</td>\n      <td>311.0</td>\n      <td>187.0</td>\n      <td>1528.0</td>\n      <td>330.0</td>\n      <td>1203.0</td>\n      <td>1.9</td>\n      <td>14019.1386</td>\n    </tr>\n    <tr>\n      <th>4</th>\n      <td>2020-05-01</td>\n      <td>California</td>\n      <td>CA</td>\n      <td>39937489</td>\n      <td>50442.0</td>\n      <td>48369.0</td>\n      <td>4706.0</td>\n      <td>NaN</td>\n      <td>1434.0</td>\n      <td>NaN</td>\n      <td>0.0</td>\n      <td>2073.0</td>\n      <td>NaN</td>\n      <td>1.8</td>\n      <td>71887.4802</td>\n    </tr>\n    <tr>\n      <th>...</th>\n      <td>...</td>\n      <td>...</td>\n      <td>...</td>\n      <td>...</td>\n      <td>...</td>\n      <td>...</td>\n      <td>...</td>\n      <td>...</td>\n      <td>...</td>\n      <td>...</td>\n      <td>...</td>\n      <td>...</td>\n      <td>...</td>\n      <td>...</td>\n      <td>...</td>\n    </tr>\n    <tr>\n      <th>2969</th>\n      <td>2020-01-26</td>\n      <td>Washington</td>\n      <td>WA</td>\n      <td>7797095</td>\n      <td>1.0</td>\n      <td>1.0</td>\n      <td>NaN</td>\n      <td>NaN</td>\n      <td>NaN</td>\n      <td>NaN</td>\n      <td>0.0</td>\n      <td>0.0</td>\n      <td>NaN</td>\n      <td>1.7</td>\n      <td>13255.0615</td>\n    </tr>\n    <tr>\n      <th>2970</th>\n      <td>2020-01-25</td>\n      <td>Washington</td>\n      <td>WA</td>\n      <td>7797095</td>\n      <td>1.0</td>\n      <td>1.0</td>\n      <td>NaN</td>\n      <td>NaN</td>\n      <td>NaN</td>\n      <td>NaN</td>\n      <td>0.0</td>\n      <td>0.0</td>\n      <td>NaN</td>\n      <td>1.7</td>\n      <td>13255.0615</td>\n    </tr>\n    <tr>\n      <th>2971</th>\n      <td>2020-01-24</td>\n      <td>Washington</td>\n      <td>WA</td>\n      <td>7797095</td>\n      <td>1.0</td>\n      <td>1.0</td>\n      <td>NaN</td>\n      <td>NaN</td>\n      <td>NaN</td>\n      <td>NaN</td>\n      <td>0.0</td>\n      <td>0.0</td>\n      <td>NaN</td>\n      <td>1.7</td>\n      <td>13255.0615</td>\n    </tr>\n    <tr>\n      <th>2972</th>\n      <td>2020-01-23</td>\n      <td>Washington</td>\n      <td>WA</td>\n      <td>7797095</td>\n      <td>1.0</td>\n      <td>1.0</td>\n      <td>NaN</td>\n      <td>NaN</td>\n      <td>NaN</td>\n      <td>NaN</td>\n      <td>0.0</td>\n      <td>0.0</td>\n      <td>NaN</td>\n      <td>1.7</td>\n      <td>13255.0615</td>\n    </tr>\n    <tr>\n      <th>2973</th>\n      <td>2020-01-22</td>\n      <td>Washington</td>\n      <td>WA</td>\n      <td>7797095</td>\n      <td>1.0</td>\n      <td>1.0</td>\n      <td>NaN</td>\n      <td>NaN</td>\n      <td>NaN</td>\n      <td>NaN</td>\n      <td>0.0</td>\n      <td>0.0</td>\n      <td>NaN</td>\n      <td>1.7</td>\n      <td>13255.0615</td>\n    </tr>\n  </tbody>\n</table>\n<p>2974 rows × 15 columns</p>\n</div>"
     },
     "metadata": {},
     "execution_count": 19
    }
   ],
   "source": [
    "# Now that we have the JHU dataset relatively cleaned\n",
    "# we can go ahead and merge its data with our main dataset\n",
    "\n",
    "for i, row in all_cases.iterrows():\n",
    "    last_update = all_cases.at[i, 'date']\n",
    "    state = all_cases.at[i, 'state']\n",
    "    matching_row = jhu_df[jhu_df['ProvinceState'] == state]\n",
    "    matching_row = matching_row[matching_row['LastUpdate'] == last_update].reset_index()\n",
    "\n",
    "    if len(matching_row.values) > 0:\n",
    "        #all_cases.at[i, 'positive'] = matching_row['Confirmed'].values[0]\n",
    "        all_cases.at[i, 'active'] = matching_row['Active'].values[0]\n",
    "        #all_cases.at[i, 'recovered'] = matching_row['Recovered'].values[0]   --- JHU was inconsistent, therefore removed\n",
    "        #all_cases.at[i, 'death'] = matching_row['Deaths'].values[0]\n",
    "\n",
    "    # Replace unknown recovery numbers with 0\n",
    "    if np.isnan(row['recovered']):\n",
    "        all_cases.at[i, 'recovered'] = 0\n",
    "\n",
    "    if all_cases.at[i, 'active'] == 0 or np.isnan(row['active']):\n",
    "        positive = all_cases.at[i, 'positive']\n",
    "        recovered = all_cases.at[i, 'recovered']\n",
    "        dead = all_cases.at[i, 'death']\n",
    "        all_cases.at[i, 'active'] = positive - recovered - dead\n",
    "\n",
    "all_cases"
   ]
  },
  {
   "cell_type": "code",
   "execution_count": 22,
   "metadata": {},
   "outputs": [],
   "source": [
    "# Save formatted dataset offline in case of disaster\n",
    "all_cases.to_csv('all_cases.csv')"
   ]
  },
  {
   "cell_type": "markdown",
   "metadata": {},
   "source": [
    "## Step 2: Some Exploratory Data Analysis (EDA)"
   ]
  },
  {
   "cell_type": "code",
   "execution_count": 20,
   "metadata": {},
   "outputs": [],
   "source": [
    "# TODO Get some insights on data"
   ]
  },
  {
   "cell_type": "markdown",
   "metadata": {},
   "source": [
    "## Step 3: Build model for dependent Variable \n",
    "- To be used to predict hospitalizedCurrently\n",
    "- Having more complete variables for inICUCurrently and onVentilatorCurrently will allow us to predict these numbers as well"
   ]
  },
  {
   "cell_type": "code",
   "execution_count": 116,
   "metadata": {},
   "outputs": [
    {
     "output_type": "execute_result",
     "data": {
      "text/plain": "         date  population  positive   active  hospitalizedCurrently  \\\n0  2020-05-01      734002     364.0    346.0                   25.0   \n2  2020-05-01     3038999    3321.0   3220.0                   95.0   \n3  2020-05-01     7378494    7962.0   7335.0                  709.0   \n4  2020-05-01    39937489   50442.0  48369.0                 4706.0   \n5  2020-05-01     5845526   15284.0  14507.0                  959.0   \n\n   inIcuCurrently  onVentilatorCurrently  recovered   death  total_beds  \\\n0             NaN                    NaN      254.0     9.0   1614.8044   \n2             NaN                   23.0     1973.0    64.0   9724.7968   \n3           311.0                  187.0     1528.0   330.0  14019.1386   \n4          1434.0                    NaN        0.0  2073.0  71887.4802   \n5             NaN                    NaN     2486.0   777.0  11106.4994   \n\n   ratio_hospital  \n0        0.072254  \n2        0.029503  \n3        0.096660  \n4        0.097294  \n5        0.066106  ",
      "text/html": "<div>\n<style scoped>\n    .dataframe tbody tr th:only-of-type {\n        vertical-align: middle;\n    }\n\n    .dataframe tbody tr th {\n        vertical-align: top;\n    }\n\n    .dataframe thead th {\n        text-align: right;\n    }\n</style>\n<table border=\"1\" class=\"dataframe\">\n  <thead>\n    <tr style=\"text-align: right;\">\n      <th></th>\n      <th>date</th>\n      <th>population</th>\n      <th>positive</th>\n      <th>active</th>\n      <th>hospitalizedCurrently</th>\n      <th>inIcuCurrently</th>\n      <th>onVentilatorCurrently</th>\n      <th>recovered</th>\n      <th>death</th>\n      <th>total_beds</th>\n      <th>ratio_hospital</th>\n    </tr>\n  </thead>\n  <tbody>\n    <tr>\n      <th>0</th>\n      <td>2020-05-01</td>\n      <td>734002</td>\n      <td>364.0</td>\n      <td>346.0</td>\n      <td>25.0</td>\n      <td>NaN</td>\n      <td>NaN</td>\n      <td>254.0</td>\n      <td>9.0</td>\n      <td>1614.8044</td>\n      <td>0.072254</td>\n    </tr>\n    <tr>\n      <th>2</th>\n      <td>2020-05-01</td>\n      <td>3038999</td>\n      <td>3321.0</td>\n      <td>3220.0</td>\n      <td>95.0</td>\n      <td>NaN</td>\n      <td>23.0</td>\n      <td>1973.0</td>\n      <td>64.0</td>\n      <td>9724.7968</td>\n      <td>0.029503</td>\n    </tr>\n    <tr>\n      <th>3</th>\n      <td>2020-05-01</td>\n      <td>7378494</td>\n      <td>7962.0</td>\n      <td>7335.0</td>\n      <td>709.0</td>\n      <td>311.0</td>\n      <td>187.0</td>\n      <td>1528.0</td>\n      <td>330.0</td>\n      <td>14019.1386</td>\n      <td>0.096660</td>\n    </tr>\n    <tr>\n      <th>4</th>\n      <td>2020-05-01</td>\n      <td>39937489</td>\n      <td>50442.0</td>\n      <td>48369.0</td>\n      <td>4706.0</td>\n      <td>1434.0</td>\n      <td>NaN</td>\n      <td>0.0</td>\n      <td>2073.0</td>\n      <td>71887.4802</td>\n      <td>0.097294</td>\n    </tr>\n    <tr>\n      <th>5</th>\n      <td>2020-05-01</td>\n      <td>5845526</td>\n      <td>15284.0</td>\n      <td>14507.0</td>\n      <td>959.0</td>\n      <td>NaN</td>\n      <td>NaN</td>\n      <td>2486.0</td>\n      <td>777.0</td>\n      <td>11106.4994</td>\n      <td>0.066106</td>\n    </tr>\n  </tbody>\n</table>\n</div>"
     },
     "metadata": {},
     "execution_count": 116
    }
   ],
   "source": [
    "# We are going to compare three models:\n",
    "# - Linear Regression\n",
    "# - Polynomial Regression\n",
    "# - ElasticNet\n",
    "\n",
    "# Copy DFs to not mess up original one\n",
    "# We will use model_df for our regression model\n",
    "model_df = all_cases.copy()\n",
    "\n",
    "# Delete redundant rows\n",
    "for row in ['abbrev', 'bedsPerThousand', 'hospitalized', \n",
    "'state', 'hospitalizedCumulative']:\n",
    "    del model_df[row]\n",
    "\n",
    "# Drop NaN values for hospitalizedCurrently\n",
    "model_df = model_df.dropna(subset=['hospitalizedCurrently'])\n",
    "\n",
    "# Drop Values with low active-hospitalised ratio\n",
    "# TODO see if we can instead use this as a variable\n",
    "model_df['ratio_hospital'] = model_df['hospitalizedCurrently'] / model_df['active']\n",
    "model_df = model_df[~(model_df['ratio_hospital'] <= model_df['ratio_hospital'].median())]\n",
    "del model_df['ratio_hospital']\n",
    "\n",
    "# Get peek of model to use\n",
    "model_df.head()"
   ]
  },
  {
   "cell_type": "markdown",
   "metadata": {},
   "source": [
    "### Model 1: Linear Regression"
   ]
  },
  {
   "cell_type": "code",
   "execution_count": 120,
   "metadata": {},
   "outputs": [
    {
     "output_type": "execute_result",
     "data": {
      "text/plain": "                                           param_comb          score\n62  [population, positive, active, recovered, deat...  222124.627426\n56   [population, positive, active, recovered, death]  222159.191875\n61   [positive, active, recovered, death, total_beds]  222456.392515\n58  [population, positive, active, death, total_beds]  225737.063955\n42              [population, positive, active, death]  225738.569479",
      "text/html": "<div>\n<style scoped>\n    .dataframe tbody tr th:only-of-type {\n        vertical-align: middle;\n    }\n\n    .dataframe tbody tr th {\n        vertical-align: top;\n    }\n\n    .dataframe thead th {\n        text-align: right;\n    }\n</style>\n<table border=\"1\" class=\"dataframe\">\n  <thead>\n    <tr style=\"text-align: right;\">\n      <th></th>\n      <th>param_comb</th>\n      <th>score</th>\n    </tr>\n  </thead>\n  <tbody>\n    <tr>\n      <th>62</th>\n      <td>[population, positive, active, recovered, deat...</td>\n      <td>222124.627426</td>\n    </tr>\n    <tr>\n      <th>56</th>\n      <td>[population, positive, active, recovered, death]</td>\n      <td>222159.191875</td>\n    </tr>\n    <tr>\n      <th>61</th>\n      <td>[positive, active, recovered, death, total_beds]</td>\n      <td>222456.392515</td>\n    </tr>\n    <tr>\n      <th>58</th>\n      <td>[population, positive, active, death, total_beds]</td>\n      <td>225737.063955</td>\n    </tr>\n    <tr>\n      <th>42</th>\n      <td>[population, positive, active, death]</td>\n      <td>225738.569479</td>\n    </tr>\n  </tbody>\n</table>\n</div>"
     },
     "metadata": {},
     "execution_count": 120
    }
   ],
   "source": [
    "import itertools\n",
    "\n",
    "mse_df = {'param_comb': [],\n",
    "'score': []}\n",
    "\n",
    "independent_cols = [x for x in list(model_df.columns) if not(x in ['hospitalizedCurrently', 'inIcuCurrently', 'onVentilatorCurrently', 'date'])]\n",
    "\n",
    "max_keep = len(independent_cols) - 5\n",
    "\n",
    "param_comb = [list(x) for x in list(itertools.combinations(independent_cols, max_keep)) \n",
    "+ list(itertools.combinations(independent_cols, max_keep+1))\n",
    "+ list(itertools.combinations(independent_cols, max_keep+2))\n",
    "+ list(itertools.combinations(independent_cols, max_keep+3))\n",
    "+ list(itertools.combinations(independent_cols, max_keep+4))\n",
    "+ [independent_cols]]\n",
    "combs = []\n",
    "for sublist in param_comb:\n",
    "    combs.append(list(sublist))\n",
    "\n",
    "for comb in combs:\n",
    "    # Independent vars\n",
    "    X = model_df[comb]\n",
    "\n",
    "    # Dependent var\n",
    "    y = model_df['hospitalizedCurrently']\n",
    "\n",
    "    # Fit model\n",
    "    linear_model = LinearRegression()\n",
    "    linear_model.fit(X, y)\n",
    "\n",
    "    score=(mean_squared_error(y_true=y,y_pred=linear_model.predict(X)))\n",
    "    \n",
    "    mse_df['param_comb'].append(comb)\n",
    "    mse_df['score'].append(score)\n",
    "\n",
    "mse_df = pd.DataFrame(mse_df)\n",
    "mse_df.sort_values(by='score', ascending=True).head()"
   ]
  },
  {
   "cell_type": "markdown",
   "metadata": {},
   "source": [
    "### Model 2: ElasticNet Regression"
   ]
  },
  {
   "cell_type": "code",
   "execution_count": 123,
   "metadata": {
    "tags": [
     "outputPrepend",
     "outputPrepend",
     "outputPrepend",
     "outputPrepend",
     "outputPrepend",
     "outputPrepend",
     "outputPrepend",
     "outputPrepend",
     "outputPrepend",
     "outputPrepend",
     "outputPrepend",
     "outputPrepend",
     "outputPrepend",
     "outputPrepend",
     "outputPrepend",
     "outputPrepend",
     "outputPrepend",
     "outputPrepend",
     "outputPrepend",
     "outputPrepend",
     "outputPrepend",
     "outputPrepend",
     "outputPrepend",
     "outputPrepend",
     "outputPrepend",
     "outputPrepend",
     "outputPrepend",
     "outputPrepend",
     "outputPrepend",
     "outputPrepend",
     "outputPrepend",
     "outputPrepend",
     "outputPrepend",
     "outputPrepend",
     "outputPrepend",
     "outputPrepend",
     "outputPrepend",
     "outputPrepend",
     "outputPrepend",
     "outputPrepend",
     "outputPrepend",
     "outputPrepend",
     "outputPrepend",
     "outputPrepend"
    ]
   },
   "outputs": [
    {
     "output_type": "execute_result",
     "data": {
      "text/plain": "{'alpha': 0.0001, 'l1_ratio': 0.8}"
     },
     "metadata": {},
     "execution_count": 123
    }
   ],
   "source": [
    "X = model_df[independent_cols]\n",
    "y = model_df['hospitalizedCurrently']\n",
    "\n",
    "X_train, X_test, y_train, y_test = train_test_split(X, y, test_size=0.2)\n",
    "\n",
    "# Seek best params like we seek the COVID vaccine\n",
    "elastic = ElasticNet(normalize=True, max_iter=100000000)\n",
    "search=GridSearchCV(estimator=elastic,param_grid={\n",
    "    'alpha':np.logspace(-5, 2, 8),\n",
    "    'l1_ratio':[.1, .2, .4, .6, .75, .8, .85, .9, .95, 1]},\n",
    "    scoring='neg_mean_squared_error',\n",
    "    n_jobs=1,\n",
    "    refit=True,\n",
    "    cv=10)\n",
    "\n",
    "search.fit(X,y)\n",
    "search.best_params_"
   ]
  },
  {
   "cell_type": "code",
   "execution_count": 124,
   "metadata": {},
   "outputs": [
    {
     "output_type": "execute_result",
     "data": {
      "text/plain": "237185.88708372283"
     },
     "metadata": {},
     "execution_count": 124
    }
   ],
   "source": [
    "elastic = ElasticNet(normalize=True, alpha=0.0001, l1_ratio=0.8, max_iter=100000000)\n",
    "\n",
    "elastic.fit(X,y)\n",
    "second_model=(mean_squared_error(y_true=y,y_pred=elastic.predict(X)))\n",
    "second_model"
   ]
  },
  {
   "cell_type": "markdown",
   "metadata": {},
   "source": [
    "## Step 4: Using findings from dataset of hospital beds, conclude research problem"
   ]
  },
  {
   "cell_type": "code",
   "execution_count": null,
   "metadata": {},
   "outputs": [],
   "source": []
  }
 ],
 "metadata": {
  "kernelspec": {
   "display_name": "Python 3",
   "language": "python",
   "name": "python3"
  },
  "language_info": {
   "codemirror_mode": {
    "name": "ipython",
    "version": 3
   },
   "file_extension": ".py",
   "mimetype": "text/x-python",
   "name": "python",
   "nbconvert_exporter": "python",
   "pygments_lexer": "ipython3",
   "version": "3.7.4-final"
  }
 },
 "nbformat": 4,
 "nbformat_minor": 2
}