{
 "cells": [
  {
   "cell_type": "markdown",
   "metadata": {},
   "source": [
    "## Data Mining Techniques\n",
    "### COVID-19 data\n",
    "Kimberley Boersma (2572145), Neil Mizzi (2674737), Selma Muhammad (Stud no)"
   ]
  },
  {
   "cell_type": "code",
   "execution_count": 1,
   "metadata": {},
   "outputs": [],
   "source": [
    "# Imports\n",
    "import os\n",
    "import pandas as pd\n",
    "import csv\n",
    "import kaggle\n",
    "\n",
    "# other imports\n",
    "import numpy as np \n",
    "import matplotlib.pyplot as plt\n",
    "from sklearn.model_selection import train_test_split\n",
    "from sklearn.model_selection import GridSearchCV\n",
    "from sklearn.linear_model import ElasticNet\n",
    "from sklearn.linear_model import LinearRegression\n",
    "from sklearn.preprocessing import PolynomialFeatures\n",
    "from sklearn.metrics import mean_squared_error\n",
    "from copy import copy\n",
    "# import matplotlib.colors as mcolors\n",
    "# import random\n",
    "# import math\n",
    "# import time\n",
    "# from sklearn.linear_model import LinearRegression, BayesianRidge\n",
    "# from sklearn.model_selection import RandomizedSearchCV, train_test_split\n",
    "# from sklearn.preprocessing import PolynomialFeatures\n",
    "# from sklearn.tree import DecisionTreeRegressor\n",
    "# from sklearn.svm import SVR\n",
    "# from sklearn.metrics import mean_squared_error, mean_absolute_error\n",
    "from datetime import date, datetime\n",
    "from dateutil.parser import parse\n",
    "# import us\n",
    "# import operator \n",
    "# plt.style.use('fivethirtyeight')\n",
    "# %matplotlib inline "
   ]
  },
  {
   "cell_type": "markdown",
   "metadata": {},
   "source": [
    "# Covid Tracking Dataset (w/ hospitalised data)\n",
    "\n",
    "Source: https://covidtracking.com/"
   ]
  },
  {
   "cell_type": "markdown",
   "metadata": {},
   "source": [
    "## Step 1: Load and Clean the Data"
   ]
  },
  {
   "cell_type": "code",
   "execution_count": 2,
   "metadata": {},
   "outputs": [],
   "source": [
    "all_cases = pd.read_csv('https://covidtracking.com/api/v1/states/daily.csv')\n",
    "\n",
    "# Delete unecessary rows\n",
    "for row in ['negative', 'pending', 'hash', 'negativeIncrease', 'totalTestResults', 'totalTestResultsIncrease', 'dateChecked', 'fips', 'inIcuCumulative', 'onVentilatorCumulative', 'total', 'posNeg', 'deathIncrease', 'hospitalizedIncrease', 'positiveIncrease']:\n",
    "    del all_cases[row]\n",
    "\n",
    "# TODO missing values\n",
    "#      Do we get avg or missing values, or predict them?\n",
    "#      See https://developerzen.com/data-mining-handling-missing-values-the-database-bd2241882e72\n",
    "\n",
    "for i, row in all_cases.iterrows():\n",
    "    # Set Dates\n",
    "    s = str(row['date'])\n",
    "    all_cases.at[i, 'date'] = date(year=int(s[0:4]), month=int(s[4:6]), day=int(s[6:8]))\n",
    "    \n",
    "\n",
    "# Missing death figures means no death reports yet\n",
    "# These are set to 0\n",
    "for i, row in all_cases.iterrows():\n",
    "    if np.isnan(row['death']):\n",
    "        all_cases.at[i, 'death'] = 0"
   ]
  },
  {
   "cell_type": "markdown",
   "metadata": {},
   "source": [
    "## Missing values: Retrieving from other datasets or through merging columns (or both)\n",
    "\n",
    "The following will be done:\n",
    "- **Active Cases**: Retrieved from JHU dataset and calculating $active = pos-dead-recovered$\n",
    "- **Beds per State**: Retrieved from External Datasets"
   ]
  },
  {
   "cell_type": "code",
   "execution_count": 3,
   "metadata": {},
   "outputs": [],
   "source": [
    "# TODO Replace active cases with JHU and/or regression model (Selma)\n",
    "all_cases['active'] = all_cases['positive'] - all_cases['recovered'] - all_cases['death']\n",
    "# change location of 'active' column\n",
    "cols = list(all_cases)\n",
    "cols.insert(3, cols.pop(cols.index('active')))\n",
    "all_cases = all_cases.loc[:, cols]"
   ]
  },
  {
   "cell_type": "code",
   "execution_count": 4,
   "metadata": {},
   "outputs": [],
   "source": [
    "# Load datasets for US population and Hospital beds per 1000\n",
    "us_population = pd.read_csv('data/us_population.csv')\n",
    "hosp_beds = pd.read_csv('data/hospital_beds.csv')\n",
    "state_abbrev = pd.read_csv('data/us_state_names.csv')\n",
    "\n",
    "# add state abbreviations to us_population and hospital beds dataframe\n",
    "for state in state_abbrev['State'].tolist():\n",
    "    # store state abbreviation in variable\n",
    "    abbrev = state_abbrev.loc[state_abbrev['State'] == state, 'Abbreviation'].tolist()[0]\n",
    "    # add abbrev to new column 'Abbreviation' in us_population df\n",
    "    us_population.loc[us_population['State'] == state, 'Abbreviation'] = abbrev\n",
    "    # add abbrev to new column in hosp_beds df\n",
    "    hosp_beds.loc[hosp_beds['Location'] == state, 'Abbreviation'] = abbrev\n",
    "    \n",
    "# change order of columns of us_population\n",
    "cols = list(us_population)\n",
    "cols.insert(2, cols.pop(cols.index('Abbreviation')))\n",
    "us_population = us_population.loc[:, cols]\n",
    "\n",
    "# drop unnecessary columns of us_population\n",
    "us_population = us_population.drop(columns=['rank', 'Growth', 'Pop2018', 'Pop2010', 'growthSince2010', 'Percent', 'density'])\n",
    "\n",
    "# drop unnecessary columns of hosp_beds\n",
    "hosp_beds = hosp_beds.drop(columns=['Location', 'State/Local Government', 'Non-Profit', 'For-Profit'])\n",
    "\n",
    "# change order of columns of hosp_beds\n",
    "cols = list(hosp_beds)\n",
    "cols.insert(0, cols.pop(cols.index('Abbreviation')))\n",
    "hosp_beds = hosp_beds.loc[:, cols]"
   ]
  },
  {
   "cell_type": "code",
   "execution_count": 5,
   "metadata": {},
   "outputs": [
    {
     "output_type": "execute_result",
     "data": {
      "text/plain": "        State Abbreviation       Pop\n0     Alabama           AL   4908621\n1      Alaska           AK    734002\n2     Arizona           AZ   7378494\n3    Arkansas           AR   3038999\n4  California           CA  39937489",
      "text/html": "<div>\n<style scoped>\n    .dataframe tbody tr th:only-of-type {\n        vertical-align: middle;\n    }\n\n    .dataframe tbody tr th {\n        vertical-align: top;\n    }\n\n    .dataframe thead th {\n        text-align: right;\n    }\n</style>\n<table border=\"1\" class=\"dataframe\">\n  <thead>\n    <tr style=\"text-align: right;\">\n      <th></th>\n      <th>State</th>\n      <th>Abbreviation</th>\n      <th>Pop</th>\n    </tr>\n  </thead>\n  <tbody>\n    <tr>\n      <th>0</th>\n      <td>Alabama</td>\n      <td>AL</td>\n      <td>4908621</td>\n    </tr>\n    <tr>\n      <th>1</th>\n      <td>Alaska</td>\n      <td>AK</td>\n      <td>734002</td>\n    </tr>\n    <tr>\n      <th>2</th>\n      <td>Arizona</td>\n      <td>AZ</td>\n      <td>7378494</td>\n    </tr>\n    <tr>\n      <th>3</th>\n      <td>Arkansas</td>\n      <td>AR</td>\n      <td>3038999</td>\n    </tr>\n    <tr>\n      <th>4</th>\n      <td>California</td>\n      <td>CA</td>\n      <td>39937489</td>\n    </tr>\n  </tbody>\n</table>\n</div>"
     },
     "metadata": {},
     "execution_count": 5
    }
   ],
   "source": [
    "us_population.head()"
   ]
  },
  {
   "cell_type": "code",
   "execution_count": 6,
   "metadata": {},
   "outputs": [
    {
     "output_type": "execute_result",
     "data": {
      "text/plain": "  Abbreviation  Total\n0          NaN    2.4\n1           AL    3.1\n2           AK    2.2\n3           AZ    1.9\n4           AR    3.2",
      "text/html": "<div>\n<style scoped>\n    .dataframe tbody tr th:only-of-type {\n        vertical-align: middle;\n    }\n\n    .dataframe tbody tr th {\n        vertical-align: top;\n    }\n\n    .dataframe thead th {\n        text-align: right;\n    }\n</style>\n<table border=\"1\" class=\"dataframe\">\n  <thead>\n    <tr style=\"text-align: right;\">\n      <th></th>\n      <th>Abbreviation</th>\n      <th>Total</th>\n    </tr>\n  </thead>\n  <tbody>\n    <tr>\n      <th>0</th>\n      <td>NaN</td>\n      <td>2.4</td>\n    </tr>\n    <tr>\n      <th>1</th>\n      <td>AL</td>\n      <td>3.1</td>\n    </tr>\n    <tr>\n      <th>2</th>\n      <td>AK</td>\n      <td>2.2</td>\n    </tr>\n    <tr>\n      <th>3</th>\n      <td>AZ</td>\n      <td>1.9</td>\n    </tr>\n    <tr>\n      <th>4</th>\n      <td>AR</td>\n      <td>3.2</td>\n    </tr>\n  </tbody>\n</table>\n</div>"
     },
     "metadata": {},
     "execution_count": 6
    }
   ],
   "source": [
    "hosp_beds.head()"
   ]
  },
  {
   "cell_type": "code",
   "execution_count": 7,
   "metadata": {},
   "outputs": [],
   "source": [
    "# filter out non-existing states like 'AS'\n",
    "all_cases = all_cases[all_cases['state'].isin(state_abbrev['Abbreviation'].tolist())]"
   ]
  },
  {
   "cell_type": "code",
   "execution_count": 8,
   "metadata": {},
   "outputs": [
    {
     "output_type": "execute_result",
     "data": {
      "text/plain": "         date state  positive  active  hospitalizedCurrently  \\\n0  2020-05-04    AK     370.0    98.0                   12.0   \n1  2020-05-04    AL    8025.0     NaN                    NaN   \n2  2020-05-04    AR    3458.0  1361.0                   91.0   \n4  2020-05-04    AZ    8919.0  6925.0                  703.0   \n5  2020-05-04    CA   54937.0     NaN                 4616.0   \n\n   hospitalizedCumulative  inIcuCurrently  onVentilatorCurrently  recovered  \\\n0                     NaN             NaN                    NaN      263.0   \n1                  1064.0             NaN                    NaN        NaN   \n2                   438.0             NaN                   16.0     2016.0   \n4                  1357.0           288.0                  200.0     1632.0   \n5                     NaN          1464.0                    NaN        NaN   \n\n    death  hospitalized  \n0     9.0           NaN  \n1   296.0        1064.0  \n2    81.0         438.0  \n4   362.0        1357.0  \n5  2254.0           NaN  ",
      "text/html": "<div>\n<style scoped>\n    .dataframe tbody tr th:only-of-type {\n        vertical-align: middle;\n    }\n\n    .dataframe tbody tr th {\n        vertical-align: top;\n    }\n\n    .dataframe thead th {\n        text-align: right;\n    }\n</style>\n<table border=\"1\" class=\"dataframe\">\n  <thead>\n    <tr style=\"text-align: right;\">\n      <th></th>\n      <th>date</th>\n      <th>state</th>\n      <th>positive</th>\n      <th>active</th>\n      <th>hospitalizedCurrently</th>\n      <th>hospitalizedCumulative</th>\n      <th>inIcuCurrently</th>\n      <th>onVentilatorCurrently</th>\n      <th>recovered</th>\n      <th>death</th>\n      <th>hospitalized</th>\n    </tr>\n  </thead>\n  <tbody>\n    <tr>\n      <th>0</th>\n      <td>2020-05-04</td>\n      <td>AK</td>\n      <td>370.0</td>\n      <td>98.0</td>\n      <td>12.0</td>\n      <td>NaN</td>\n      <td>NaN</td>\n      <td>NaN</td>\n      <td>263.0</td>\n      <td>9.0</td>\n      <td>NaN</td>\n    </tr>\n    <tr>\n      <th>1</th>\n      <td>2020-05-04</td>\n      <td>AL</td>\n      <td>8025.0</td>\n      <td>NaN</td>\n      <td>NaN</td>\n      <td>1064.0</td>\n      <td>NaN</td>\n      <td>NaN</td>\n      <td>NaN</td>\n      <td>296.0</td>\n      <td>1064.0</td>\n    </tr>\n    <tr>\n      <th>2</th>\n      <td>2020-05-04</td>\n      <td>AR</td>\n      <td>3458.0</td>\n      <td>1361.0</td>\n      <td>91.0</td>\n      <td>438.0</td>\n      <td>NaN</td>\n      <td>16.0</td>\n      <td>2016.0</td>\n      <td>81.0</td>\n      <td>438.0</td>\n    </tr>\n    <tr>\n      <th>4</th>\n      <td>2020-05-04</td>\n      <td>AZ</td>\n      <td>8919.0</td>\n      <td>6925.0</td>\n      <td>703.0</td>\n      <td>1357.0</td>\n      <td>288.0</td>\n      <td>200.0</td>\n      <td>1632.0</td>\n      <td>362.0</td>\n      <td>1357.0</td>\n    </tr>\n    <tr>\n      <th>5</th>\n      <td>2020-05-04</td>\n      <td>CA</td>\n      <td>54937.0</td>\n      <td>NaN</td>\n      <td>4616.0</td>\n      <td>NaN</td>\n      <td>1464.0</td>\n      <td>NaN</td>\n      <td>NaN</td>\n      <td>2254.0</td>\n      <td>NaN</td>\n    </tr>\n  </tbody>\n</table>\n</div>"
     },
     "metadata": {},
     "execution_count": 8
    }
   ],
   "source": [
    "# see what filtered dataframe looks like\n",
    "all_cases.head()"
   ]
  },
  {
   "cell_type": "code",
   "execution_count": 9,
   "metadata": {},
   "outputs": [
    {
     "output_type": "execute_result",
     "data": {
      "text/plain": "            date state  positive  active  hospitalizedCurrently  \\\n2742  2020-03-17    WV       0.0     NaN                    NaN   \n2798  2020-03-16    WV       0.0     NaN                    NaN   \n2849  2020-03-15    WV       0.0     NaN                    NaN   \n2900  2020-03-14    WV       0.0     NaN                    NaN   \n2915  2020-03-13    ID       0.0     NaN                    NaN   \n...          ...   ...       ...     ...                    ...   \n3300  2020-03-05    NE       0.0     NaN                    NaN   \n3305  2020-03-05    OH       0.0     NaN                    NaN   \n3308  2020-03-05    SC       0.0     NaN                    NaN   \n3311  2020-03-05    VA       0.0     NaN                    NaN   \n3325  2020-03-04    SC       0.0     NaN                    NaN   \n\n      hospitalizedCumulative  inIcuCurrently  onVentilatorCurrently  \\\n2742                     NaN             NaN                    NaN   \n2798                     NaN             NaN                    NaN   \n2849                     NaN             NaN                    NaN   \n2900                     NaN             NaN                    NaN   \n2915                     NaN             NaN                    NaN   \n...                      ...             ...                    ...   \n3300                     NaN             NaN                    NaN   \n3305                     NaN             NaN                    NaN   \n3308                     NaN             NaN                    NaN   \n3311                     NaN             NaN                    NaN   \n3325                     NaN             NaN                    NaN   \n\n      recovered  death  hospitalized  \n2742        NaN    0.0           NaN  \n2798        NaN    0.0           NaN  \n2849        NaN    0.0           NaN  \n2900        NaN    0.0           NaN  \n2915        NaN    0.0           NaN  \n...         ...    ...           ...  \n3300        NaN    0.0           NaN  \n3305        NaN    0.0           NaN  \n3308        NaN    0.0           NaN  \n3311        NaN    0.0           NaN  \n3325        NaN    0.0           NaN  \n\n[107 rows x 11 columns]",
      "text/html": "<div>\n<style scoped>\n    .dataframe tbody tr th:only-of-type {\n        vertical-align: middle;\n    }\n\n    .dataframe tbody tr th {\n        vertical-align: top;\n    }\n\n    .dataframe thead th {\n        text-align: right;\n    }\n</style>\n<table border=\"1\" class=\"dataframe\">\n  <thead>\n    <tr style=\"text-align: right;\">\n      <th></th>\n      <th>date</th>\n      <th>state</th>\n      <th>positive</th>\n      <th>active</th>\n      <th>hospitalizedCurrently</th>\n      <th>hospitalizedCumulative</th>\n      <th>inIcuCurrently</th>\n      <th>onVentilatorCurrently</th>\n      <th>recovered</th>\n      <th>death</th>\n      <th>hospitalized</th>\n    </tr>\n  </thead>\n  <tbody>\n    <tr>\n      <th>2742</th>\n      <td>2020-03-17</td>\n      <td>WV</td>\n      <td>0.0</td>\n      <td>NaN</td>\n      <td>NaN</td>\n      <td>NaN</td>\n      <td>NaN</td>\n      <td>NaN</td>\n      <td>NaN</td>\n      <td>0.0</td>\n      <td>NaN</td>\n    </tr>\n    <tr>\n      <th>2798</th>\n      <td>2020-03-16</td>\n      <td>WV</td>\n      <td>0.0</td>\n      <td>NaN</td>\n      <td>NaN</td>\n      <td>NaN</td>\n      <td>NaN</td>\n      <td>NaN</td>\n      <td>NaN</td>\n      <td>0.0</td>\n      <td>NaN</td>\n    </tr>\n    <tr>\n      <th>2849</th>\n      <td>2020-03-15</td>\n      <td>WV</td>\n      <td>0.0</td>\n      <td>NaN</td>\n      <td>NaN</td>\n      <td>NaN</td>\n      <td>NaN</td>\n      <td>NaN</td>\n      <td>NaN</td>\n      <td>0.0</td>\n      <td>NaN</td>\n    </tr>\n    <tr>\n      <th>2900</th>\n      <td>2020-03-14</td>\n      <td>WV</td>\n      <td>0.0</td>\n      <td>NaN</td>\n      <td>NaN</td>\n      <td>NaN</td>\n      <td>NaN</td>\n      <td>NaN</td>\n      <td>NaN</td>\n      <td>0.0</td>\n      <td>NaN</td>\n    </tr>\n    <tr>\n      <th>2915</th>\n      <td>2020-03-13</td>\n      <td>ID</td>\n      <td>0.0</td>\n      <td>NaN</td>\n      <td>NaN</td>\n      <td>NaN</td>\n      <td>NaN</td>\n      <td>NaN</td>\n      <td>NaN</td>\n      <td>0.0</td>\n      <td>NaN</td>\n    </tr>\n    <tr>\n      <th>...</th>\n      <td>...</td>\n      <td>...</td>\n      <td>...</td>\n      <td>...</td>\n      <td>...</td>\n      <td>...</td>\n      <td>...</td>\n      <td>...</td>\n      <td>...</td>\n      <td>...</td>\n      <td>...</td>\n    </tr>\n    <tr>\n      <th>3300</th>\n      <td>2020-03-05</td>\n      <td>NE</td>\n      <td>0.0</td>\n      <td>NaN</td>\n      <td>NaN</td>\n      <td>NaN</td>\n      <td>NaN</td>\n      <td>NaN</td>\n      <td>NaN</td>\n      <td>0.0</td>\n      <td>NaN</td>\n    </tr>\n    <tr>\n      <th>3305</th>\n      <td>2020-03-05</td>\n      <td>OH</td>\n      <td>0.0</td>\n      <td>NaN</td>\n      <td>NaN</td>\n      <td>NaN</td>\n      <td>NaN</td>\n      <td>NaN</td>\n      <td>NaN</td>\n      <td>0.0</td>\n      <td>NaN</td>\n    </tr>\n    <tr>\n      <th>3308</th>\n      <td>2020-03-05</td>\n      <td>SC</td>\n      <td>0.0</td>\n      <td>NaN</td>\n      <td>NaN</td>\n      <td>NaN</td>\n      <td>NaN</td>\n      <td>NaN</td>\n      <td>NaN</td>\n      <td>0.0</td>\n      <td>NaN</td>\n    </tr>\n    <tr>\n      <th>3311</th>\n      <td>2020-03-05</td>\n      <td>VA</td>\n      <td>0.0</td>\n      <td>NaN</td>\n      <td>NaN</td>\n      <td>NaN</td>\n      <td>NaN</td>\n      <td>NaN</td>\n      <td>NaN</td>\n      <td>0.0</td>\n      <td>NaN</td>\n    </tr>\n    <tr>\n      <th>3325</th>\n      <td>2020-03-04</td>\n      <td>SC</td>\n      <td>0.0</td>\n      <td>NaN</td>\n      <td>NaN</td>\n      <td>NaN</td>\n      <td>NaN</td>\n      <td>NaN</td>\n      <td>NaN</td>\n      <td>0.0</td>\n      <td>NaN</td>\n    </tr>\n  </tbody>\n</table>\n<p>107 rows × 11 columns</p>\n</div>"
     },
     "metadata": {},
     "execution_count": 9
    }
   ],
   "source": [
    "# check which states have 0 positive cases\n",
    "all_cases.loc[all_cases['positive'] == 0]"
   ]
  },
  {
   "cell_type": "code",
   "execution_count": 10,
   "metadata": {},
   "outputs": [],
   "source": [
    "# Split dataframes by date\n",
    "df_split_by_date = dict(tuple(all_cases.groupby('date')))\n",
    "\n",
    "# Split dataframes by state\n",
    "df_split_by_state = dict(tuple(all_cases.groupby('state')))"
   ]
  },
  {
   "cell_type": "code",
   "execution_count": 11,
   "metadata": {},
   "outputs": [],
   "source": [
    "# merge dataframes us_population and all_cases\n",
    "df_merge_uspop = all_cases.merge(us_population, how='left', left_on='state', right_on='Abbreviation')\n",
    "df_merge_uspop = df_merge_uspop.drop(columns=['Abbreviation'])\n",
    "df_merge_uspop = df_merge_uspop.rename(columns={'Pop': 'population'})\n",
    "\n",
    "# change location of 'population' column\n",
    "cols = list(df_merge_uspop)\n",
    "cols.insert(2, cols.pop(cols.index('population')))\n",
    "df_merge_uspop = df_merge_uspop.loc[:, cols]\n",
    "\n",
    "# merge dataframes hosp_beds and df_merge_uspop\n",
    "df_merge_hosp = df_merge_uspop.merge(hosp_beds, how='left', left_on='state', right_on='Abbreviation')\n",
    "df_merge_hosp = df_merge_hosp.drop(columns=['Abbreviation'])\n",
    "all_cases = df_merge_hosp.rename(columns={'Total': 'bedsPerThousand'})"
   ]
  },
  {
   "cell_type": "code",
   "execution_count": 12,
   "metadata": {},
   "outputs": [
    {
     "output_type": "execute_result",
     "data": {
      "text/plain": "         date state  population  positive  active  hospitalizedCurrently  \\\n0  2020-05-04    AK      734002     370.0    98.0                   12.0   \n1  2020-05-04    AL     4908621    8025.0     NaN                    NaN   \n2  2020-05-04    AR     3038999    3458.0  1361.0                   91.0   \n3  2020-05-04    AZ     7378494    8919.0  6925.0                  703.0   \n4  2020-05-04    CA    39937489   54937.0     NaN                 4616.0   \n\n   hospitalizedCumulative  inIcuCurrently  onVentilatorCurrently  recovered  \\\n0                     NaN             NaN                    NaN      263.0   \n1                  1064.0             NaN                    NaN        NaN   \n2                   438.0             NaN                   16.0     2016.0   \n3                  1357.0           288.0                  200.0     1632.0   \n4                     NaN          1464.0                    NaN        NaN   \n\n    death  hospitalized       State  bedsPerThousand  \n0     9.0           NaN      Alaska              2.2  \n1   296.0        1064.0     Alabama              3.1  \n2    81.0         438.0    Arkansas              3.2  \n3   362.0        1357.0     Arizona              1.9  \n4  2254.0           NaN  California              1.8  ",
      "text/html": "<div>\n<style scoped>\n    .dataframe tbody tr th:only-of-type {\n        vertical-align: middle;\n    }\n\n    .dataframe tbody tr th {\n        vertical-align: top;\n    }\n\n    .dataframe thead th {\n        text-align: right;\n    }\n</style>\n<table border=\"1\" class=\"dataframe\">\n  <thead>\n    <tr style=\"text-align: right;\">\n      <th></th>\n      <th>date</th>\n      <th>state</th>\n      <th>population</th>\n      <th>positive</th>\n      <th>active</th>\n      <th>hospitalizedCurrently</th>\n      <th>hospitalizedCumulative</th>\n      <th>inIcuCurrently</th>\n      <th>onVentilatorCurrently</th>\n      <th>recovered</th>\n      <th>death</th>\n      <th>hospitalized</th>\n      <th>State</th>\n      <th>bedsPerThousand</th>\n    </tr>\n  </thead>\n  <tbody>\n    <tr>\n      <th>0</th>\n      <td>2020-05-04</td>\n      <td>AK</td>\n      <td>734002</td>\n      <td>370.0</td>\n      <td>98.0</td>\n      <td>12.0</td>\n      <td>NaN</td>\n      <td>NaN</td>\n      <td>NaN</td>\n      <td>263.0</td>\n      <td>9.0</td>\n      <td>NaN</td>\n      <td>Alaska</td>\n      <td>2.2</td>\n    </tr>\n    <tr>\n      <th>1</th>\n      <td>2020-05-04</td>\n      <td>AL</td>\n      <td>4908621</td>\n      <td>8025.0</td>\n      <td>NaN</td>\n      <td>NaN</td>\n      <td>1064.0</td>\n      <td>NaN</td>\n      <td>NaN</td>\n      <td>NaN</td>\n      <td>296.0</td>\n      <td>1064.0</td>\n      <td>Alabama</td>\n      <td>3.1</td>\n    </tr>\n    <tr>\n      <th>2</th>\n      <td>2020-05-04</td>\n      <td>AR</td>\n      <td>3038999</td>\n      <td>3458.0</td>\n      <td>1361.0</td>\n      <td>91.0</td>\n      <td>438.0</td>\n      <td>NaN</td>\n      <td>16.0</td>\n      <td>2016.0</td>\n      <td>81.0</td>\n      <td>438.0</td>\n      <td>Arkansas</td>\n      <td>3.2</td>\n    </tr>\n    <tr>\n      <th>3</th>\n      <td>2020-05-04</td>\n      <td>AZ</td>\n      <td>7378494</td>\n      <td>8919.0</td>\n      <td>6925.0</td>\n      <td>703.0</td>\n      <td>1357.0</td>\n      <td>288.0</td>\n      <td>200.0</td>\n      <td>1632.0</td>\n      <td>362.0</td>\n      <td>1357.0</td>\n      <td>Arizona</td>\n      <td>1.9</td>\n    </tr>\n    <tr>\n      <th>4</th>\n      <td>2020-05-04</td>\n      <td>CA</td>\n      <td>39937489</td>\n      <td>54937.0</td>\n      <td>NaN</td>\n      <td>4616.0</td>\n      <td>NaN</td>\n      <td>1464.0</td>\n      <td>NaN</td>\n      <td>NaN</td>\n      <td>2254.0</td>\n      <td>NaN</td>\n      <td>California</td>\n      <td>1.8</td>\n    </tr>\n  </tbody>\n</table>\n</div>"
     },
     "metadata": {},
     "execution_count": 12
    }
   ],
   "source": [
    "all_cases.head()"
   ]
  },
  {
   "cell_type": "code",
   "execution_count": 13,
   "metadata": {},
   "outputs": [
    {
     "output_type": "execute_result",
     "data": {
      "text/plain": "            date state  population  positive  active  hospitalizedCurrently  \\\n0     2020-05-04    AK      734002     370.0    98.0                   12.0   \n1     2020-05-04    AL     4908621    8025.0     NaN                    NaN   \n2     2020-05-04    AR     3038999    3458.0  1361.0                   91.0   \n3     2020-05-04    AZ     7378494    8919.0  6925.0                  703.0   \n4     2020-05-04    CA    39937489   54937.0     NaN                 4616.0   \n...          ...   ...         ...       ...     ...                    ...   \n3122  2020-01-26    WA     7797095       1.0     NaN                    NaN   \n3123  2020-01-25    WA     7797095       1.0     NaN                    NaN   \n3124  2020-01-24    WA     7797095       1.0     NaN                    NaN   \n3125  2020-01-23    WA     7797095       1.0     NaN                    NaN   \n3126  2020-01-22    WA     7797095       1.0     NaN                    NaN   \n\n      hospitalizedCumulative  inIcuCurrently  onVentilatorCurrently  \\\n0                        NaN             NaN                    NaN   \n1                     1064.0             NaN                    NaN   \n2                      438.0             NaN                   16.0   \n3                     1357.0           288.0                  200.0   \n4                        NaN          1464.0                    NaN   \n...                      ...             ...                    ...   \n3122                     NaN             NaN                    NaN   \n3123                     NaN             NaN                    NaN   \n3124                     NaN             NaN                    NaN   \n3125                     NaN             NaN                    NaN   \n3126                     NaN             NaN                    NaN   \n\n      recovered   death  hospitalized       State  bedsPerThousand  total_beds  \n0         263.0     9.0           NaN      Alaska              2.2   1614.8044  \n1           NaN   296.0        1064.0     Alabama              3.1  15216.7251  \n2        2016.0    81.0         438.0    Arkansas              3.2   9724.7968  \n3        1632.0   362.0        1357.0     Arizona              1.9  14019.1386  \n4           NaN  2254.0           NaN  California              1.8  71887.4802  \n...         ...     ...           ...         ...              ...         ...  \n3122        NaN     0.0           NaN  Washington              1.7  13255.0615  \n3123        NaN     0.0           NaN  Washington              1.7  13255.0615  \n3124        NaN     0.0           NaN  Washington              1.7  13255.0615  \n3125        NaN     0.0           NaN  Washington              1.7  13255.0615  \n3126        NaN     0.0           NaN  Washington              1.7  13255.0615  \n\n[3127 rows x 15 columns]",
      "text/html": "<div>\n<style scoped>\n    .dataframe tbody tr th:only-of-type {\n        vertical-align: middle;\n    }\n\n    .dataframe tbody tr th {\n        vertical-align: top;\n    }\n\n    .dataframe thead th {\n        text-align: right;\n    }\n</style>\n<table border=\"1\" class=\"dataframe\">\n  <thead>\n    <tr style=\"text-align: right;\">\n      <th></th>\n      <th>date</th>\n      <th>state</th>\n      <th>population</th>\n      <th>positive</th>\n      <th>active</th>\n      <th>hospitalizedCurrently</th>\n      <th>hospitalizedCumulative</th>\n      <th>inIcuCurrently</th>\n      <th>onVentilatorCurrently</th>\n      <th>recovered</th>\n      <th>death</th>\n      <th>hospitalized</th>\n      <th>State</th>\n      <th>bedsPerThousand</th>\n      <th>total_beds</th>\n    </tr>\n  </thead>\n  <tbody>\n    <tr>\n      <th>0</th>\n      <td>2020-05-04</td>\n      <td>AK</td>\n      <td>734002</td>\n      <td>370.0</td>\n      <td>98.0</td>\n      <td>12.0</td>\n      <td>NaN</td>\n      <td>NaN</td>\n      <td>NaN</td>\n      <td>263.0</td>\n      <td>9.0</td>\n      <td>NaN</td>\n      <td>Alaska</td>\n      <td>2.2</td>\n      <td>1614.8044</td>\n    </tr>\n    <tr>\n      <th>1</th>\n      <td>2020-05-04</td>\n      <td>AL</td>\n      <td>4908621</td>\n      <td>8025.0</td>\n      <td>NaN</td>\n      <td>NaN</td>\n      <td>1064.0</td>\n      <td>NaN</td>\n      <td>NaN</td>\n      <td>NaN</td>\n      <td>296.0</td>\n      <td>1064.0</td>\n      <td>Alabama</td>\n      <td>3.1</td>\n      <td>15216.7251</td>\n    </tr>\n    <tr>\n      <th>2</th>\n      <td>2020-05-04</td>\n      <td>AR</td>\n      <td>3038999</td>\n      <td>3458.0</td>\n      <td>1361.0</td>\n      <td>91.0</td>\n      <td>438.0</td>\n      <td>NaN</td>\n      <td>16.0</td>\n      <td>2016.0</td>\n      <td>81.0</td>\n      <td>438.0</td>\n      <td>Arkansas</td>\n      <td>3.2</td>\n      <td>9724.7968</td>\n    </tr>\n    <tr>\n      <th>3</th>\n      <td>2020-05-04</td>\n      <td>AZ</td>\n      <td>7378494</td>\n      <td>8919.0</td>\n      <td>6925.0</td>\n      <td>703.0</td>\n      <td>1357.0</td>\n      <td>288.0</td>\n      <td>200.0</td>\n      <td>1632.0</td>\n      <td>362.0</td>\n      <td>1357.0</td>\n      <td>Arizona</td>\n      <td>1.9</td>\n      <td>14019.1386</td>\n    </tr>\n    <tr>\n      <th>4</th>\n      <td>2020-05-04</td>\n      <td>CA</td>\n      <td>39937489</td>\n      <td>54937.0</td>\n      <td>NaN</td>\n      <td>4616.0</td>\n      <td>NaN</td>\n      <td>1464.0</td>\n      <td>NaN</td>\n      <td>NaN</td>\n      <td>2254.0</td>\n      <td>NaN</td>\n      <td>California</td>\n      <td>1.8</td>\n      <td>71887.4802</td>\n    </tr>\n    <tr>\n      <th>...</th>\n      <td>...</td>\n      <td>...</td>\n      <td>...</td>\n      <td>...</td>\n      <td>...</td>\n      <td>...</td>\n      <td>...</td>\n      <td>...</td>\n      <td>...</td>\n      <td>...</td>\n      <td>...</td>\n      <td>...</td>\n      <td>...</td>\n      <td>...</td>\n      <td>...</td>\n    </tr>\n    <tr>\n      <th>3122</th>\n      <td>2020-01-26</td>\n      <td>WA</td>\n      <td>7797095</td>\n      <td>1.0</td>\n      <td>NaN</td>\n      <td>NaN</td>\n      <td>NaN</td>\n      <td>NaN</td>\n      <td>NaN</td>\n      <td>NaN</td>\n      <td>0.0</td>\n      <td>NaN</td>\n      <td>Washington</td>\n      <td>1.7</td>\n      <td>13255.0615</td>\n    </tr>\n    <tr>\n      <th>3123</th>\n      <td>2020-01-25</td>\n      <td>WA</td>\n      <td>7797095</td>\n      <td>1.0</td>\n      <td>NaN</td>\n      <td>NaN</td>\n      <td>NaN</td>\n      <td>NaN</td>\n      <td>NaN</td>\n      <td>NaN</td>\n      <td>0.0</td>\n      <td>NaN</td>\n      <td>Washington</td>\n      <td>1.7</td>\n      <td>13255.0615</td>\n    </tr>\n    <tr>\n      <th>3124</th>\n      <td>2020-01-24</td>\n      <td>WA</td>\n      <td>7797095</td>\n      <td>1.0</td>\n      <td>NaN</td>\n      <td>NaN</td>\n      <td>NaN</td>\n      <td>NaN</td>\n      <td>NaN</td>\n      <td>NaN</td>\n      <td>0.0</td>\n      <td>NaN</td>\n      <td>Washington</td>\n      <td>1.7</td>\n      <td>13255.0615</td>\n    </tr>\n    <tr>\n      <th>3125</th>\n      <td>2020-01-23</td>\n      <td>WA</td>\n      <td>7797095</td>\n      <td>1.0</td>\n      <td>NaN</td>\n      <td>NaN</td>\n      <td>NaN</td>\n      <td>NaN</td>\n      <td>NaN</td>\n      <td>NaN</td>\n      <td>0.0</td>\n      <td>NaN</td>\n      <td>Washington</td>\n      <td>1.7</td>\n      <td>13255.0615</td>\n    </tr>\n    <tr>\n      <th>3126</th>\n      <td>2020-01-22</td>\n      <td>WA</td>\n      <td>7797095</td>\n      <td>1.0</td>\n      <td>NaN</td>\n      <td>NaN</td>\n      <td>NaN</td>\n      <td>NaN</td>\n      <td>NaN</td>\n      <td>NaN</td>\n      <td>0.0</td>\n      <td>NaN</td>\n      <td>Washington</td>\n      <td>1.7</td>\n      <td>13255.0615</td>\n    </tr>\n  </tbody>\n</table>\n<p>3127 rows × 15 columns</p>\n</div>"
     },
     "metadata": {},
     "execution_count": 13
    }
   ],
   "source": [
    "# Calculate the total beds, and add the column\n",
    "all_cases['total_beds'] = all_cases['population'] / 1000 * all_cases['bedsPerThousand']\n",
    "all_cases"
   ]
  },
  {
   "cell_type": "code",
   "execution_count": 14,
   "metadata": {},
   "outputs": [],
   "source": [
    "# change abbreviations to state names\n",
    "all_cases = all_cases.rename(columns={'state': 'abbrev'})\n",
    "all_cases = all_cases.rename(columns={'State': 'state'})"
   ]
  },
  {
   "cell_type": "code",
   "execution_count": 15,
   "metadata": {},
   "outputs": [],
   "source": [
    "# change location of 'state' column\n",
    "cols = list(all_cases)\n",
    "cols.insert(1, cols.pop(cols.index('state')))\n",
    "all_cases = all_cases.loc[:, cols]"
   ]
  },
  {
   "cell_type": "code",
   "execution_count": 16,
   "metadata": {},
   "outputs": [
    {
     "output_type": "execute_result",
     "data": {
      "text/plain": "            date       state abbrev  population  positive  active  \\\n0     2020-05-04      Alaska     AK      734002     370.0    98.0   \n1     2020-05-04     Alabama     AL     4908621    8025.0     NaN   \n2     2020-05-04    Arkansas     AR     3038999    3458.0  1361.0   \n3     2020-05-04     Arizona     AZ     7378494    8919.0  6925.0   \n4     2020-05-04  California     CA    39937489   54937.0     NaN   \n...          ...         ...    ...         ...       ...     ...   \n3122  2020-01-26  Washington     WA     7797095       1.0     NaN   \n3123  2020-01-25  Washington     WA     7797095       1.0     NaN   \n3124  2020-01-24  Washington     WA     7797095       1.0     NaN   \n3125  2020-01-23  Washington     WA     7797095       1.0     NaN   \n3126  2020-01-22  Washington     WA     7797095       1.0     NaN   \n\n      hospitalizedCurrently  hospitalizedCumulative  inIcuCurrently  \\\n0                      12.0                     NaN             NaN   \n1                       NaN                  1064.0             NaN   \n2                      91.0                   438.0             NaN   \n3                     703.0                  1357.0           288.0   \n4                    4616.0                     NaN          1464.0   \n...                     ...                     ...             ...   \n3122                    NaN                     NaN             NaN   \n3123                    NaN                     NaN             NaN   \n3124                    NaN                     NaN             NaN   \n3125                    NaN                     NaN             NaN   \n3126                    NaN                     NaN             NaN   \n\n      onVentilatorCurrently  recovered   death  hospitalized  bedsPerThousand  \\\n0                       NaN      263.0     9.0           NaN              2.2   \n1                       NaN        NaN   296.0        1064.0              3.1   \n2                      16.0     2016.0    81.0         438.0              3.2   \n3                     200.0     1632.0   362.0        1357.0              1.9   \n4                       NaN        NaN  2254.0           NaN              1.8   \n...                     ...        ...     ...           ...              ...   \n3122                    NaN        NaN     0.0           NaN              1.7   \n3123                    NaN        NaN     0.0           NaN              1.7   \n3124                    NaN        NaN     0.0           NaN              1.7   \n3125                    NaN        NaN     0.0           NaN              1.7   \n3126                    NaN        NaN     0.0           NaN              1.7   \n\n      total_beds  \n0      1614.8044  \n1     15216.7251  \n2      9724.7968  \n3     14019.1386  \n4     71887.4802  \n...          ...  \n3122  13255.0615  \n3123  13255.0615  \n3124  13255.0615  \n3125  13255.0615  \n3126  13255.0615  \n\n[3127 rows x 15 columns]",
      "text/html": "<div>\n<style scoped>\n    .dataframe tbody tr th:only-of-type {\n        vertical-align: middle;\n    }\n\n    .dataframe tbody tr th {\n        vertical-align: top;\n    }\n\n    .dataframe thead th {\n        text-align: right;\n    }\n</style>\n<table border=\"1\" class=\"dataframe\">\n  <thead>\n    <tr style=\"text-align: right;\">\n      <th></th>\n      <th>date</th>\n      <th>state</th>\n      <th>abbrev</th>\n      <th>population</th>\n      <th>positive</th>\n      <th>active</th>\n      <th>hospitalizedCurrently</th>\n      <th>hospitalizedCumulative</th>\n      <th>inIcuCurrently</th>\n      <th>onVentilatorCurrently</th>\n      <th>recovered</th>\n      <th>death</th>\n      <th>hospitalized</th>\n      <th>bedsPerThousand</th>\n      <th>total_beds</th>\n    </tr>\n  </thead>\n  <tbody>\n    <tr>\n      <th>0</th>\n      <td>2020-05-04</td>\n      <td>Alaska</td>\n      <td>AK</td>\n      <td>734002</td>\n      <td>370.0</td>\n      <td>98.0</td>\n      <td>12.0</td>\n      <td>NaN</td>\n      <td>NaN</td>\n      <td>NaN</td>\n      <td>263.0</td>\n      <td>9.0</td>\n      <td>NaN</td>\n      <td>2.2</td>\n      <td>1614.8044</td>\n    </tr>\n    <tr>\n      <th>1</th>\n      <td>2020-05-04</td>\n      <td>Alabama</td>\n      <td>AL</td>\n      <td>4908621</td>\n      <td>8025.0</td>\n      <td>NaN</td>\n      <td>NaN</td>\n      <td>1064.0</td>\n      <td>NaN</td>\n      <td>NaN</td>\n      <td>NaN</td>\n      <td>296.0</td>\n      <td>1064.0</td>\n      <td>3.1</td>\n      <td>15216.7251</td>\n    </tr>\n    <tr>\n      <th>2</th>\n      <td>2020-05-04</td>\n      <td>Arkansas</td>\n      <td>AR</td>\n      <td>3038999</td>\n      <td>3458.0</td>\n      <td>1361.0</td>\n      <td>91.0</td>\n      <td>438.0</td>\n      <td>NaN</td>\n      <td>16.0</td>\n      <td>2016.0</td>\n      <td>81.0</td>\n      <td>438.0</td>\n      <td>3.2</td>\n      <td>9724.7968</td>\n    </tr>\n    <tr>\n      <th>3</th>\n      <td>2020-05-04</td>\n      <td>Arizona</td>\n      <td>AZ</td>\n      <td>7378494</td>\n      <td>8919.0</td>\n      <td>6925.0</td>\n      <td>703.0</td>\n      <td>1357.0</td>\n      <td>288.0</td>\n      <td>200.0</td>\n      <td>1632.0</td>\n      <td>362.0</td>\n      <td>1357.0</td>\n      <td>1.9</td>\n      <td>14019.1386</td>\n    </tr>\n    <tr>\n      <th>4</th>\n      <td>2020-05-04</td>\n      <td>California</td>\n      <td>CA</td>\n      <td>39937489</td>\n      <td>54937.0</td>\n      <td>NaN</td>\n      <td>4616.0</td>\n      <td>NaN</td>\n      <td>1464.0</td>\n      <td>NaN</td>\n      <td>NaN</td>\n      <td>2254.0</td>\n      <td>NaN</td>\n      <td>1.8</td>\n      <td>71887.4802</td>\n    </tr>\n    <tr>\n      <th>...</th>\n      <td>...</td>\n      <td>...</td>\n      <td>...</td>\n      <td>...</td>\n      <td>...</td>\n      <td>...</td>\n      <td>...</td>\n      <td>...</td>\n      <td>...</td>\n      <td>...</td>\n      <td>...</td>\n      <td>...</td>\n      <td>...</td>\n      <td>...</td>\n      <td>...</td>\n    </tr>\n    <tr>\n      <th>3122</th>\n      <td>2020-01-26</td>\n      <td>Washington</td>\n      <td>WA</td>\n      <td>7797095</td>\n      <td>1.0</td>\n      <td>NaN</td>\n      <td>NaN</td>\n      <td>NaN</td>\n      <td>NaN</td>\n      <td>NaN</td>\n      <td>NaN</td>\n      <td>0.0</td>\n      <td>NaN</td>\n      <td>1.7</td>\n      <td>13255.0615</td>\n    </tr>\n    <tr>\n      <th>3123</th>\n      <td>2020-01-25</td>\n      <td>Washington</td>\n      <td>WA</td>\n      <td>7797095</td>\n      <td>1.0</td>\n      <td>NaN</td>\n      <td>NaN</td>\n      <td>NaN</td>\n      <td>NaN</td>\n      <td>NaN</td>\n      <td>NaN</td>\n      <td>0.0</td>\n      <td>NaN</td>\n      <td>1.7</td>\n      <td>13255.0615</td>\n    </tr>\n    <tr>\n      <th>3124</th>\n      <td>2020-01-24</td>\n      <td>Washington</td>\n      <td>WA</td>\n      <td>7797095</td>\n      <td>1.0</td>\n      <td>NaN</td>\n      <td>NaN</td>\n      <td>NaN</td>\n      <td>NaN</td>\n      <td>NaN</td>\n      <td>NaN</td>\n      <td>0.0</td>\n      <td>NaN</td>\n      <td>1.7</td>\n      <td>13255.0615</td>\n    </tr>\n    <tr>\n      <th>3125</th>\n      <td>2020-01-23</td>\n      <td>Washington</td>\n      <td>WA</td>\n      <td>7797095</td>\n      <td>1.0</td>\n      <td>NaN</td>\n      <td>NaN</td>\n      <td>NaN</td>\n      <td>NaN</td>\n      <td>NaN</td>\n      <td>NaN</td>\n      <td>0.0</td>\n      <td>NaN</td>\n      <td>1.7</td>\n      <td>13255.0615</td>\n    </tr>\n    <tr>\n      <th>3126</th>\n      <td>2020-01-22</td>\n      <td>Washington</td>\n      <td>WA</td>\n      <td>7797095</td>\n      <td>1.0</td>\n      <td>NaN</td>\n      <td>NaN</td>\n      <td>NaN</td>\n      <td>NaN</td>\n      <td>NaN</td>\n      <td>NaN</td>\n      <td>0.0</td>\n      <td>NaN</td>\n      <td>1.7</td>\n      <td>13255.0615</td>\n    </tr>\n  </tbody>\n</table>\n<p>3127 rows × 15 columns</p>\n</div>"
     },
     "metadata": {},
     "execution_count": 16
    }
   ],
   "source": [
    "all_cases"
   ]
  },
  {
   "cell_type": "markdown",
   "metadata": {},
   "source": [
    "- Load and clean JHU data\n",
    "- Merge JHU dataset with main dataset"
   ]
  },
  {
   "cell_type": "code",
   "execution_count": 17,
   "metadata": {},
   "outputs": [],
   "source": [
    "# This cell takes some time, as it needs to connect to Kaggle Servers to retrieve data\n",
    "kaggle.api.authenticate()\n",
    "kaggle.api.dataset_download_files('benhamner/jhucovid19', path='./kaggle/input/jhucovid19/', unzip=True)"
   ]
  },
  {
   "cell_type": "code",
   "execution_count": 18,
   "metadata": {},
   "outputs": [
    {
     "output_type": "execute_result",
     "data": {
      "text/plain": "      LastUpdate  ProvinceState   Active  Confirmed  Deaths  Recovered\n0     2020-01-22     Washington      0.0        1.0     0.0        0.0\n1     2020-01-23     Washington      0.0        1.0     0.0        0.0\n2     2020-01-24     Washington      0.0        1.0     0.0        0.0\n3     2020-01-25       Illinois      0.0        1.0     0.0        0.0\n4     2020-01-25     Washington      0.0        1.0     0.0        0.0\n...          ...            ...      ...        ...     ...        ...\n2850  2020-05-04       Virginia  18012.0    18672.0   660.0        0.0\n2851  2020-05-04     Washington  14351.0    15185.0   834.0        0.0\n2852  2020-05-04  West Virginia   1147.0     1195.0    48.0        0.0\n2853  2020-05-04      Wisconsin   7625.0     7964.0   339.0        0.0\n2854  2020-05-04        Wyoming    579.0      586.0     7.0        0.0\n\n[2855 rows x 6 columns]",
      "text/html": "<div>\n<style scoped>\n    .dataframe tbody tr th:only-of-type {\n        vertical-align: middle;\n    }\n\n    .dataframe tbody tr th {\n        vertical-align: top;\n    }\n\n    .dataframe thead th {\n        text-align: right;\n    }\n</style>\n<table border=\"1\" class=\"dataframe\">\n  <thead>\n    <tr style=\"text-align: right;\">\n      <th></th>\n      <th>LastUpdate</th>\n      <th>ProvinceState</th>\n      <th>Active</th>\n      <th>Confirmed</th>\n      <th>Deaths</th>\n      <th>Recovered</th>\n    </tr>\n  </thead>\n  <tbody>\n    <tr>\n      <th>0</th>\n      <td>2020-01-22</td>\n      <td>Washington</td>\n      <td>0.0</td>\n      <td>1.0</td>\n      <td>0.0</td>\n      <td>0.0</td>\n    </tr>\n    <tr>\n      <th>1</th>\n      <td>2020-01-23</td>\n      <td>Washington</td>\n      <td>0.0</td>\n      <td>1.0</td>\n      <td>0.0</td>\n      <td>0.0</td>\n    </tr>\n    <tr>\n      <th>2</th>\n      <td>2020-01-24</td>\n      <td>Washington</td>\n      <td>0.0</td>\n      <td>1.0</td>\n      <td>0.0</td>\n      <td>0.0</td>\n    </tr>\n    <tr>\n      <th>3</th>\n      <td>2020-01-25</td>\n      <td>Illinois</td>\n      <td>0.0</td>\n      <td>1.0</td>\n      <td>0.0</td>\n      <td>0.0</td>\n    </tr>\n    <tr>\n      <th>4</th>\n      <td>2020-01-25</td>\n      <td>Washington</td>\n      <td>0.0</td>\n      <td>1.0</td>\n      <td>0.0</td>\n      <td>0.0</td>\n    </tr>\n    <tr>\n      <th>...</th>\n      <td>...</td>\n      <td>...</td>\n      <td>...</td>\n      <td>...</td>\n      <td>...</td>\n      <td>...</td>\n    </tr>\n    <tr>\n      <th>2850</th>\n      <td>2020-05-04</td>\n      <td>Virginia</td>\n      <td>18012.0</td>\n      <td>18672.0</td>\n      <td>660.0</td>\n      <td>0.0</td>\n    </tr>\n    <tr>\n      <th>2851</th>\n      <td>2020-05-04</td>\n      <td>Washington</td>\n      <td>14351.0</td>\n      <td>15185.0</td>\n      <td>834.0</td>\n      <td>0.0</td>\n    </tr>\n    <tr>\n      <th>2852</th>\n      <td>2020-05-04</td>\n      <td>West Virginia</td>\n      <td>1147.0</td>\n      <td>1195.0</td>\n      <td>48.0</td>\n      <td>0.0</td>\n    </tr>\n    <tr>\n      <th>2853</th>\n      <td>2020-05-04</td>\n      <td>Wisconsin</td>\n      <td>7625.0</td>\n      <td>7964.0</td>\n      <td>339.0</td>\n      <td>0.0</td>\n    </tr>\n    <tr>\n      <th>2854</th>\n      <td>2020-05-04</td>\n      <td>Wyoming</td>\n      <td>579.0</td>\n      <td>586.0</td>\n      <td>7.0</td>\n      <td>0.0</td>\n    </tr>\n  </tbody>\n</table>\n<p>2855 rows × 6 columns</p>\n</div>"
     },
     "metadata": {},
     "execution_count": 18
    }
   ],
   "source": [
    "# Get Time-Series Data of cases as Pandas DataFrame\n",
    "dir_jhu = './kaggle/input/jhucovid19/csse_covid_19_data/csse_covid_19_daily_reports'\n",
    "\n",
    "df_list = []\n",
    "for dirname, _, files in os.walk(dir_jhu):\n",
    "    for file in files:\n",
    "        if 'gitignore' not in file and 'README' not in file:\n",
    "            full_dir = os.path.join(dirname, file)\n",
    "            #print(full_dir)\n",
    "            df_list.append(pd.read_csv(full_dir))\n",
    "jhu_df = pd.concat(df_list, axis=0, ignore_index=True, sort=True)\n",
    "\n",
    "# combine Last Update with Last_Update\n",
    "jhu_df['LastUpdate'] = jhu_df['Last_Update'].combine_first(jhu_df['Last Update'])\n",
    "\n",
    "# format dates with parser\n",
    "for i, row in jhu_df.iterrows():\n",
    "    # update dates\n",
    "    jhu_df.at[i, 'LastUpdate'] = parse(jhu_df.at[i, 'LastUpdate']).date()\n",
    "\n",
    "# combine Country/Region with Country_Region\n",
    "jhu_df['CountryRegion'] = jhu_df['Country/Region'].combine_first(jhu_df['Country_Region'])\n",
    "\n",
    "# Retrieve only US data\n",
    "jhu_df = jhu_df[jhu_df['CountryRegion']=='US']\n",
    "\n",
    "# combine Province/State with Province_State\n",
    "jhu_df['ProvinceState'] = jhu_df['Province/State'].combine_first(jhu_df['Province_State'])\n",
    "\n",
    "# drop unnecessary columns\n",
    "jhu_df = jhu_df.drop(['Admin2', 'Lat', 'Latitude', 'Long_', 'Longitude', 'Combined_Key', 'Country/Region',\n",
    "                      'Country_Region', 'Province/State', 'Province_State',\n",
    "                      'Last Update', 'Last_Update', 'FIPS'], axis=1)\n",
    "\n",
    "# change column order\n",
    "cols = list(jhu_df)\n",
    "cols.insert(0, cols.pop(cols.index('CountryRegion')))\n",
    "cols.insert(1, cols.pop(cols.index('ProvinceState')))\n",
    "cols.insert(2, cols.pop(cols.index('LastUpdate')))\n",
    "jhu_df = jhu_df.loc[:, cols]\n",
    "\n",
    "# Change region to known US states\n",
    "import us\n",
    "state_abbrs = []\n",
    "for state in us.states.STATES:\n",
    "    state_abbrs.append(state.abbr)\n",
    "\n",
    "for i, row in jhu_df.iterrows():\n",
    "    for j in state_abbrs:\n",
    "        if j in jhu_df.at[i, 'ProvinceState']:\n",
    "            jhu_df.at[i, 'ProvinceState'] = us.states.lookup(j).name\n",
    "        if jhu_df.at[i, 'ProvinceState'] == 'Washington, D.C.':\n",
    "            jhu_df.at[i, 'ProvinceState'] = 'District of Columbia'\n",
    "\n",
    "# Filter out unknown states\n",
    "jhu_df = jhu_df[jhu_df['ProvinceState'].isin(list(all_cases.state.unique()))]\n",
    "\n",
    "# Merge-sum rows with same date and State\n",
    "jhu_df = jhu_df.groupby(['LastUpdate', 'ProvinceState']).agg(\n",
    "    {\n",
    "        'Active': sum,\n",
    "        'Confirmed': sum,\n",
    "        'Deaths': sum,\n",
    "        'Recovered': sum\n",
    "    }\n",
    ").reset_index()\n",
    "\n",
    "jhu_df"
   ]
  },
  {
   "cell_type": "code",
   "execution_count": 19,
   "metadata": {},
   "outputs": [
    {
     "output_type": "execute_result",
     "data": {
      "text/plain": "            date       state abbrev  population  positive   active  \\\n0     2020-05-04      Alaska     AK      734002     370.0    359.0   \n1     2020-05-04     Alabama     AL     4908621    8025.0   7729.0   \n2     2020-05-04    Arkansas     AR     3038999    3458.0   3361.0   \n3     2020-05-04     Arizona     AZ     7378494    8919.0   8278.0   \n4     2020-05-04  California     CA    39937489   54937.0  52683.0   \n...          ...         ...    ...         ...       ...      ...   \n3122  2020-01-26  Washington     WA     7797095       1.0      1.0   \n3123  2020-01-25  Washington     WA     7797095       1.0      1.0   \n3124  2020-01-24  Washington     WA     7797095       1.0      1.0   \n3125  2020-01-23  Washington     WA     7797095       1.0      1.0   \n3126  2020-01-22  Washington     WA     7797095       1.0      1.0   \n\n      hospitalizedCurrently  hospitalizedCumulative  inIcuCurrently  \\\n0                      12.0                     NaN             NaN   \n1                       NaN                  1064.0             NaN   \n2                      91.0                   438.0             NaN   \n3                     703.0                  1357.0           288.0   \n4                    4616.0                     NaN          1464.0   \n...                     ...                     ...             ...   \n3122                    NaN                     NaN             NaN   \n3123                    NaN                     NaN             NaN   \n3124                    NaN                     NaN             NaN   \n3125                    NaN                     NaN             NaN   \n3126                    NaN                     NaN             NaN   \n\n      onVentilatorCurrently  recovered   death  hospitalized  bedsPerThousand  \\\n0                       NaN      263.0     9.0           NaN              2.2   \n1                       NaN        0.0   296.0        1064.0              3.1   \n2                      16.0     2016.0    81.0         438.0              3.2   \n3                     200.0     1632.0   362.0        1357.0              1.9   \n4                       NaN        0.0  2254.0           NaN              1.8   \n...                     ...        ...     ...           ...              ...   \n3122                    NaN        0.0     0.0           NaN              1.7   \n3123                    NaN        0.0     0.0           NaN              1.7   \n3124                    NaN        0.0     0.0           NaN              1.7   \n3125                    NaN        0.0     0.0           NaN              1.7   \n3126                    NaN        0.0     0.0           NaN              1.7   \n\n      total_beds  \n0      1614.8044  \n1     15216.7251  \n2      9724.7968  \n3     14019.1386  \n4     71887.4802  \n...          ...  \n3122  13255.0615  \n3123  13255.0615  \n3124  13255.0615  \n3125  13255.0615  \n3126  13255.0615  \n\n[3127 rows x 15 columns]",
      "text/html": "<div>\n<style scoped>\n    .dataframe tbody tr th:only-of-type {\n        vertical-align: middle;\n    }\n\n    .dataframe tbody tr th {\n        vertical-align: top;\n    }\n\n    .dataframe thead th {\n        text-align: right;\n    }\n</style>\n<table border=\"1\" class=\"dataframe\">\n  <thead>\n    <tr style=\"text-align: right;\">\n      <th></th>\n      <th>date</th>\n      <th>state</th>\n      <th>abbrev</th>\n      <th>population</th>\n      <th>positive</th>\n      <th>active</th>\n      <th>hospitalizedCurrently</th>\n      <th>hospitalizedCumulative</th>\n      <th>inIcuCurrently</th>\n      <th>onVentilatorCurrently</th>\n      <th>recovered</th>\n      <th>death</th>\n      <th>hospitalized</th>\n      <th>bedsPerThousand</th>\n      <th>total_beds</th>\n    </tr>\n  </thead>\n  <tbody>\n    <tr>\n      <th>0</th>\n      <td>2020-05-04</td>\n      <td>Alaska</td>\n      <td>AK</td>\n      <td>734002</td>\n      <td>370.0</td>\n      <td>359.0</td>\n      <td>12.0</td>\n      <td>NaN</td>\n      <td>NaN</td>\n      <td>NaN</td>\n      <td>263.0</td>\n      <td>9.0</td>\n      <td>NaN</td>\n      <td>2.2</td>\n      <td>1614.8044</td>\n    </tr>\n    <tr>\n      <th>1</th>\n      <td>2020-05-04</td>\n      <td>Alabama</td>\n      <td>AL</td>\n      <td>4908621</td>\n      <td>8025.0</td>\n      <td>7729.0</td>\n      <td>NaN</td>\n      <td>1064.0</td>\n      <td>NaN</td>\n      <td>NaN</td>\n      <td>0.0</td>\n      <td>296.0</td>\n      <td>1064.0</td>\n      <td>3.1</td>\n      <td>15216.7251</td>\n    </tr>\n    <tr>\n      <th>2</th>\n      <td>2020-05-04</td>\n      <td>Arkansas</td>\n      <td>AR</td>\n      <td>3038999</td>\n      <td>3458.0</td>\n      <td>3361.0</td>\n      <td>91.0</td>\n      <td>438.0</td>\n      <td>NaN</td>\n      <td>16.0</td>\n      <td>2016.0</td>\n      <td>81.0</td>\n      <td>438.0</td>\n      <td>3.2</td>\n      <td>9724.7968</td>\n    </tr>\n    <tr>\n      <th>3</th>\n      <td>2020-05-04</td>\n      <td>Arizona</td>\n      <td>AZ</td>\n      <td>7378494</td>\n      <td>8919.0</td>\n      <td>8278.0</td>\n      <td>703.0</td>\n      <td>1357.0</td>\n      <td>288.0</td>\n      <td>200.0</td>\n      <td>1632.0</td>\n      <td>362.0</td>\n      <td>1357.0</td>\n      <td>1.9</td>\n      <td>14019.1386</td>\n    </tr>\n    <tr>\n      <th>4</th>\n      <td>2020-05-04</td>\n      <td>California</td>\n      <td>CA</td>\n      <td>39937489</td>\n      <td>54937.0</td>\n      <td>52683.0</td>\n      <td>4616.0</td>\n      <td>NaN</td>\n      <td>1464.0</td>\n      <td>NaN</td>\n      <td>0.0</td>\n      <td>2254.0</td>\n      <td>NaN</td>\n      <td>1.8</td>\n      <td>71887.4802</td>\n    </tr>\n    <tr>\n      <th>...</th>\n      <td>...</td>\n      <td>...</td>\n      <td>...</td>\n      <td>...</td>\n      <td>...</td>\n      <td>...</td>\n      <td>...</td>\n      <td>...</td>\n      <td>...</td>\n      <td>...</td>\n      <td>...</td>\n      <td>...</td>\n      <td>...</td>\n      <td>...</td>\n      <td>...</td>\n    </tr>\n    <tr>\n      <th>3122</th>\n      <td>2020-01-26</td>\n      <td>Washington</td>\n      <td>WA</td>\n      <td>7797095</td>\n      <td>1.0</td>\n      <td>1.0</td>\n      <td>NaN</td>\n      <td>NaN</td>\n      <td>NaN</td>\n      <td>NaN</td>\n      <td>0.0</td>\n      <td>0.0</td>\n      <td>NaN</td>\n      <td>1.7</td>\n      <td>13255.0615</td>\n    </tr>\n    <tr>\n      <th>3123</th>\n      <td>2020-01-25</td>\n      <td>Washington</td>\n      <td>WA</td>\n      <td>7797095</td>\n      <td>1.0</td>\n      <td>1.0</td>\n      <td>NaN</td>\n      <td>NaN</td>\n      <td>NaN</td>\n      <td>NaN</td>\n      <td>0.0</td>\n      <td>0.0</td>\n      <td>NaN</td>\n      <td>1.7</td>\n      <td>13255.0615</td>\n    </tr>\n    <tr>\n      <th>3124</th>\n      <td>2020-01-24</td>\n      <td>Washington</td>\n      <td>WA</td>\n      <td>7797095</td>\n      <td>1.0</td>\n      <td>1.0</td>\n      <td>NaN</td>\n      <td>NaN</td>\n      <td>NaN</td>\n      <td>NaN</td>\n      <td>0.0</td>\n      <td>0.0</td>\n      <td>NaN</td>\n      <td>1.7</td>\n      <td>13255.0615</td>\n    </tr>\n    <tr>\n      <th>3125</th>\n      <td>2020-01-23</td>\n      <td>Washington</td>\n      <td>WA</td>\n      <td>7797095</td>\n      <td>1.0</td>\n      <td>1.0</td>\n      <td>NaN</td>\n      <td>NaN</td>\n      <td>NaN</td>\n      <td>NaN</td>\n      <td>0.0</td>\n      <td>0.0</td>\n      <td>NaN</td>\n      <td>1.7</td>\n      <td>13255.0615</td>\n    </tr>\n    <tr>\n      <th>3126</th>\n      <td>2020-01-22</td>\n      <td>Washington</td>\n      <td>WA</td>\n      <td>7797095</td>\n      <td>1.0</td>\n      <td>1.0</td>\n      <td>NaN</td>\n      <td>NaN</td>\n      <td>NaN</td>\n      <td>NaN</td>\n      <td>0.0</td>\n      <td>0.0</td>\n      <td>NaN</td>\n      <td>1.7</td>\n      <td>13255.0615</td>\n    </tr>\n  </tbody>\n</table>\n<p>3127 rows × 15 columns</p>\n</div>"
     },
     "metadata": {},
     "execution_count": 19
    }
   ],
   "source": [
    "# Now that we have the JHU dataset relatively cleaned\n",
    "# we can go ahead and merge its data with our main dataset\n",
    "\n",
    "for i, row in all_cases.iterrows():\n",
    "    last_update = all_cases.at[i, 'date']\n",
    "    state = all_cases.at[i, 'state']\n",
    "    matching_row = jhu_df[jhu_df['ProvinceState'] == state]\n",
    "    matching_row = matching_row[matching_row['LastUpdate'] == last_update].reset_index()\n",
    "\n",
    "    if len(matching_row.values) > 0:\n",
    "        #all_cases.at[i, 'positive'] = matching_row['Confirmed'].values[0]\n",
    "        all_cases.at[i, 'active'] = matching_row['Active'].values[0]\n",
    "        #all_cases.at[i, 'recovered'] = matching_row['Recovered'].values[0]   --- JHU was inconsistent, therefore removed\n",
    "        #all_cases.at[i, 'death'] = matching_row['Deaths'].values[0]\n",
    "\n",
    "    # Replace unknown recovery numbers with 0\n",
    "    if np.isnan(row['recovered']):\n",
    "        all_cases.at[i, 'recovered'] = 0\n",
    "\n",
    "    if all_cases.at[i, 'active'] == 0 or np.isnan(row['active']):\n",
    "        positive = all_cases.at[i, 'positive']\n",
    "        recovered = all_cases.at[i, 'recovered']\n",
    "        dead = all_cases.at[i, 'death']\n",
    "        all_cases.at[i, 'active'] = positive - recovered - dead\n",
    "\n",
    "all_cases"
   ]
  },
  {
   "cell_type": "code",
   "execution_count": 20,
   "metadata": {},
   "outputs": [],
   "source": [
    "# Save formatted dataset offline in case of disaster\n",
    "all_cases.to_csv('all_cases.csv')"
   ]
  },
  {
   "cell_type": "markdown",
   "metadata": {},
   "source": [
    "## Step 2: Some Exploratory Data Analysis (EDA)"
   ]
  },
  {
   "cell_type": "code",
   "execution_count": 21,
   "metadata": {},
   "outputs": [],
   "source": [
    "# TODO Get some insights on data"
   ]
  },
  {
   "cell_type": "markdown",
   "metadata": {},
   "source": [
    "## Step 3: Build model for dependent Variable \n",
    "- To be used to predict hospitalizedCurrently\n",
    "- Having more complete variables for inICUCurrently and onVentilatorCurrently will allow us to predict these numbers as well"
   ]
  },
  {
   "cell_type": "code",
   "execution_count": 22,
   "metadata": {},
   "outputs": [
    {
     "output_type": "execute_result",
     "data": {
      "text/plain": "         date  population  positive   active  hospitalizedCurrently  \\\n0  2020-05-04      734002     370.0    359.0                   12.0   \n2  2020-05-04     3038999    3458.0   3361.0                   91.0   \n3  2020-05-04     7378494    8919.0   8278.0                  703.0   \n4  2020-05-04    39937489   54937.0  52683.0                 4616.0   \n5  2020-05-04     5845526   16635.0  15793.0                  883.0   \n\n   inIcuCurrently  onVentilatorCurrently  recovered   death  total_beds  \n0             NaN                    NaN      263.0     9.0   1614.8044  \n2             NaN                   16.0     2016.0    81.0   9724.7968  \n3           288.0                  200.0     1632.0   362.0  14019.1386  \n4          1464.0                    NaN        0.0  2254.0  71887.4802  \n5             NaN                    NaN     2650.0   842.0  11106.4994  ",
      "text/html": "<div>\n<style scoped>\n    .dataframe tbody tr th:only-of-type {\n        vertical-align: middle;\n    }\n\n    .dataframe tbody tr th {\n        vertical-align: top;\n    }\n\n    .dataframe thead th {\n        text-align: right;\n    }\n</style>\n<table border=\"1\" class=\"dataframe\">\n  <thead>\n    <tr style=\"text-align: right;\">\n      <th></th>\n      <th>date</th>\n      <th>population</th>\n      <th>positive</th>\n      <th>active</th>\n      <th>hospitalizedCurrently</th>\n      <th>inIcuCurrently</th>\n      <th>onVentilatorCurrently</th>\n      <th>recovered</th>\n      <th>death</th>\n      <th>total_beds</th>\n    </tr>\n  </thead>\n  <tbody>\n    <tr>\n      <th>0</th>\n      <td>2020-05-04</td>\n      <td>734002</td>\n      <td>370.0</td>\n      <td>359.0</td>\n      <td>12.0</td>\n      <td>NaN</td>\n      <td>NaN</td>\n      <td>263.0</td>\n      <td>9.0</td>\n      <td>1614.8044</td>\n    </tr>\n    <tr>\n      <th>2</th>\n      <td>2020-05-04</td>\n      <td>3038999</td>\n      <td>3458.0</td>\n      <td>3361.0</td>\n      <td>91.0</td>\n      <td>NaN</td>\n      <td>16.0</td>\n      <td>2016.0</td>\n      <td>81.0</td>\n      <td>9724.7968</td>\n    </tr>\n    <tr>\n      <th>3</th>\n      <td>2020-05-04</td>\n      <td>7378494</td>\n      <td>8919.0</td>\n      <td>8278.0</td>\n      <td>703.0</td>\n      <td>288.0</td>\n      <td>200.0</td>\n      <td>1632.0</td>\n      <td>362.0</td>\n      <td>14019.1386</td>\n    </tr>\n    <tr>\n      <th>4</th>\n      <td>2020-05-04</td>\n      <td>39937489</td>\n      <td>54937.0</td>\n      <td>52683.0</td>\n      <td>4616.0</td>\n      <td>1464.0</td>\n      <td>NaN</td>\n      <td>0.0</td>\n      <td>2254.0</td>\n      <td>71887.4802</td>\n    </tr>\n    <tr>\n      <th>5</th>\n      <td>2020-05-04</td>\n      <td>5845526</td>\n      <td>16635.0</td>\n      <td>15793.0</td>\n      <td>883.0</td>\n      <td>NaN</td>\n      <td>NaN</td>\n      <td>2650.0</td>\n      <td>842.0</td>\n      <td>11106.4994</td>\n    </tr>\n  </tbody>\n</table>\n</div>"
     },
     "metadata": {},
     "execution_count": 22
    }
   ],
   "source": [
    "# TODO check on normalising data\n",
    "\n",
    "# We are going to compare three models:\n",
    "# - Linear Regression\n",
    "# - Polynomial Regression\n",
    "# - ElasticNet\n",
    "\n",
    "# Copy DFs to not mess up original one\n",
    "# We will use model_df for our regression model\n",
    "model_df = all_cases.copy()\n",
    "\n",
    "# Delete redundant rows\n",
    "for row in ['abbrev', 'bedsPerThousand', 'hospitalized', \n",
    "'state', 'hospitalizedCumulative']:\n",
    "    del model_df[row]\n",
    "\n",
    "# Drop NaN values for hospitalizedCurrently\n",
    "model_df = model_df.dropna(subset=['hospitalizedCurrently'])\n",
    "\n",
    "# Drop Values with low active-hospitalised ratio\n",
    "# TODO see if we can instead use this as a variable\n",
    "# TODO see if we can drop by bedsPerThousand instead\n",
    "model_df['ratio_hospital'] = model_df['hospitalizedCurrently'] / model_df['active']\n",
    "model_df = model_df[~(model_df['ratio_hospital'] >= model_df.ratio_hospital.quantile(0.95))]\n",
    "\n",
    "#model_df = model_df[~(model_df['ratio_hospital'] <= model_df['ratio_hospital'].median())]\n",
    "del model_df['ratio_hospital']\n",
    "\n",
    "# Get peek of model to use\n",
    "model_df.head()"
   ]
  },
  {
   "cell_type": "markdown",
   "metadata": {},
   "source": [
    "## One last thing:\n",
    "\n",
    "Get all combinations of independent params"
   ]
  },
  {
   "cell_type": "code",
   "execution_count": 29,
   "metadata": {},
   "outputs": [],
   "source": [
    "import itertools\n",
    "split = 0.2\n",
    "\n",
    "independent_cols = [x for x in list(model_df.columns) if not(x in ['hospitalizedCurrently', 'inIcuCurrently', 'onVentilatorCurrently', 'date'])]\n",
    "\n",
    "comb_list = []\n",
    "len_ind = len(independent_cols)\n",
    "for i in range(len_ind):\n",
    "    sub_list = list(itertools.combinations(independent_cols, len_ind-i))\n",
    "    comb_list += list(list(x) for x in sub_list)"
   ]
  },
  {
   "cell_type": "markdown",
   "metadata": {},
   "source": [
    "### Model 1: Polynomial Regression"
   ]
  },
  {
   "cell_type": "code",
   "execution_count": 24,
   "metadata": {},
   "outputs": [
    {
     "output_type": "execute_result",
     "data": {
      "text/plain": "                                            param_comb  degree       score\n424             [active, recovered, death, total_beds]       5  308.717534\n403           [positive, recovered, death, total_beds]       4  327.209263\n423             [active, recovered, death, total_beds]       4  341.159190\n2    [population, positive, active, recovered, deat...       3  345.088127\n3    [population, positive, active, recovered, deat...       4  348.829136",
      "text/html": "<div>\n<style scoped>\n    .dataframe tbody tr th:only-of-type {\n        vertical-align: middle;\n    }\n\n    .dataframe tbody tr th {\n        vertical-align: top;\n    }\n\n    .dataframe thead th {\n        text-align: right;\n    }\n</style>\n<table border=\"1\" class=\"dataframe\">\n  <thead>\n    <tr style=\"text-align: right;\">\n      <th></th>\n      <th>param_comb</th>\n      <th>degree</th>\n      <th>score</th>\n    </tr>\n  </thead>\n  <tbody>\n    <tr>\n      <th>424</th>\n      <td>[active, recovered, death, total_beds]</td>\n      <td>5</td>\n      <td>308.717534</td>\n    </tr>\n    <tr>\n      <th>403</th>\n      <td>[positive, recovered, death, total_beds]</td>\n      <td>4</td>\n      <td>327.209263</td>\n    </tr>\n    <tr>\n      <th>423</th>\n      <td>[active, recovered, death, total_beds]</td>\n      <td>4</td>\n      <td>341.159190</td>\n    </tr>\n    <tr>\n      <th>2</th>\n      <td>[population, positive, active, recovered, deat...</td>\n      <td>3</td>\n      <td>345.088127</td>\n    </tr>\n    <tr>\n      <th>3</th>\n      <td>[population, positive, active, recovered, deat...</td>\n      <td>4</td>\n      <td>348.829136</td>\n    </tr>\n  </tbody>\n</table>\n</div>"
     },
     "metadata": {},
     "execution_count": 24
    }
   ],
   "source": [
    "mse_df1 = {'param_comb': [],\n",
    "'degree': [],\n",
    "'score': []}\n",
    "\n",
    "degrees = [i for i in range(1,10)]\n",
    "\n",
    "for comb in comb_list:\n",
    "    X = model_df[comb]\n",
    "    y = model_df['hospitalizedCurrently']\n",
    "\n",
    "    for d in degrees:\n",
    "\n",
    "        polynomial_features = PolynomialFeatures(degree=d)\n",
    "        x_poly = polynomial_features.fit_transform(X)\n",
    "\n",
    "        model = LinearRegression()\n",
    "        model.fit(x_poly, y)\n",
    "        y_poly_pred = model.predict(x_poly)\n",
    "\n",
    "        mse_df1['param_comb'].append(comb)\n",
    "        mse_df1['score'].append(np.sqrt(mean_squared_error(y, y_poly_pred)))\n",
    "        mse_df1['degree'].append(d)\n",
    "\n",
    "mse_df1 = pd.DataFrame(mse_df1)\n",
    "mse_df1.sort_values(by='score', ascending=True).head()"
   ]
  },
  {
   "cell_type": "code",
   "execution_count": 25,
   "metadata": {},
   "outputs": [],
   "source": [
    "X = model_df[['positive', 'active', 'recovered', 'total_beds']]\n",
    "y = model_df['hospitalizedCurrently']\n",
    "\n",
    "polynomial_features = PolynomialFeatures(degree=5)\n",
    "x_poly = polynomial_features.fit_transform(X)\n",
    "\n",
    "model = LinearRegression()\n",
    "model.fit(x_poly, y)\n",
    "y_poly_pred = model.predict(x_poly)"
   ]
  },
  {
   "cell_type": "markdown",
   "metadata": {},
   "source": [
    "### Model 2: Linear Regression"
   ]
  },
  {
   "cell_type": "code",
   "execution_count": 26,
   "metadata": {},
   "outputs": [
    {
     "output_type": "execute_result",
     "data": {
      "text/plain": "                                           param_comb       score\n0   [population, positive, active, recovered, deat...  875.541107\n6    [positive, active, recovered, death, total_beds]  875.573357\n1    [population, positive, active, recovered, death]  875.669996\n17               [positive, active, recovered, death]  876.148196\n4   [population, positive, recovered, death, total...  877.886959",
      "text/html": "<div>\n<style scoped>\n    .dataframe tbody tr th:only-of-type {\n        vertical-align: middle;\n    }\n\n    .dataframe tbody tr th {\n        vertical-align: top;\n    }\n\n    .dataframe thead th {\n        text-align: right;\n    }\n</style>\n<table border=\"1\" class=\"dataframe\">\n  <thead>\n    <tr style=\"text-align: right;\">\n      <th></th>\n      <th>param_comb</th>\n      <th>score</th>\n    </tr>\n  </thead>\n  <tbody>\n    <tr>\n      <th>0</th>\n      <td>[population, positive, active, recovered, deat...</td>\n      <td>875.541107</td>\n    </tr>\n    <tr>\n      <th>6</th>\n      <td>[positive, active, recovered, death, total_beds]</td>\n      <td>875.573357</td>\n    </tr>\n    <tr>\n      <th>1</th>\n      <td>[population, positive, active, recovered, death]</td>\n      <td>875.669996</td>\n    </tr>\n    <tr>\n      <th>17</th>\n      <td>[positive, active, recovered, death]</td>\n      <td>876.148196</td>\n    </tr>\n    <tr>\n      <th>4</th>\n      <td>[population, positive, recovered, death, total...</td>\n      <td>877.886959</td>\n    </tr>\n  </tbody>\n</table>\n</div>"
     },
     "metadata": {},
     "execution_count": 26
    }
   ],
   "source": [
    "import itertools\n",
    "\n",
    "mse_df = {'param_comb': [],\n",
    "'score': []}\n",
    "\n",
    "for comb in comb_list:\n",
    "    # Independent vars\n",
    "    X = model_df[comb]\n",
    "\n",
    "    # Dependent var\n",
    "    y = model_df['hospitalizedCurrently']\n",
    "\n",
    "    # Fit model\n",
    "    linear_model = LinearRegression()\n",
    "    linear_model.fit(X, y)\n",
    "\n",
    "    score=(mean_squared_error(y_true=y,y_pred=linear_model.predict(X)))\n",
    "    \n",
    "    mse_df['param_comb'].append(comb)\n",
    "    mse_df['score'].append(np.sqrt(score))\n",
    "\n",
    "mse_df = pd.DataFrame(mse_df)\n",
    "mse_df.sort_values(by='score', ascending=True).head()"
   ]
  },
  {
   "cell_type": "markdown",
   "metadata": {},
   "source": [
    "### Model 3: ElasticNet Regression"
   ]
  },
  {
   "cell_type": "markdown",
   "metadata": {},
   "source": [
    "Step 2: Cross-validate every combination (Look for best hyperparams first)"
   ]
  },
  {
   "cell_type": "code",
   "execution_count": 30,
   "metadata": {
    "tags": [
     "outputPrepend",
     "outputPrepend",
     "outputPrepend",
     "outputPrepend",
     "outputPrepend",
     "outputPrepend",
     "outputPrepend",
     "outputPrepend",
     "outputPrepend",
     "outputPrepend",
     "outputPrepend",
     "outputPrepend",
     "outputPrepend",
     "outputPrepend",
     "outputPrepend",
     "outputPrepend",
     "outputPrepend",
     "outputPrepend",
     "outputPrepend",
     "outputPrepend",
     "outputPrepend",
     "outputPrepend",
     "outputPrepend",
     "outputPrepend",
     "outputPrepend",
     "outputPrepend",
     "outputPrepend",
     "outputPrepend",
     "outputPrepend",
     "outputPrepend",
     "outputPrepend",
     "outputPrepend",
     "outputPrepend",
     "outputPrepend",
     "outputPrepend",
     "outputPrepend",
     "outputPrepend",
     "outputPrepend",
     "outputPrepend",
     "outputPrepend",
     "outputPrepend",
     "outputPrepend",
     "outputPrepend",
     "outputPrepend"
    ]
   },
   "outputs": [
    {
     "output_type": "execute_result",
     "data": {
      "text/plain": "                                              columns    alpha  l1_ratio\n0   [population, positive, active, recovered, deat...  0.00001       1.0\n1    [population, positive, active, recovered, death]  0.00001       1.0\n2   [population, positive, active, recovered, tota...  0.00001       0.9\n3   [population, positive, active, death, total_beds]  0.00001       1.0\n4   [population, positive, recovered, death, total...  0.00001       1.0\n..                                                ...      ...       ...\n58                                         [positive]  0.00010       0.8\n59                                           [active]  0.00010       0.6\n60                                        [recovered]  0.00001       0.2\n61                                            [death]  0.00010       0.6\n62                                       [total_beds]  0.00010       0.9\n\n[63 rows x 3 columns]",
      "text/html": "<div>\n<style scoped>\n    .dataframe tbody tr th:only-of-type {\n        vertical-align: middle;\n    }\n\n    .dataframe tbody tr th {\n        vertical-align: top;\n    }\n\n    .dataframe thead th {\n        text-align: right;\n    }\n</style>\n<table border=\"1\" class=\"dataframe\">\n  <thead>\n    <tr style=\"text-align: right;\">\n      <th></th>\n      <th>columns</th>\n      <th>alpha</th>\n      <th>l1_ratio</th>\n    </tr>\n  </thead>\n  <tbody>\n    <tr>\n      <th>0</th>\n      <td>[population, positive, active, recovered, deat...</td>\n      <td>0.00001</td>\n      <td>1.0</td>\n    </tr>\n    <tr>\n      <th>1</th>\n      <td>[population, positive, active, recovered, death]</td>\n      <td>0.00001</td>\n      <td>1.0</td>\n    </tr>\n    <tr>\n      <th>2</th>\n      <td>[population, positive, active, recovered, tota...</td>\n      <td>0.00001</td>\n      <td>0.9</td>\n    </tr>\n    <tr>\n      <th>3</th>\n      <td>[population, positive, active, death, total_beds]</td>\n      <td>0.00001</td>\n      <td>1.0</td>\n    </tr>\n    <tr>\n      <th>4</th>\n      <td>[population, positive, recovered, death, total...</td>\n      <td>0.00001</td>\n      <td>1.0</td>\n    </tr>\n    <tr>\n      <th>...</th>\n      <td>...</td>\n      <td>...</td>\n      <td>...</td>\n    </tr>\n    <tr>\n      <th>58</th>\n      <td>[positive]</td>\n      <td>0.00010</td>\n      <td>0.8</td>\n    </tr>\n    <tr>\n      <th>59</th>\n      <td>[active]</td>\n      <td>0.00010</td>\n      <td>0.6</td>\n    </tr>\n    <tr>\n      <th>60</th>\n      <td>[recovered]</td>\n      <td>0.00001</td>\n      <td>0.2</td>\n    </tr>\n    <tr>\n      <th>61</th>\n      <td>[death]</td>\n      <td>0.00010</td>\n      <td>0.6</td>\n    </tr>\n    <tr>\n      <th>62</th>\n      <td>[total_beds]</td>\n      <td>0.00010</td>\n      <td>0.9</td>\n    </tr>\n  </tbody>\n</table>\n<p>63 rows × 3 columns</p>\n</div>"
     },
     "metadata": {},
     "execution_count": 30
    }
   ],
   "source": [
    "cross_val_results = {\n",
    "    'columns': [],\n",
    "    'alpha': [],\n",
    "    'l1_ratio': []\n",
    "}\n",
    "\n",
    "for ind_cols in comb_list:\n",
    "    X = model_df[ind_cols]\n",
    "    y = model_df['hospitalizedCurrently']\n",
    "\n",
    "    X_train, X_test, y_train, y_test = train_test_split(X, y, test_size=split)\n",
    "\n",
    "    # Seek best params like we seek the COVID vaccine\n",
    "    elastic = ElasticNet(normalize=True, max_iter=10000)\n",
    "    search=GridSearchCV(estimator=elastic,param_grid={\n",
    "        'alpha':np.logspace(-5, 2, 8),\n",
    "        'l1_ratio':[.1, .2, .4, .6, .75, .8, .85, .9, .95, 1]},\n",
    "        scoring='neg_mean_squared_error',\n",
    "        n_jobs=1,\n",
    "        refit=True,\n",
    "        cv=10)\n",
    "\n",
    "    search.fit(X_train,y_train)\n",
    "    cross_val_results['columns'].append(ind_cols)\n",
    "    cross_val_results['alpha'].append(search.best_params_['alpha'])\n",
    "    cross_val_results['l1_ratio'].append(search.best_params_['l1_ratio'])\n",
    "\n",
    "cross_val_results = pd.DataFrame(cross_val_results)\n",
    "cross_val_results"
   ]
  },
  {
   "cell_type": "code",
   "execution_count": 42,
   "metadata": {},
   "outputs": [
    {
     "output_type": "execute_result",
     "data": {
      "text/plain": "                                             columns    alpha  l1_ratio  \\\n10          [population, positive, recovered, death]  0.00001      1.00   \n19             [positive, active, death, total_beds]  0.00001      1.00   \n1   [population, positive, active, recovered, death]  0.00001      1.00   \n17              [positive, active, recovered, death]  0.00001      0.95   \n35                      [positive, recovered, death]  0.00001      1.00   \n\n          RMSE  \n10  734.226844  \n19  756.625583  \n1   775.145262  \n17  806.730748  \n35  832.299685  ",
      "text/html": "<div>\n<style scoped>\n    .dataframe tbody tr th:only-of-type {\n        vertical-align: middle;\n    }\n\n    .dataframe tbody tr th {\n        vertical-align: top;\n    }\n\n    .dataframe thead th {\n        text-align: right;\n    }\n</style>\n<table border=\"1\" class=\"dataframe\">\n  <thead>\n    <tr style=\"text-align: right;\">\n      <th></th>\n      <th>columns</th>\n      <th>alpha</th>\n      <th>l1_ratio</th>\n      <th>RMSE</th>\n    </tr>\n  </thead>\n  <tbody>\n    <tr>\n      <th>10</th>\n      <td>[population, positive, recovered, death]</td>\n      <td>0.00001</td>\n      <td>1.00</td>\n      <td>734.226844</td>\n    </tr>\n    <tr>\n      <th>19</th>\n      <td>[positive, active, death, total_beds]</td>\n      <td>0.00001</td>\n      <td>1.00</td>\n      <td>756.625583</td>\n    </tr>\n    <tr>\n      <th>1</th>\n      <td>[population, positive, active, recovered, death]</td>\n      <td>0.00001</td>\n      <td>1.00</td>\n      <td>775.145262</td>\n    </tr>\n    <tr>\n      <th>17</th>\n      <td>[positive, active, recovered, death]</td>\n      <td>0.00001</td>\n      <td>0.95</td>\n      <td>806.730748</td>\n    </tr>\n    <tr>\n      <th>35</th>\n      <td>[positive, recovered, death]</td>\n      <td>0.00001</td>\n      <td>1.00</td>\n      <td>832.299685</td>\n    </tr>\n  </tbody>\n</table>\n</div>"
     },
     "metadata": {},
     "execution_count": 42
    }
   ],
   "source": [
    "rmse_list = []\n",
    "for i, row in cross_val_results.iterrows():\n",
    "    alpha = cross_val_results.at[i, 'alpha']\n",
    "    l1 = cross_val_results.at[i, 'l1_ratio']\n",
    "\n",
    "    X = model_df[cross_val_results.at[i, 'columns']]\n",
    "    y = model_df['hospitalizedCurrently']\n",
    "\n",
    "    X_train, X_test, y_train, y_test = train_test_split(X, y, test_size=split)\n",
    "    elastic = ElasticNet(normalize=True, alpha=alpha, l1_ratio=l1, max_iter=1000000)\n",
    "    elastic.fit(X_train,y_train)\n",
    "    rmse=(np.sqrt(mean_squared_error(y_true=y_test,y_pred=elastic.predict(X_test))))\n",
    "    rmse_list.append(rmse)\n",
    "\n",
    "cross_val_results['RMSE'] = rmse_list\n",
    "\n",
    "cross_val_results.sort_values(by='RMSE', ascending=True).head()"
   ]
  },
  {
   "cell_type": "markdown",
   "metadata": {},
   "source": [
    "## Step 4: Using findings from dataset of hospital beds, conclude research problem"
   ]
  },
  {
   "cell_type": "code",
   "execution_count": null,
   "metadata": {},
   "outputs": [],
   "source": []
  }
 ],
 "metadata": {
  "kernelspec": {
   "display_name": "Python 3",
   "language": "python",
   "name": "python3"
  },
  "language_info": {
   "codemirror_mode": {
    "name": "ipython",
    "version": 3
   },
   "file_extension": ".py",
   "mimetype": "text/x-python",
   "name": "python",
   "nbconvert_exporter": "python",
   "pygments_lexer": "ipython3",
   "version": "3.7.4-final"
  }
 },
 "nbformat": 4,
 "nbformat_minor": 2
}