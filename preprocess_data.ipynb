{
 "cells": [
  {
   "cell_type": "markdown",
   "metadata": {},
   "source": [
    "## Data Mining Techniques\n",
    "### COVID-19 data\n",
    "Kimberley Boersma (2572145), Neil Mizzi (2674737), Selma Muhammad (Stud no)"
   ]
  },
  {
   "cell_type": "code",
   "execution_count": 1,
   "metadata": {},
   "outputs": [],
   "source": [
    "# Imports\n",
    "import os\n",
    "import pandas as pd\n",
    "import csv\n",
    "import kaggle\n",
    "\n",
    "# other imports\n",
    "import numpy as np \n",
    "# import matplotlib.pyplot as plt \n",
    "# import matplotlib.colors as mcolors\n",
    "# import random\n",
    "# import math\n",
    "# import time\n",
    "# from sklearn.linear_model import LinearRegression, BayesianRidge\n",
    "# from sklearn.model_selection import RandomizedSearchCV, train_test_split\n",
    "# from sklearn.preprocessing import PolynomialFeatures\n",
    "# from sklearn.tree import DecisionTreeRegressor\n",
    "# from sklearn.svm import SVR\n",
    "# from sklearn.metrics import mean_squared_error, mean_absolute_error\n",
    "from datetime import date, datetime\n",
    "from dateutil.parser import parse\n",
    "# import us\n",
    "# import operator \n",
    "# plt.style.use('fivethirtyeight')\n",
    "# %matplotlib inline "
   ]
  },
  {
   "cell_type": "markdown",
   "metadata": {},
   "source": [
    "# Covid Tracking Dataset (w/ hospitalised data)\n",
    "\n",
    "Source: https://covidtracking.com/"
   ]
  },
  {
   "cell_type": "markdown",
   "metadata": {},
   "source": [
    "## Step 1: Load and Clean the Data"
   ]
  },
  {
   "cell_type": "code",
   "execution_count": 2,
   "metadata": {},
   "outputs": [],
   "source": [
    "all_cases = pd.read_csv('https://covidtracking.com/api/v1/states/daily.csv')\n",
    "\n",
    "# Delete unecessary rows\n",
    "for row in ['negative', 'pending', 'hash', 'negativeIncrease', 'totalTestResults', 'totalTestResultsIncrease', 'dateChecked', 'fips', 'inIcuCumulative', 'onVentilatorCumulative', 'total', 'posNeg', 'deathIncrease', 'hospitalizedIncrease', 'positiveIncrease']:\n",
    "    del all_cases[row]\n",
    "\n",
    "# TODO missing values\n",
    "#      Do we get avg or missing values, or predict them?\n",
    "#      See https://developerzen.com/data-mining-handling-missing-values-the-database-bd2241882e72\n",
    "\n",
    "for i, row in all_cases.iterrows():\n",
    "    # Set Dates\n",
    "    s = str(row['date'])\n",
    "    all_cases.at[i, 'date'] = date(year=int(s[0:4]), month=int(s[4:6]), day=int(s[6:8]))\n",
    "    \n",
    "\n",
    "# Missing death figures means no death reports yet\n",
    "# These are set to 0\n",
    "for i, row in all_cases.iterrows():\n",
    "    if np.isnan(row['death']):\n",
    "        all_cases.at[i, 'death'] = 0"
   ]
  },
  {
   "cell_type": "markdown",
   "metadata": {},
   "source": [
    "## Missing values: Retrieving from other datasets or through merging columns (or both)\n",
    "\n",
    "The following will be done:\n",
    "- **Active Cases**: Retrieved from $active = pos-dead-recovered$\n",
    "- **Beds per State**: Retrieved from External Datasets"
   ]
  },
  {
   "cell_type": "code",
   "execution_count": 3,
   "metadata": {},
   "outputs": [],
   "source": [
    "# TODO Replace active cases with JHU and/or regression model (Selma)\n",
    "all_cases['active'] = all_cases['positive'] - all_cases['recovered'] - all_cases['death']\n",
    "# change location of 'active' column\n",
    "cols = list(all_cases)\n",
    "cols.insert(3, cols.pop(cols.index('active')))\n",
    "all_cases = all_cases.loc[:, cols]"
   ]
  },
  {
   "cell_type": "code",
   "execution_count": 4,
   "metadata": {},
   "outputs": [],
   "source": [
    "# Load datasets for US population and Hospital beds per 1000\n",
    "us_population = pd.read_csv('data/us_population.csv')\n",
    "hosp_beds = pd.read_csv('data/hospital_beds.csv')\n",
    "state_abbrev = pd.read_csv('data/us_state_names.csv')\n",
    "\n",
    "# add state abbreviations to us_population and hospital beds dataframe\n",
    "for state in state_abbrev['State'].tolist():\n",
    "    # store state abbreviation in variable\n",
    "    abbrev = state_abbrev.loc[state_abbrev['State'] == state, 'Abbreviation'].tolist()[0]\n",
    "    # add abbrev to new column 'Abbreviation' in us_population df\n",
    "    us_population.loc[us_population['State'] == state, 'Abbreviation'] = abbrev\n",
    "    # add abbrev to new column in hosp_beds df\n",
    "    hosp_beds.loc[hosp_beds['Location'] == state, 'Abbreviation'] = abbrev\n",
    "    \n",
    "# change order of columns of us_population\n",
    "cols = list(us_population)\n",
    "cols.insert(2, cols.pop(cols.index('Abbreviation')))\n",
    "us_population = us_population.loc[:, cols]\n",
    "\n",
    "# drop unnecessary columns of us_population\n",
    "us_population = us_population.drop(columns=['rank', 'Growth', 'Pop2018', 'Pop2010', 'growthSince2010', 'Percent', 'density'])\n",
    "\n",
    "# drop unnecessary columns of hosp_beds\n",
    "hosp_beds = hosp_beds.drop(columns=['Location', 'State/Local Government', 'Non-Profit', 'For-Profit'])\n",
    "\n",
    "# change order of columns of hosp_beds\n",
    "cols = list(hosp_beds)\n",
    "cols.insert(0, cols.pop(cols.index('Abbreviation')))\n",
    "hosp_beds = hosp_beds.loc[:, cols]"
   ]
  },
  {
   "cell_type": "code",
   "execution_count": 5,
   "metadata": {},
   "outputs": [
    {
     "output_type": "execute_result",
     "data": {
      "text/plain": "        State Abbreviation       Pop\n0     Alabama           AL   4908621\n1      Alaska           AK    734002\n2     Arizona           AZ   7378494\n3    Arkansas           AR   3038999\n4  California           CA  39937489",
      "text/html": "<div>\n<style scoped>\n    .dataframe tbody tr th:only-of-type {\n        vertical-align: middle;\n    }\n\n    .dataframe tbody tr th {\n        vertical-align: top;\n    }\n\n    .dataframe thead th {\n        text-align: right;\n    }\n</style>\n<table border=\"1\" class=\"dataframe\">\n  <thead>\n    <tr style=\"text-align: right;\">\n      <th></th>\n      <th>State</th>\n      <th>Abbreviation</th>\n      <th>Pop</th>\n    </tr>\n  </thead>\n  <tbody>\n    <tr>\n      <th>0</th>\n      <td>Alabama</td>\n      <td>AL</td>\n      <td>4908621</td>\n    </tr>\n    <tr>\n      <th>1</th>\n      <td>Alaska</td>\n      <td>AK</td>\n      <td>734002</td>\n    </tr>\n    <tr>\n      <th>2</th>\n      <td>Arizona</td>\n      <td>AZ</td>\n      <td>7378494</td>\n    </tr>\n    <tr>\n      <th>3</th>\n      <td>Arkansas</td>\n      <td>AR</td>\n      <td>3038999</td>\n    </tr>\n    <tr>\n      <th>4</th>\n      <td>California</td>\n      <td>CA</td>\n      <td>39937489</td>\n    </tr>\n  </tbody>\n</table>\n</div>"
     },
     "metadata": {},
     "execution_count": 5
    }
   ],
   "source": [
    "us_population.head()"
   ]
  },
  {
   "cell_type": "code",
   "execution_count": 6,
   "metadata": {},
   "outputs": [
    {
     "output_type": "execute_result",
     "data": {
      "text/plain": "  Abbreviation  Total\n0          NaN    2.4\n1           AL    3.1\n2           AK    2.2\n3           AZ    1.9\n4           AR    3.2",
      "text/html": "<div>\n<style scoped>\n    .dataframe tbody tr th:only-of-type {\n        vertical-align: middle;\n    }\n\n    .dataframe tbody tr th {\n        vertical-align: top;\n    }\n\n    .dataframe thead th {\n        text-align: right;\n    }\n</style>\n<table border=\"1\" class=\"dataframe\">\n  <thead>\n    <tr style=\"text-align: right;\">\n      <th></th>\n      <th>Abbreviation</th>\n      <th>Total</th>\n    </tr>\n  </thead>\n  <tbody>\n    <tr>\n      <th>0</th>\n      <td>NaN</td>\n      <td>2.4</td>\n    </tr>\n    <tr>\n      <th>1</th>\n      <td>AL</td>\n      <td>3.1</td>\n    </tr>\n    <tr>\n      <th>2</th>\n      <td>AK</td>\n      <td>2.2</td>\n    </tr>\n    <tr>\n      <th>3</th>\n      <td>AZ</td>\n      <td>1.9</td>\n    </tr>\n    <tr>\n      <th>4</th>\n      <td>AR</td>\n      <td>3.2</td>\n    </tr>\n  </tbody>\n</table>\n</div>"
     },
     "metadata": {},
     "execution_count": 6
    }
   ],
   "source": [
    "hosp_beds.head()"
   ]
  },
  {
   "cell_type": "code",
   "execution_count": 7,
   "metadata": {},
   "outputs": [],
   "source": [
    "# filter out non-existing states like 'AS'\n",
    "all_cases = all_cases[all_cases['state'].isin(state_abbrev['Abbreviation'].tolist())]"
   ]
  },
  {
   "cell_type": "code",
   "execution_count": 8,
   "metadata": {},
   "outputs": [
    {
     "output_type": "execute_result",
     "data": {
      "text/plain": "         date state  positive  active  hospitalizedCurrently  \\\n0  2020-04-26    AK     341.0   115.0                   14.0   \n1  2020-04-26    AL    6270.0     NaN                    NaN   \n2  2020-04-26    AR    2941.0  1907.0                  104.0   \n4  2020-04-26    AZ    6526.0  4868.0                  671.0   \n5  2020-04-26    CA   42164.0     NaN                 4928.0   \n\n   hospitalizedCumulative  inIcuCurrently  onVentilatorCurrently  recovered  \\\n0                     NaN             NaN                    NaN      217.0   \n1                   845.0             NaN                    NaN        NaN   \n2                   291.0             NaN                   25.0      985.0   \n4                  1037.0           308.0                  200.0     1383.0   \n5                     NaN          1473.0                    NaN        NaN   \n\n    death  hospitalized  \n0     9.0           NaN  \n1   216.0         845.0  \n2    49.0         291.0  \n4   275.0        1037.0  \n5  1710.0           NaN  ",
      "text/html": "<div>\n<style scoped>\n    .dataframe tbody tr th:only-of-type {\n        vertical-align: middle;\n    }\n\n    .dataframe tbody tr th {\n        vertical-align: top;\n    }\n\n    .dataframe thead th {\n        text-align: right;\n    }\n</style>\n<table border=\"1\" class=\"dataframe\">\n  <thead>\n    <tr style=\"text-align: right;\">\n      <th></th>\n      <th>date</th>\n      <th>state</th>\n      <th>positive</th>\n      <th>active</th>\n      <th>hospitalizedCurrently</th>\n      <th>hospitalizedCumulative</th>\n      <th>inIcuCurrently</th>\n      <th>onVentilatorCurrently</th>\n      <th>recovered</th>\n      <th>death</th>\n      <th>hospitalized</th>\n    </tr>\n  </thead>\n  <tbody>\n    <tr>\n      <th>0</th>\n      <td>2020-04-26</td>\n      <td>AK</td>\n      <td>341.0</td>\n      <td>115.0</td>\n      <td>14.0</td>\n      <td>NaN</td>\n      <td>NaN</td>\n      <td>NaN</td>\n      <td>217.0</td>\n      <td>9.0</td>\n      <td>NaN</td>\n    </tr>\n    <tr>\n      <th>1</th>\n      <td>2020-04-26</td>\n      <td>AL</td>\n      <td>6270.0</td>\n      <td>NaN</td>\n      <td>NaN</td>\n      <td>845.0</td>\n      <td>NaN</td>\n      <td>NaN</td>\n      <td>NaN</td>\n      <td>216.0</td>\n      <td>845.0</td>\n    </tr>\n    <tr>\n      <th>2</th>\n      <td>2020-04-26</td>\n      <td>AR</td>\n      <td>2941.0</td>\n      <td>1907.0</td>\n      <td>104.0</td>\n      <td>291.0</td>\n      <td>NaN</td>\n      <td>25.0</td>\n      <td>985.0</td>\n      <td>49.0</td>\n      <td>291.0</td>\n    </tr>\n    <tr>\n      <th>4</th>\n      <td>2020-04-26</td>\n      <td>AZ</td>\n      <td>6526.0</td>\n      <td>4868.0</td>\n      <td>671.0</td>\n      <td>1037.0</td>\n      <td>308.0</td>\n      <td>200.0</td>\n      <td>1383.0</td>\n      <td>275.0</td>\n      <td>1037.0</td>\n    </tr>\n    <tr>\n      <th>5</th>\n      <td>2020-04-26</td>\n      <td>CA</td>\n      <td>42164.0</td>\n      <td>NaN</td>\n      <td>4928.0</td>\n      <td>NaN</td>\n      <td>1473.0</td>\n      <td>NaN</td>\n      <td>NaN</td>\n      <td>1710.0</td>\n      <td>NaN</td>\n    </tr>\n  </tbody>\n</table>\n</div>"
     },
     "metadata": {},
     "execution_count": 8
    }
   ],
   "source": [
    "# see what filtered dataframe looks like\n",
    "all_cases.head()"
   ]
  },
  {
   "cell_type": "code",
   "execution_count": 9,
   "metadata": {},
   "outputs": [
    {
     "output_type": "execute_result",
     "data": {
      "text/plain": "            date state  positive  active  hospitalizedCurrently  \\\n2294  2020-03-17    WV       0.0     NaN                    NaN   \n2350  2020-03-16    WV       0.0     NaN                    NaN   \n2401  2020-03-15    WV       0.0     NaN                    NaN   \n2452  2020-03-14    WV       0.0     NaN                    NaN   \n2467  2020-03-13    ID       0.0     NaN                    NaN   \n...          ...   ...       ...     ...                    ...   \n2859  2020-03-05    NE       0.0     NaN                    NaN   \n2864  2020-03-05    OH       0.0     NaN                    NaN   \n2867  2020-03-05    SC       0.0     NaN                    NaN   \n2870  2020-03-05    VA       0.0     NaN                    NaN   \n2885  2020-03-04    SC       0.0     NaN                    NaN   \n\n      hospitalizedCumulative  inIcuCurrently  onVentilatorCurrently  \\\n2294                     NaN             NaN                    NaN   \n2350                     NaN             NaN                    NaN   \n2401                     NaN             NaN                    NaN   \n2452                     NaN             NaN                    NaN   \n2467                     NaN             NaN                    NaN   \n...                      ...             ...                    ...   \n2859                     NaN             NaN                    NaN   \n2864                     NaN             NaN                    NaN   \n2867                     NaN             NaN                    NaN   \n2870                     NaN             NaN                    NaN   \n2885                     NaN             NaN                    NaN   \n\n      recovered  death  hospitalized  \n2294        NaN    0.0           NaN  \n2350        NaN    0.0           NaN  \n2401        NaN    0.0           NaN  \n2452        NaN    0.0           NaN  \n2467        NaN    0.0           NaN  \n...         ...    ...           ...  \n2859        NaN    0.0           NaN  \n2864        NaN    0.0           NaN  \n2867        NaN    0.0           NaN  \n2870        NaN    0.0           NaN  \n2885        NaN    0.0           NaN  \n\n[107 rows x 11 columns]",
      "text/html": "<div>\n<style scoped>\n    .dataframe tbody tr th:only-of-type {\n        vertical-align: middle;\n    }\n\n    .dataframe tbody tr th {\n        vertical-align: top;\n    }\n\n    .dataframe thead th {\n        text-align: right;\n    }\n</style>\n<table border=\"1\" class=\"dataframe\">\n  <thead>\n    <tr style=\"text-align: right;\">\n      <th></th>\n      <th>date</th>\n      <th>state</th>\n      <th>positive</th>\n      <th>active</th>\n      <th>hospitalizedCurrently</th>\n      <th>hospitalizedCumulative</th>\n      <th>inIcuCurrently</th>\n      <th>onVentilatorCurrently</th>\n      <th>recovered</th>\n      <th>death</th>\n      <th>hospitalized</th>\n    </tr>\n  </thead>\n  <tbody>\n    <tr>\n      <th>2294</th>\n      <td>2020-03-17</td>\n      <td>WV</td>\n      <td>0.0</td>\n      <td>NaN</td>\n      <td>NaN</td>\n      <td>NaN</td>\n      <td>NaN</td>\n      <td>NaN</td>\n      <td>NaN</td>\n      <td>0.0</td>\n      <td>NaN</td>\n    </tr>\n    <tr>\n      <th>2350</th>\n      <td>2020-03-16</td>\n      <td>WV</td>\n      <td>0.0</td>\n      <td>NaN</td>\n      <td>NaN</td>\n      <td>NaN</td>\n      <td>NaN</td>\n      <td>NaN</td>\n      <td>NaN</td>\n      <td>0.0</td>\n      <td>NaN</td>\n    </tr>\n    <tr>\n      <th>2401</th>\n      <td>2020-03-15</td>\n      <td>WV</td>\n      <td>0.0</td>\n      <td>NaN</td>\n      <td>NaN</td>\n      <td>NaN</td>\n      <td>NaN</td>\n      <td>NaN</td>\n      <td>NaN</td>\n      <td>0.0</td>\n      <td>NaN</td>\n    </tr>\n    <tr>\n      <th>2452</th>\n      <td>2020-03-14</td>\n      <td>WV</td>\n      <td>0.0</td>\n      <td>NaN</td>\n      <td>NaN</td>\n      <td>NaN</td>\n      <td>NaN</td>\n      <td>NaN</td>\n      <td>NaN</td>\n      <td>0.0</td>\n      <td>NaN</td>\n    </tr>\n    <tr>\n      <th>2467</th>\n      <td>2020-03-13</td>\n      <td>ID</td>\n      <td>0.0</td>\n      <td>NaN</td>\n      <td>NaN</td>\n      <td>NaN</td>\n      <td>NaN</td>\n      <td>NaN</td>\n      <td>NaN</td>\n      <td>0.0</td>\n      <td>NaN</td>\n    </tr>\n    <tr>\n      <th>...</th>\n      <td>...</td>\n      <td>...</td>\n      <td>...</td>\n      <td>...</td>\n      <td>...</td>\n      <td>...</td>\n      <td>...</td>\n      <td>...</td>\n      <td>...</td>\n      <td>...</td>\n      <td>...</td>\n    </tr>\n    <tr>\n      <th>2859</th>\n      <td>2020-03-05</td>\n      <td>NE</td>\n      <td>0.0</td>\n      <td>NaN</td>\n      <td>NaN</td>\n      <td>NaN</td>\n      <td>NaN</td>\n      <td>NaN</td>\n      <td>NaN</td>\n      <td>0.0</td>\n      <td>NaN</td>\n    </tr>\n    <tr>\n      <th>2864</th>\n      <td>2020-03-05</td>\n      <td>OH</td>\n      <td>0.0</td>\n      <td>NaN</td>\n      <td>NaN</td>\n      <td>NaN</td>\n      <td>NaN</td>\n      <td>NaN</td>\n      <td>NaN</td>\n      <td>0.0</td>\n      <td>NaN</td>\n    </tr>\n    <tr>\n      <th>2867</th>\n      <td>2020-03-05</td>\n      <td>SC</td>\n      <td>0.0</td>\n      <td>NaN</td>\n      <td>NaN</td>\n      <td>NaN</td>\n      <td>NaN</td>\n      <td>NaN</td>\n      <td>NaN</td>\n      <td>0.0</td>\n      <td>NaN</td>\n    </tr>\n    <tr>\n      <th>2870</th>\n      <td>2020-03-05</td>\n      <td>VA</td>\n      <td>0.0</td>\n      <td>NaN</td>\n      <td>NaN</td>\n      <td>NaN</td>\n      <td>NaN</td>\n      <td>NaN</td>\n      <td>NaN</td>\n      <td>0.0</td>\n      <td>NaN</td>\n    </tr>\n    <tr>\n      <th>2885</th>\n      <td>2020-03-04</td>\n      <td>SC</td>\n      <td>0.0</td>\n      <td>NaN</td>\n      <td>NaN</td>\n      <td>NaN</td>\n      <td>NaN</td>\n      <td>NaN</td>\n      <td>NaN</td>\n      <td>0.0</td>\n      <td>NaN</td>\n    </tr>\n  </tbody>\n</table>\n<p>107 rows × 11 columns</p>\n</div>"
     },
     "metadata": {},
     "execution_count": 9
    }
   ],
   "source": [
    "# check which states have 0 positive cases\n",
    "all_cases.loc[all_cases['positive'] == 0]"
   ]
  },
  {
   "cell_type": "code",
   "execution_count": 32,
   "metadata": {},
   "outputs": [],
   "source": [
    "# Split dataframes by date\n",
    "df_split_by_date = dict(tuple(all_cases.groupby('date')))\n",
    "\n",
    "# Split dataframes by state\n",
    "df_split_by_state = dict(tuple(all_cases.groupby('state')))"
   ]
  },
  {
   "cell_type": "code",
   "execution_count": 11,
   "metadata": {},
   "outputs": [],
   "source": [
    "# merge dataframes us_population and all_cases\n",
    "df_merge_uspop = all_cases.merge(us_population, how='left', left_on='state', right_on='Abbreviation')\n",
    "df_merge_uspop = df_merge_uspop.drop(columns=['Abbreviation'])\n",
    "df_merge_uspop = df_merge_uspop.rename(columns={'Pop': 'population'})\n",
    "\n",
    "# change location of 'population' column\n",
    "cols = list(df_merge_uspop)\n",
    "cols.insert(2, cols.pop(cols.index('population')))\n",
    "df_merge_uspop = df_merge_uspop.loc[:, cols]\n",
    "\n",
    "# merge dataframes hosp_beds and df_merge_uspop\n",
    "df_merge_hosp = df_merge_uspop.merge(hosp_beds, how='left', left_on='state', right_on='Abbreviation')\n",
    "df_merge_hosp = df_merge_hosp.drop(columns=['Abbreviation'])\n",
    "all_cases = df_merge_hosp.rename(columns={'Total': 'bedsPerThousand'})"
   ]
  },
  {
   "cell_type": "code",
   "execution_count": 12,
   "metadata": {},
   "outputs": [
    {
     "output_type": "execute_result",
     "data": {
      "text/plain": "         date state  population  positive  active  hospitalizedCurrently  \\\n0  2020-04-26    AK      734002     341.0   115.0                   14.0   \n1  2020-04-26    AL     4908621    6270.0     NaN                    NaN   \n2  2020-04-26    AR     3038999    2941.0  1907.0                  104.0   \n3  2020-04-26    AZ     7378494    6526.0  4868.0                  671.0   \n4  2020-04-26    CA    39937489   42164.0     NaN                 4928.0   \n\n   hospitalizedCumulative  inIcuCurrently  onVentilatorCurrently  recovered  \\\n0                     NaN             NaN                    NaN      217.0   \n1                   845.0             NaN                    NaN        NaN   \n2                   291.0             NaN                   25.0      985.0   \n3                  1037.0           308.0                  200.0     1383.0   \n4                     NaN          1473.0                    NaN        NaN   \n\n    death  hospitalized       State  bedsPerThousand  \n0     9.0           NaN      Alaska              2.2  \n1   216.0         845.0     Alabama              3.1  \n2    49.0         291.0    Arkansas              3.2  \n3   275.0        1037.0     Arizona              1.9  \n4  1710.0           NaN  California              1.8  ",
      "text/html": "<div>\n<style scoped>\n    .dataframe tbody tr th:only-of-type {\n        vertical-align: middle;\n    }\n\n    .dataframe tbody tr th {\n        vertical-align: top;\n    }\n\n    .dataframe thead th {\n        text-align: right;\n    }\n</style>\n<table border=\"1\" class=\"dataframe\">\n  <thead>\n    <tr style=\"text-align: right;\">\n      <th></th>\n      <th>date</th>\n      <th>state</th>\n      <th>population</th>\n      <th>positive</th>\n      <th>active</th>\n      <th>hospitalizedCurrently</th>\n      <th>hospitalizedCumulative</th>\n      <th>inIcuCurrently</th>\n      <th>onVentilatorCurrently</th>\n      <th>recovered</th>\n      <th>death</th>\n      <th>hospitalized</th>\n      <th>State</th>\n      <th>bedsPerThousand</th>\n    </tr>\n  </thead>\n  <tbody>\n    <tr>\n      <th>0</th>\n      <td>2020-04-26</td>\n      <td>AK</td>\n      <td>734002</td>\n      <td>341.0</td>\n      <td>115.0</td>\n      <td>14.0</td>\n      <td>NaN</td>\n      <td>NaN</td>\n      <td>NaN</td>\n      <td>217.0</td>\n      <td>9.0</td>\n      <td>NaN</td>\n      <td>Alaska</td>\n      <td>2.2</td>\n    </tr>\n    <tr>\n      <th>1</th>\n      <td>2020-04-26</td>\n      <td>AL</td>\n      <td>4908621</td>\n      <td>6270.0</td>\n      <td>NaN</td>\n      <td>NaN</td>\n      <td>845.0</td>\n      <td>NaN</td>\n      <td>NaN</td>\n      <td>NaN</td>\n      <td>216.0</td>\n      <td>845.0</td>\n      <td>Alabama</td>\n      <td>3.1</td>\n    </tr>\n    <tr>\n      <th>2</th>\n      <td>2020-04-26</td>\n      <td>AR</td>\n      <td>3038999</td>\n      <td>2941.0</td>\n      <td>1907.0</td>\n      <td>104.0</td>\n      <td>291.0</td>\n      <td>NaN</td>\n      <td>25.0</td>\n      <td>985.0</td>\n      <td>49.0</td>\n      <td>291.0</td>\n      <td>Arkansas</td>\n      <td>3.2</td>\n    </tr>\n    <tr>\n      <th>3</th>\n      <td>2020-04-26</td>\n      <td>AZ</td>\n      <td>7378494</td>\n      <td>6526.0</td>\n      <td>4868.0</td>\n      <td>671.0</td>\n      <td>1037.0</td>\n      <td>308.0</td>\n      <td>200.0</td>\n      <td>1383.0</td>\n      <td>275.0</td>\n      <td>1037.0</td>\n      <td>Arizona</td>\n      <td>1.9</td>\n    </tr>\n    <tr>\n      <th>4</th>\n      <td>2020-04-26</td>\n      <td>CA</td>\n      <td>39937489</td>\n      <td>42164.0</td>\n      <td>NaN</td>\n      <td>4928.0</td>\n      <td>NaN</td>\n      <td>1473.0</td>\n      <td>NaN</td>\n      <td>NaN</td>\n      <td>1710.0</td>\n      <td>NaN</td>\n      <td>California</td>\n      <td>1.8</td>\n    </tr>\n  </tbody>\n</table>\n</div>"
     },
     "metadata": {},
     "execution_count": 12
    }
   ],
   "source": [
    "all_cases.head()"
   ]
  },
  {
   "cell_type": "code",
   "execution_count": 13,
   "metadata": {},
   "outputs": [
    {
     "output_type": "execute_result",
     "data": {
      "text/plain": "            date state  population  positive  active  hospitalizedCurrently  \\\n0     2020-04-26    AK      734002     341.0   115.0                   14.0   \n1     2020-04-26    AL     4908621    6270.0     NaN                    NaN   \n2     2020-04-26    AR     3038999    2941.0  1907.0                  104.0   \n3     2020-04-26    AZ     7378494    6526.0  4868.0                  671.0   \n4     2020-04-26    CA    39937489   42164.0     NaN                 4928.0   \n...          ...   ...         ...       ...     ...                    ...   \n2722  2020-01-26    WA     7797095       1.0     NaN                    NaN   \n2723  2020-01-25    WA     7797095       1.0     NaN                    NaN   \n2724  2020-01-24    WA     7797095       1.0     NaN                    NaN   \n2725  2020-01-23    WA     7797095       1.0     NaN                    NaN   \n2726  2020-01-22    WA     7797095       1.0     NaN                    NaN   \n\n      hospitalizedCumulative  inIcuCurrently  onVentilatorCurrently  \\\n0                        NaN             NaN                    NaN   \n1                      845.0             NaN                    NaN   \n2                      291.0             NaN                   25.0   \n3                     1037.0           308.0                  200.0   \n4                        NaN          1473.0                    NaN   \n...                      ...             ...                    ...   \n2722                     NaN             NaN                    NaN   \n2723                     NaN             NaN                    NaN   \n2724                     NaN             NaN                    NaN   \n2725                     NaN             NaN                    NaN   \n2726                     NaN             NaN                    NaN   \n\n      recovered   death  hospitalized       State  bedsPerThousand  total_beds  \n0         217.0     9.0           NaN      Alaska              2.2   1614.8044  \n1           NaN   216.0         845.0     Alabama              3.1  15216.7251  \n2         985.0    49.0         291.0    Arkansas              3.2   9724.7968  \n3        1383.0   275.0        1037.0     Arizona              1.9  14019.1386  \n4           NaN  1710.0           NaN  California              1.8  71887.4802  \n...         ...     ...           ...         ...              ...         ...  \n2722        NaN     0.0           NaN  Washington              1.7  13255.0615  \n2723        NaN     0.0           NaN  Washington              1.7  13255.0615  \n2724        NaN     0.0           NaN  Washington              1.7  13255.0615  \n2725        NaN     0.0           NaN  Washington              1.7  13255.0615  \n2726        NaN     0.0           NaN  Washington              1.7  13255.0615  \n\n[2727 rows x 15 columns]",
      "text/html": "<div>\n<style scoped>\n    .dataframe tbody tr th:only-of-type {\n        vertical-align: middle;\n    }\n\n    .dataframe tbody tr th {\n        vertical-align: top;\n    }\n\n    .dataframe thead th {\n        text-align: right;\n    }\n</style>\n<table border=\"1\" class=\"dataframe\">\n  <thead>\n    <tr style=\"text-align: right;\">\n      <th></th>\n      <th>date</th>\n      <th>state</th>\n      <th>population</th>\n      <th>positive</th>\n      <th>active</th>\n      <th>hospitalizedCurrently</th>\n      <th>hospitalizedCumulative</th>\n      <th>inIcuCurrently</th>\n      <th>onVentilatorCurrently</th>\n      <th>recovered</th>\n      <th>death</th>\n      <th>hospitalized</th>\n      <th>State</th>\n      <th>bedsPerThousand</th>\n      <th>total_beds</th>\n    </tr>\n  </thead>\n  <tbody>\n    <tr>\n      <th>0</th>\n      <td>2020-04-26</td>\n      <td>AK</td>\n      <td>734002</td>\n      <td>341.0</td>\n      <td>115.0</td>\n      <td>14.0</td>\n      <td>NaN</td>\n      <td>NaN</td>\n      <td>NaN</td>\n      <td>217.0</td>\n      <td>9.0</td>\n      <td>NaN</td>\n      <td>Alaska</td>\n      <td>2.2</td>\n      <td>1614.8044</td>\n    </tr>\n    <tr>\n      <th>1</th>\n      <td>2020-04-26</td>\n      <td>AL</td>\n      <td>4908621</td>\n      <td>6270.0</td>\n      <td>NaN</td>\n      <td>NaN</td>\n      <td>845.0</td>\n      <td>NaN</td>\n      <td>NaN</td>\n      <td>NaN</td>\n      <td>216.0</td>\n      <td>845.0</td>\n      <td>Alabama</td>\n      <td>3.1</td>\n      <td>15216.7251</td>\n    </tr>\n    <tr>\n      <th>2</th>\n      <td>2020-04-26</td>\n      <td>AR</td>\n      <td>3038999</td>\n      <td>2941.0</td>\n      <td>1907.0</td>\n      <td>104.0</td>\n      <td>291.0</td>\n      <td>NaN</td>\n      <td>25.0</td>\n      <td>985.0</td>\n      <td>49.0</td>\n      <td>291.0</td>\n      <td>Arkansas</td>\n      <td>3.2</td>\n      <td>9724.7968</td>\n    </tr>\n    <tr>\n      <th>3</th>\n      <td>2020-04-26</td>\n      <td>AZ</td>\n      <td>7378494</td>\n      <td>6526.0</td>\n      <td>4868.0</td>\n      <td>671.0</td>\n      <td>1037.0</td>\n      <td>308.0</td>\n      <td>200.0</td>\n      <td>1383.0</td>\n      <td>275.0</td>\n      <td>1037.0</td>\n      <td>Arizona</td>\n      <td>1.9</td>\n      <td>14019.1386</td>\n    </tr>\n    <tr>\n      <th>4</th>\n      <td>2020-04-26</td>\n      <td>CA</td>\n      <td>39937489</td>\n      <td>42164.0</td>\n      <td>NaN</td>\n      <td>4928.0</td>\n      <td>NaN</td>\n      <td>1473.0</td>\n      <td>NaN</td>\n      <td>NaN</td>\n      <td>1710.0</td>\n      <td>NaN</td>\n      <td>California</td>\n      <td>1.8</td>\n      <td>71887.4802</td>\n    </tr>\n    <tr>\n      <th>...</th>\n      <td>...</td>\n      <td>...</td>\n      <td>...</td>\n      <td>...</td>\n      <td>...</td>\n      <td>...</td>\n      <td>...</td>\n      <td>...</td>\n      <td>...</td>\n      <td>...</td>\n      <td>...</td>\n      <td>...</td>\n      <td>...</td>\n      <td>...</td>\n      <td>...</td>\n    </tr>\n    <tr>\n      <th>2722</th>\n      <td>2020-01-26</td>\n      <td>WA</td>\n      <td>7797095</td>\n      <td>1.0</td>\n      <td>NaN</td>\n      <td>NaN</td>\n      <td>NaN</td>\n      <td>NaN</td>\n      <td>NaN</td>\n      <td>NaN</td>\n      <td>0.0</td>\n      <td>NaN</td>\n      <td>Washington</td>\n      <td>1.7</td>\n      <td>13255.0615</td>\n    </tr>\n    <tr>\n      <th>2723</th>\n      <td>2020-01-25</td>\n      <td>WA</td>\n      <td>7797095</td>\n      <td>1.0</td>\n      <td>NaN</td>\n      <td>NaN</td>\n      <td>NaN</td>\n      <td>NaN</td>\n      <td>NaN</td>\n      <td>NaN</td>\n      <td>0.0</td>\n      <td>NaN</td>\n      <td>Washington</td>\n      <td>1.7</td>\n      <td>13255.0615</td>\n    </tr>\n    <tr>\n      <th>2724</th>\n      <td>2020-01-24</td>\n      <td>WA</td>\n      <td>7797095</td>\n      <td>1.0</td>\n      <td>NaN</td>\n      <td>NaN</td>\n      <td>NaN</td>\n      <td>NaN</td>\n      <td>NaN</td>\n      <td>NaN</td>\n      <td>0.0</td>\n      <td>NaN</td>\n      <td>Washington</td>\n      <td>1.7</td>\n      <td>13255.0615</td>\n    </tr>\n    <tr>\n      <th>2725</th>\n      <td>2020-01-23</td>\n      <td>WA</td>\n      <td>7797095</td>\n      <td>1.0</td>\n      <td>NaN</td>\n      <td>NaN</td>\n      <td>NaN</td>\n      <td>NaN</td>\n      <td>NaN</td>\n      <td>NaN</td>\n      <td>0.0</td>\n      <td>NaN</td>\n      <td>Washington</td>\n      <td>1.7</td>\n      <td>13255.0615</td>\n    </tr>\n    <tr>\n      <th>2726</th>\n      <td>2020-01-22</td>\n      <td>WA</td>\n      <td>7797095</td>\n      <td>1.0</td>\n      <td>NaN</td>\n      <td>NaN</td>\n      <td>NaN</td>\n      <td>NaN</td>\n      <td>NaN</td>\n      <td>NaN</td>\n      <td>0.0</td>\n      <td>NaN</td>\n      <td>Washington</td>\n      <td>1.7</td>\n      <td>13255.0615</td>\n    </tr>\n  </tbody>\n</table>\n<p>2727 rows × 15 columns</p>\n</div>"
     },
     "metadata": {},
     "execution_count": 13
    }
   ],
   "source": [
    "# Calculate the total beds, and add the column\n",
    "all_cases['total_beds'] = all_cases['population'] / 1000 * all_cases['bedsPerThousand']\n",
    "all_cases"
   ]
  },
  {
   "cell_type": "code",
   "execution_count": 14,
   "metadata": {},
   "outputs": [],
   "source": [
    "# change abbreviations to state names\n",
    "all_cases = all_cases.rename(columns={'state': 'abbrev'})\n",
    "all_cases = all_cases.rename(columns={'State': 'state'})"
   ]
  },
  {
   "cell_type": "code",
   "execution_count": 15,
   "metadata": {},
   "outputs": [],
   "source": [
    "# change location of 'state' column\n",
    "cols = list(all_cases)\n",
    "cols.insert(1, cols.pop(cols.index('state')))\n",
    "all_cases = all_cases.loc[:, cols]"
   ]
  },
  {
   "cell_type": "code",
   "execution_count": 16,
   "metadata": {},
   "outputs": [
    {
     "output_type": "execute_result",
     "data": {
      "text/plain": "            date       state abbrev  population  positive  active  \\\n0     2020-04-26      Alaska     AK      734002     341.0   115.0   \n1     2020-04-26     Alabama     AL     4908621    6270.0     NaN   \n2     2020-04-26    Arkansas     AR     3038999    2941.0  1907.0   \n3     2020-04-26     Arizona     AZ     7378494    6526.0  4868.0   \n4     2020-04-26  California     CA    39937489   42164.0     NaN   \n...          ...         ...    ...         ...       ...     ...   \n2722  2020-01-26  Washington     WA     7797095       1.0     NaN   \n2723  2020-01-25  Washington     WA     7797095       1.0     NaN   \n2724  2020-01-24  Washington     WA     7797095       1.0     NaN   \n2725  2020-01-23  Washington     WA     7797095       1.0     NaN   \n2726  2020-01-22  Washington     WA     7797095       1.0     NaN   \n\n      hospitalizedCurrently  hospitalizedCumulative  inIcuCurrently  \\\n0                      14.0                     NaN             NaN   \n1                       NaN                   845.0             NaN   \n2                     104.0                   291.0             NaN   \n3                     671.0                  1037.0           308.0   \n4                    4928.0                     NaN          1473.0   \n...                     ...                     ...             ...   \n2722                    NaN                     NaN             NaN   \n2723                    NaN                     NaN             NaN   \n2724                    NaN                     NaN             NaN   \n2725                    NaN                     NaN             NaN   \n2726                    NaN                     NaN             NaN   \n\n      onVentilatorCurrently  recovered   death  hospitalized  bedsPerThousand  \\\n0                       NaN      217.0     9.0           NaN              2.2   \n1                       NaN        NaN   216.0         845.0              3.1   \n2                      25.0      985.0    49.0         291.0              3.2   \n3                     200.0     1383.0   275.0        1037.0              1.9   \n4                       NaN        NaN  1710.0           NaN              1.8   \n...                     ...        ...     ...           ...              ...   \n2722                    NaN        NaN     0.0           NaN              1.7   \n2723                    NaN        NaN     0.0           NaN              1.7   \n2724                    NaN        NaN     0.0           NaN              1.7   \n2725                    NaN        NaN     0.0           NaN              1.7   \n2726                    NaN        NaN     0.0           NaN              1.7   \n\n      total_beds  \n0      1614.8044  \n1     15216.7251  \n2      9724.7968  \n3     14019.1386  \n4     71887.4802  \n...          ...  \n2722  13255.0615  \n2723  13255.0615  \n2724  13255.0615  \n2725  13255.0615  \n2726  13255.0615  \n\n[2727 rows x 15 columns]",
      "text/html": "<div>\n<style scoped>\n    .dataframe tbody tr th:only-of-type {\n        vertical-align: middle;\n    }\n\n    .dataframe tbody tr th {\n        vertical-align: top;\n    }\n\n    .dataframe thead th {\n        text-align: right;\n    }\n</style>\n<table border=\"1\" class=\"dataframe\">\n  <thead>\n    <tr style=\"text-align: right;\">\n      <th></th>\n      <th>date</th>\n      <th>state</th>\n      <th>abbrev</th>\n      <th>population</th>\n      <th>positive</th>\n      <th>active</th>\n      <th>hospitalizedCurrently</th>\n      <th>hospitalizedCumulative</th>\n      <th>inIcuCurrently</th>\n      <th>onVentilatorCurrently</th>\n      <th>recovered</th>\n      <th>death</th>\n      <th>hospitalized</th>\n      <th>bedsPerThousand</th>\n      <th>total_beds</th>\n    </tr>\n  </thead>\n  <tbody>\n    <tr>\n      <th>0</th>\n      <td>2020-04-26</td>\n      <td>Alaska</td>\n      <td>AK</td>\n      <td>734002</td>\n      <td>341.0</td>\n      <td>115.0</td>\n      <td>14.0</td>\n      <td>NaN</td>\n      <td>NaN</td>\n      <td>NaN</td>\n      <td>217.0</td>\n      <td>9.0</td>\n      <td>NaN</td>\n      <td>2.2</td>\n      <td>1614.8044</td>\n    </tr>\n    <tr>\n      <th>1</th>\n      <td>2020-04-26</td>\n      <td>Alabama</td>\n      <td>AL</td>\n      <td>4908621</td>\n      <td>6270.0</td>\n      <td>NaN</td>\n      <td>NaN</td>\n      <td>845.0</td>\n      <td>NaN</td>\n      <td>NaN</td>\n      <td>NaN</td>\n      <td>216.0</td>\n      <td>845.0</td>\n      <td>3.1</td>\n      <td>15216.7251</td>\n    </tr>\n    <tr>\n      <th>2</th>\n      <td>2020-04-26</td>\n      <td>Arkansas</td>\n      <td>AR</td>\n      <td>3038999</td>\n      <td>2941.0</td>\n      <td>1907.0</td>\n      <td>104.0</td>\n      <td>291.0</td>\n      <td>NaN</td>\n      <td>25.0</td>\n      <td>985.0</td>\n      <td>49.0</td>\n      <td>291.0</td>\n      <td>3.2</td>\n      <td>9724.7968</td>\n    </tr>\n    <tr>\n      <th>3</th>\n      <td>2020-04-26</td>\n      <td>Arizona</td>\n      <td>AZ</td>\n      <td>7378494</td>\n      <td>6526.0</td>\n      <td>4868.0</td>\n      <td>671.0</td>\n      <td>1037.0</td>\n      <td>308.0</td>\n      <td>200.0</td>\n      <td>1383.0</td>\n      <td>275.0</td>\n      <td>1037.0</td>\n      <td>1.9</td>\n      <td>14019.1386</td>\n    </tr>\n    <tr>\n      <th>4</th>\n      <td>2020-04-26</td>\n      <td>California</td>\n      <td>CA</td>\n      <td>39937489</td>\n      <td>42164.0</td>\n      <td>NaN</td>\n      <td>4928.0</td>\n      <td>NaN</td>\n      <td>1473.0</td>\n      <td>NaN</td>\n      <td>NaN</td>\n      <td>1710.0</td>\n      <td>NaN</td>\n      <td>1.8</td>\n      <td>71887.4802</td>\n    </tr>\n    <tr>\n      <th>...</th>\n      <td>...</td>\n      <td>...</td>\n      <td>...</td>\n      <td>...</td>\n      <td>...</td>\n      <td>...</td>\n      <td>...</td>\n      <td>...</td>\n      <td>...</td>\n      <td>...</td>\n      <td>...</td>\n      <td>...</td>\n      <td>...</td>\n      <td>...</td>\n      <td>...</td>\n    </tr>\n    <tr>\n      <th>2722</th>\n      <td>2020-01-26</td>\n      <td>Washington</td>\n      <td>WA</td>\n      <td>7797095</td>\n      <td>1.0</td>\n      <td>NaN</td>\n      <td>NaN</td>\n      <td>NaN</td>\n      <td>NaN</td>\n      <td>NaN</td>\n      <td>NaN</td>\n      <td>0.0</td>\n      <td>NaN</td>\n      <td>1.7</td>\n      <td>13255.0615</td>\n    </tr>\n    <tr>\n      <th>2723</th>\n      <td>2020-01-25</td>\n      <td>Washington</td>\n      <td>WA</td>\n      <td>7797095</td>\n      <td>1.0</td>\n      <td>NaN</td>\n      <td>NaN</td>\n      <td>NaN</td>\n      <td>NaN</td>\n      <td>NaN</td>\n      <td>NaN</td>\n      <td>0.0</td>\n      <td>NaN</td>\n      <td>1.7</td>\n      <td>13255.0615</td>\n    </tr>\n    <tr>\n      <th>2724</th>\n      <td>2020-01-24</td>\n      <td>Washington</td>\n      <td>WA</td>\n      <td>7797095</td>\n      <td>1.0</td>\n      <td>NaN</td>\n      <td>NaN</td>\n      <td>NaN</td>\n      <td>NaN</td>\n      <td>NaN</td>\n      <td>NaN</td>\n      <td>0.0</td>\n      <td>NaN</td>\n      <td>1.7</td>\n      <td>13255.0615</td>\n    </tr>\n    <tr>\n      <th>2725</th>\n      <td>2020-01-23</td>\n      <td>Washington</td>\n      <td>WA</td>\n      <td>7797095</td>\n      <td>1.0</td>\n      <td>NaN</td>\n      <td>NaN</td>\n      <td>NaN</td>\n      <td>NaN</td>\n      <td>NaN</td>\n      <td>NaN</td>\n      <td>0.0</td>\n      <td>NaN</td>\n      <td>1.7</td>\n      <td>13255.0615</td>\n    </tr>\n    <tr>\n      <th>2726</th>\n      <td>2020-01-22</td>\n      <td>Washington</td>\n      <td>WA</td>\n      <td>7797095</td>\n      <td>1.0</td>\n      <td>NaN</td>\n      <td>NaN</td>\n      <td>NaN</td>\n      <td>NaN</td>\n      <td>NaN</td>\n      <td>NaN</td>\n      <td>0.0</td>\n      <td>NaN</td>\n      <td>1.7</td>\n      <td>13255.0615</td>\n    </tr>\n  </tbody>\n</table>\n<p>2727 rows × 15 columns</p>\n</div>"
     },
     "metadata": {},
     "execution_count": 16
    }
   ],
   "source": [
    "all_cases"
   ]
  },
  {
   "cell_type": "markdown",
   "metadata": {},
   "source": [
    "## Step 2: Some Exploratory Data Analysis (EDA)"
   ]
  },
  {
   "cell_type": "code",
   "execution_count": 17,
   "metadata": {},
   "outputs": [],
   "source": [
    "# TODO Get some insights on data"
   ]
  },
  {
   "cell_type": "markdown",
   "metadata": {},
   "source": [
    "## Step 3: Build model for missing data (maybe? Up for discussion)"
   ]
  },
  {
   "cell_type": "code",
   "execution_count": 18,
   "metadata": {},
   "outputs": [],
   "source": [
    "## TODO Prepare necessary data for model (filter out with values which have all data)"
   ]
  },
  {
   "cell_type": "markdown",
   "metadata": {},
   "source": [
    "## Step 4: Using findings from dataset of hospital beds, conclude research problem"
   ]
  },
  {
   "cell_type": "markdown",
   "metadata": {},
   "source": [
    "Load and clean JHU data"
   ]
  },
  {
   "cell_type": "code",
   "execution_count": 116,
   "metadata": {},
   "outputs": [
    {
     "output_type": "execute_result",
     "data": {
      "text/plain": "      LastUpdate  ProvinceState   Active  Confirmed  Deaths  Recovered\n0     2020-01-22     Washington      0.0        1.0     0.0        0.0\n1     2020-01-23     Washington      0.0        1.0     0.0        0.0\n2     2020-01-24     Washington      0.0        1.0     0.0        0.0\n3     2020-01-25       Illinois      0.0        1.0     0.0        0.0\n4     2020-01-25     Washington      0.0        1.0     0.0        0.0\n...          ...            ...      ...        ...     ...        ...\n2493  2020-04-27        Vermont    805.0      851.0    46.0        0.0\n2494  2020-04-27       Virginia  12521.0    12970.0   449.0        0.0\n2495  2020-04-27  West Virginia   1021.0     1055.0    34.0        0.0\n2496  2020-04-27      Wisconsin   5640.0     5912.0   272.0        0.0\n2497  2020-04-27        Wyoming    495.0      502.0     7.0        0.0\n\n[2498 rows x 6 columns]",
      "text/html": "<div>\n<style scoped>\n    .dataframe tbody tr th:only-of-type {\n        vertical-align: middle;\n    }\n\n    .dataframe tbody tr th {\n        vertical-align: top;\n    }\n\n    .dataframe thead th {\n        text-align: right;\n    }\n</style>\n<table border=\"1\" class=\"dataframe\">\n  <thead>\n    <tr style=\"text-align: right;\">\n      <th></th>\n      <th>LastUpdate</th>\n      <th>ProvinceState</th>\n      <th>Active</th>\n      <th>Confirmed</th>\n      <th>Deaths</th>\n      <th>Recovered</th>\n    </tr>\n  </thead>\n  <tbody>\n    <tr>\n      <th>0</th>\n      <td>2020-01-22</td>\n      <td>Washington</td>\n      <td>0.0</td>\n      <td>1.0</td>\n      <td>0.0</td>\n      <td>0.0</td>\n    </tr>\n    <tr>\n      <th>1</th>\n      <td>2020-01-23</td>\n      <td>Washington</td>\n      <td>0.0</td>\n      <td>1.0</td>\n      <td>0.0</td>\n      <td>0.0</td>\n    </tr>\n    <tr>\n      <th>2</th>\n      <td>2020-01-24</td>\n      <td>Washington</td>\n      <td>0.0</td>\n      <td>1.0</td>\n      <td>0.0</td>\n      <td>0.0</td>\n    </tr>\n    <tr>\n      <th>3</th>\n      <td>2020-01-25</td>\n      <td>Illinois</td>\n      <td>0.0</td>\n      <td>1.0</td>\n      <td>0.0</td>\n      <td>0.0</td>\n    </tr>\n    <tr>\n      <th>4</th>\n      <td>2020-01-25</td>\n      <td>Washington</td>\n      <td>0.0</td>\n      <td>1.0</td>\n      <td>0.0</td>\n      <td>0.0</td>\n    </tr>\n    <tr>\n      <th>...</th>\n      <td>...</td>\n      <td>...</td>\n      <td>...</td>\n      <td>...</td>\n      <td>...</td>\n      <td>...</td>\n    </tr>\n    <tr>\n      <th>2493</th>\n      <td>2020-04-27</td>\n      <td>Vermont</td>\n      <td>805.0</td>\n      <td>851.0</td>\n      <td>46.0</td>\n      <td>0.0</td>\n    </tr>\n    <tr>\n      <th>2494</th>\n      <td>2020-04-27</td>\n      <td>Virginia</td>\n      <td>12521.0</td>\n      <td>12970.0</td>\n      <td>449.0</td>\n      <td>0.0</td>\n    </tr>\n    <tr>\n      <th>2495</th>\n      <td>2020-04-27</td>\n      <td>West Virginia</td>\n      <td>1021.0</td>\n      <td>1055.0</td>\n      <td>34.0</td>\n      <td>0.0</td>\n    </tr>\n    <tr>\n      <th>2496</th>\n      <td>2020-04-27</td>\n      <td>Wisconsin</td>\n      <td>5640.0</td>\n      <td>5912.0</td>\n      <td>272.0</td>\n      <td>0.0</td>\n    </tr>\n    <tr>\n      <th>2497</th>\n      <td>2020-04-27</td>\n      <td>Wyoming</td>\n      <td>495.0</td>\n      <td>502.0</td>\n      <td>7.0</td>\n      <td>0.0</td>\n    </tr>\n  </tbody>\n</table>\n<p>2498 rows × 6 columns</p>\n</div>"
     },
     "metadata": {},
     "execution_count": 116
    }
   ],
   "source": [
    "kaggle.api.authenticate()\n",
    "kaggle.api.dataset_download_files('benhamner/jhucovid19', path='./kaggle/input/jhucovid19/', unzip=True)\n",
    "\n",
    "# Get Time-Series Data of cases as Pandas DataFrame\n",
    "dir_jhu = './kaggle/input/jhucovid19/csse_covid_19_data/csse_covid_19_daily_reports'\n",
    "\n",
    "df_list = []\n",
    "for dirname, _, files in os.walk(dir_jhu):\n",
    "    for file in files:\n",
    "        if 'gitignore' not in file and 'README' not in file:\n",
    "            full_dir = os.path.join(dirname, file)\n",
    "            #print(full_dir)\n",
    "            df_list.append(pd.read_csv(full_dir))\n",
    "jhu_df = pd.concat(df_list, axis=0, ignore_index=True, sort=True)\n",
    "\n",
    "# combine Last Update with Last_Update\n",
    "jhu_df['LastUpdate'] = jhu_df['Last_Update'].combine_first(jhu_df['Last Update'])\n",
    "\n",
    "# format dates with parser\n",
    "for i, row in jhu_df.iterrows():\n",
    "    # update dates\n",
    "    jhu_df.at[i, 'LastUpdate'] = parse(jhu_df.at[i, 'LastUpdate']).date()\n",
    "\n",
    "# combine Country/Region with Country_Region\n",
    "jhu_df['CountryRegion'] = jhu_df['Country/Region'].combine_first(jhu_df['Country_Region'])\n",
    "\n",
    "# Retrieve only US data\n",
    "jhu_df = jhu_df[jhu_df['CountryRegion']=='US']\n",
    "\n",
    "# combine Province/State with Province_State\n",
    "jhu_df['ProvinceState'] = jhu_df['Province/State'].combine_first(jhu_df['Province_State'])\n",
    "\n",
    "# drop unnecessary columns\n",
    "jhu_df = jhu_df.drop(['Admin2', 'Lat', 'Latitude', 'Long_', 'Longitude', 'Combined_Key', 'Country/Region',\n",
    "                      'Country_Region', 'Province/State', 'Province_State',\n",
    "                      'Last Update', 'Last_Update', 'FIPS'], axis=1)\n",
    "\n",
    "# change column order\n",
    "cols = list(jhu_df)\n",
    "cols.insert(0, cols.pop(cols.index('CountryRegion')))\n",
    "cols.insert(1, cols.pop(cols.index('ProvinceState')))\n",
    "cols.insert(2, cols.pop(cols.index('LastUpdate')))\n",
    "jhu_df = jhu_df.loc[:, cols]\n",
    "\n",
    "# Change region to known US states\n",
    "import us\n",
    "state_abbrs = []\n",
    "for state in us.states.STATES:\n",
    "    state_abbrs.append(state.abbr)\n",
    "\n",
    "for i, row in jhu_df.iterrows():\n",
    "    for j in state_abbrs:\n",
    "        if j in jhu_df.at[i, 'ProvinceState']:\n",
    "            jhu_df.at[i, 'ProvinceState'] = us.states.lookup(j).name\n",
    "        if jhu_df.at[i, 'ProvinceState'] == 'Washington, D.C.':\n",
    "            jhu_df.at[i, 'ProvinceState'] = 'District of Columbia'\n",
    "\n",
    "# Filter out unknown states\n",
    "jhu_df = jhu_df[jhu_df['ProvinceState'].isin(list(all_cases.state.unique()))]\n",
    "\n",
    "# Merge-sum rows with same date and State\n",
    "jhu_df = jhu_df.groupby(['LastUpdate', 'ProvinceState']).agg(\n",
    "    {\n",
    "        'Active': sum,\n",
    "        'Confirmed': sum,\n",
    "        'Deaths': sum,\n",
    "        'Recovered': sum\n",
    "    }\n",
    ").reset_index()\n",
    "\n",
    "jhu_df"
   ]
  },
  {
   "cell_type": "code",
   "execution_count": null,
   "metadata": {},
   "outputs": [],
   "source": []
  }
 ],
 "metadata": {
  "kernelspec": {
   "display_name": "Python 3",
   "language": "python",
   "name": "python3"
  },
  "language_info": {
   "codemirror_mode": {
    "name": "ipython",
    "version": 3
   },
   "file_extension": ".py",
   "mimetype": "text/x-python",
   "name": "python",
   "nbconvert_exporter": "python",
   "pygments_lexer": "ipython3",
   "version": "3.7.4-final"
  }
 },
 "nbformat": 4,
 "nbformat_minor": 2
}