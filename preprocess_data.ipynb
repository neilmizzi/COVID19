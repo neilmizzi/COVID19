{
 "cells": [
  {
   "cell_type": "markdown",
   "metadata": {},
   "source": [
    "## Data Mining Techniques\n",
    "### COVID-19 data\n",
    "Kimberley Boersma (2572145), Neil Mizzi (2674737), Selma Muhammad (Stud no)"
   ]
  },
  {
   "cell_type": "code",
   "execution_count": 1,
   "metadata": {},
   "outputs": [],
   "source": [
    "# Imports\n",
    "import os\n",
    "import pandas as pd\n",
    "import csv\n",
    "import kaggle\n",
    "\n",
    "# other imports\n",
    "import numpy as np \n",
    "# import matplotlib.pyplot as plt \n",
    "# import matplotlib.colors as mcolors\n",
    "# import random\n",
    "# import math\n",
    "# import time\n",
    "# from sklearn.linear_model import LinearRegression, BayesianRidge\n",
    "# from sklearn.model_selection import RandomizedSearchCV, train_test_split\n",
    "# from sklearn.preprocessing import PolynomialFeatures\n",
    "# from sklearn.tree import DecisionTreeRegressor\n",
    "# from sklearn.svm import SVR\n",
    "# from sklearn.metrics import mean_squared_error, mean_absolute_error\n",
    "from datetime import date, datetime\n",
    "# import us\n",
    "# import operator \n",
    "# plt.style.use('fivethirtyeight')\n",
    "# %matplotlib inline "
   ]
  },
  {
   "cell_type": "markdown",
   "metadata": {},
   "source": [
    "# Covid Tracking Dataset (w/ hospitalised data)\n",
    "\n",
    "Source: https://covidtracking.com/"
   ]
  },
  {
   "cell_type": "markdown",
   "metadata": {},
   "source": [
    "## Step 1: Load and Clean the Data"
   ]
  },
  {
   "cell_type": "code",
   "execution_count": 2,
   "metadata": {},
   "outputs": [],
   "source": [
    "all_cases = pd.read_csv('https://covidtracking.com/api/v1/states/daily.csv')\n",
    "\n",
    "# Delete unecessary rows\n",
    "for row in ['negative', 'pending', 'hash', 'negativeIncrease', 'totalTestResults', 'totalTestResultsIncrease', 'dateChecked', 'fips', 'inIcuCumulative', 'onVentilatorCumulative', 'total', 'posNeg', 'deathIncrease', 'hospitalizedIncrease', 'positiveIncrease']:\n",
    "    del all_cases[row]\n",
    "\n",
    "# TODO missing values\n",
    "#      Do we get avg or missing values, or predict them?\n",
    "#      See https://developerzen.com/data-mining-handling-missing-values-the-database-bd2241882e72\n",
    "\n",
    "for i, row in all_cases.iterrows():\n",
    "    # Set Dates\n",
    "    s = str(row['date'])\n",
    "    all_cases.at[i, 'date'] = date(year=int(s[0:4]), month=int(s[4:6]), day=int(s[6:8]))\n",
    "    \n",
    "\n",
    "# Missing death figures means no death reports yet\n",
    "# These are set to 0\n",
    "for i, row in all_cases.iterrows():\n",
    "    if np.isnan(row['death']):\n",
    "        all_cases.at[i, 'death'] = 0"
   ]
  },
  {
   "cell_type": "markdown",
   "metadata": {},
   "source": [
    "## Missing values: Retrieving from other datasets or through merging columns (or both)\n",
    "\n",
    "The following will be done:\n",
    "- **Active Cases**: Retrieved from $active = pos-dead-recovered$\n",
    "- **Beds per State**: Retrieved from External Datasets"
   ]
  },
  {
   "cell_type": "code",
   "execution_count": 3,
   "metadata": {},
   "outputs": [],
   "source": [
    "# TODO Replace active cases with JHU and/or regression model (Selma)\n",
    "all_cases['active'] = all_cases['positive'] - all_cases['recovered'] - all_cases['death']\n",
    "# change location of 'active' column\n",
    "cols = list(all_cases)\n",
    "cols.insert(3, cols.pop(cols.index('active')))\n",
    "all_cases = all_cases.loc[:, cols]"
   ]
  },
  {
   "cell_type": "code",
   "execution_count": 4,
   "metadata": {},
   "outputs": [],
   "source": [
    "# Load datasets for US population and Hospital beds per 1000\n",
    "us_population = pd.read_csv('data/us_population.csv')\n",
    "hosp_beds = pd.read_csv('data/hospital_beds.csv')\n",
    "state_abbrev = pd.read_csv('data/us_state_names.csv')\n",
    "\n",
    "# add state abbreviations to us_population and hospital beds dataframe\n",
    "for state in state_abbrev['State'].tolist():\n",
    "    abbrev = state_abbrev.loc[state_abbrev['State'] == state, 'Abbreviation'].tolist()[0]\n",
    "    us_population.loc[us_population['State'] == state, 'Abbreviation'] = abbrev\n",
    "    hosp_beds.loc[hosp_beds['Location'] == state, 'Abbreviation'] = abbrev\n",
    "    \n",
    "# change order of columns of us_population\n",
    "cols = list(us_population)\n",
    "cols.insert(2, cols.pop(cols.index('Abbreviation')))\n",
    "us_population = us_population.loc[:, cols]\n",
    "\n",
    "# drop unnecessary columns of us_population\n",
    "us_population = us_population.drop(columns=['rank', 'State', 'Growth', 'Pop2018', 'Pop2010', 'growthSince2010', 'Percent', 'density'])\n",
    "\n",
    "# drop unnecessary columns of hosp_beds\n",
    "hosp_beds = hosp_beds.drop(columns=['Location', 'State/Local Government', 'Non-Profit', 'For-Profit'])\n",
    "\n",
    "# change order of columns of hosp_beds\n",
    "cols = list(hosp_beds)\n",
    "cols.insert(0, cols.pop(cols.index('Abbreviation')))\n",
    "hosp_beds = hosp_beds.loc[:, cols]"
   ]
  },
  {
   "cell_type": "code",
   "execution_count": 5,
   "metadata": {},
   "outputs": [
    {
     "output_type": "execute_result",
     "data": {
      "text/plain": "  Abbreviation       Pop\n0           AL   4908621\n1           AK    734002\n2           AZ   7378494\n3           AR   3038999\n4           CA  39937489",
      "text/html": "<div>\n<style scoped>\n    .dataframe tbody tr th:only-of-type {\n        vertical-align: middle;\n    }\n\n    .dataframe tbody tr th {\n        vertical-align: top;\n    }\n\n    .dataframe thead th {\n        text-align: right;\n    }\n</style>\n<table border=\"1\" class=\"dataframe\">\n  <thead>\n    <tr style=\"text-align: right;\">\n      <th></th>\n      <th>Abbreviation</th>\n      <th>Pop</th>\n    </tr>\n  </thead>\n  <tbody>\n    <tr>\n      <th>0</th>\n      <td>AL</td>\n      <td>4908621</td>\n    </tr>\n    <tr>\n      <th>1</th>\n      <td>AK</td>\n      <td>734002</td>\n    </tr>\n    <tr>\n      <th>2</th>\n      <td>AZ</td>\n      <td>7378494</td>\n    </tr>\n    <tr>\n      <th>3</th>\n      <td>AR</td>\n      <td>3038999</td>\n    </tr>\n    <tr>\n      <th>4</th>\n      <td>CA</td>\n      <td>39937489</td>\n    </tr>\n  </tbody>\n</table>\n</div>"
     },
     "metadata": {},
     "execution_count": 5
    }
   ],
   "source": [
    "us_population.head()"
   ]
  },
  {
   "cell_type": "code",
   "execution_count": 6,
   "metadata": {},
   "outputs": [
    {
     "output_type": "execute_result",
     "data": {
      "text/plain": "  Abbreviation  Total\n0          NaN    2.4\n1           AL    3.1\n2           AK    2.2\n3           AZ    1.9\n4           AR    3.2",
      "text/html": "<div>\n<style scoped>\n    .dataframe tbody tr th:only-of-type {\n        vertical-align: middle;\n    }\n\n    .dataframe tbody tr th {\n        vertical-align: top;\n    }\n\n    .dataframe thead th {\n        text-align: right;\n    }\n</style>\n<table border=\"1\" class=\"dataframe\">\n  <thead>\n    <tr style=\"text-align: right;\">\n      <th></th>\n      <th>Abbreviation</th>\n      <th>Total</th>\n    </tr>\n  </thead>\n  <tbody>\n    <tr>\n      <th>0</th>\n      <td>NaN</td>\n      <td>2.4</td>\n    </tr>\n    <tr>\n      <th>1</th>\n      <td>AL</td>\n      <td>3.1</td>\n    </tr>\n    <tr>\n      <th>2</th>\n      <td>AK</td>\n      <td>2.2</td>\n    </tr>\n    <tr>\n      <th>3</th>\n      <td>AZ</td>\n      <td>1.9</td>\n    </tr>\n    <tr>\n      <th>4</th>\n      <td>AR</td>\n      <td>3.2</td>\n    </tr>\n  </tbody>\n</table>\n</div>"
     },
     "metadata": {},
     "execution_count": 6
    }
   ],
   "source": [
    "hosp_beds.head()"
   ]
  },
  {
   "cell_type": "code",
   "execution_count": 7,
   "metadata": {},
   "outputs": [],
   "source": [
    "# filter out non-existing states like 'AS'\n",
    "all_cases = all_cases[all_cases['state'].isin(state_abbrev['Abbreviation'].tolist())]"
   ]
  },
  {
   "cell_type": "code",
   "execution_count": 8,
   "metadata": {},
   "outputs": [
    {
     "output_type": "execute_result",
     "data": {
      "text/plain": "         date state  positive  active  hospitalizedCurrently  \\\n0  2020-04-26    AK     341.0   115.0                   14.0   \n1  2020-04-26    AL    6270.0     NaN                    NaN   \n2  2020-04-26    AR    2941.0  1907.0                  104.0   \n4  2020-04-26    AZ    6526.0  4868.0                  671.0   \n5  2020-04-26    CA   42164.0     NaN                 4928.0   \n\n   hospitalizedCumulative  inIcuCurrently  onVentilatorCurrently  recovered  \\\n0                     NaN             NaN                    NaN      217.0   \n1                   845.0             NaN                    NaN        NaN   \n2                   291.0             NaN                   25.0      985.0   \n4                  1037.0           308.0                  200.0     1383.0   \n5                     NaN          1473.0                    NaN        NaN   \n\n    death  hospitalized  \n0     9.0           NaN  \n1   216.0         845.0  \n2    49.0         291.0  \n4   275.0        1037.0  \n5  1710.0           NaN  ",
      "text/html": "<div>\n<style scoped>\n    .dataframe tbody tr th:only-of-type {\n        vertical-align: middle;\n    }\n\n    .dataframe tbody tr th {\n        vertical-align: top;\n    }\n\n    .dataframe thead th {\n        text-align: right;\n    }\n</style>\n<table border=\"1\" class=\"dataframe\">\n  <thead>\n    <tr style=\"text-align: right;\">\n      <th></th>\n      <th>date</th>\n      <th>state</th>\n      <th>positive</th>\n      <th>active</th>\n      <th>hospitalizedCurrently</th>\n      <th>hospitalizedCumulative</th>\n      <th>inIcuCurrently</th>\n      <th>onVentilatorCurrently</th>\n      <th>recovered</th>\n      <th>death</th>\n      <th>hospitalized</th>\n    </tr>\n  </thead>\n  <tbody>\n    <tr>\n      <th>0</th>\n      <td>2020-04-26</td>\n      <td>AK</td>\n      <td>341.0</td>\n      <td>115.0</td>\n      <td>14.0</td>\n      <td>NaN</td>\n      <td>NaN</td>\n      <td>NaN</td>\n      <td>217.0</td>\n      <td>9.0</td>\n      <td>NaN</td>\n    </tr>\n    <tr>\n      <th>1</th>\n      <td>2020-04-26</td>\n      <td>AL</td>\n      <td>6270.0</td>\n      <td>NaN</td>\n      <td>NaN</td>\n      <td>845.0</td>\n      <td>NaN</td>\n      <td>NaN</td>\n      <td>NaN</td>\n      <td>216.0</td>\n      <td>845.0</td>\n    </tr>\n    <tr>\n      <th>2</th>\n      <td>2020-04-26</td>\n      <td>AR</td>\n      <td>2941.0</td>\n      <td>1907.0</td>\n      <td>104.0</td>\n      <td>291.0</td>\n      <td>NaN</td>\n      <td>25.0</td>\n      <td>985.0</td>\n      <td>49.0</td>\n      <td>291.0</td>\n    </tr>\n    <tr>\n      <th>4</th>\n      <td>2020-04-26</td>\n      <td>AZ</td>\n      <td>6526.0</td>\n      <td>4868.0</td>\n      <td>671.0</td>\n      <td>1037.0</td>\n      <td>308.0</td>\n      <td>200.0</td>\n      <td>1383.0</td>\n      <td>275.0</td>\n      <td>1037.0</td>\n    </tr>\n    <tr>\n      <th>5</th>\n      <td>2020-04-26</td>\n      <td>CA</td>\n      <td>42164.0</td>\n      <td>NaN</td>\n      <td>4928.0</td>\n      <td>NaN</td>\n      <td>1473.0</td>\n      <td>NaN</td>\n      <td>NaN</td>\n      <td>1710.0</td>\n      <td>NaN</td>\n    </tr>\n  </tbody>\n</table>\n</div>"
     },
     "metadata": {},
     "execution_count": 8
    }
   ],
   "source": [
    "# see what filtered dataframe looks like\n",
    "all_cases.head()"
   ]
  },
  {
   "cell_type": "code",
   "execution_count": 9,
   "metadata": {},
   "outputs": [
    {
     "output_type": "execute_result",
     "data": {
      "text/plain": "            date state  positive  active  hospitalizedCurrently  \\\n2294  2020-03-17    WV       0.0     NaN                    NaN   \n2350  2020-03-16    WV       0.0     NaN                    NaN   \n2401  2020-03-15    WV       0.0     NaN                    NaN   \n2452  2020-03-14    WV       0.0     NaN                    NaN   \n2467  2020-03-13    ID       0.0     NaN                    NaN   \n...          ...   ...       ...     ...                    ...   \n2859  2020-03-05    NE       0.0     NaN                    NaN   \n2864  2020-03-05    OH       0.0     NaN                    NaN   \n2867  2020-03-05    SC       0.0     NaN                    NaN   \n2870  2020-03-05    VA       0.0     NaN                    NaN   \n2885  2020-03-04    SC       0.0     NaN                    NaN   \n\n      hospitalizedCumulative  inIcuCurrently  onVentilatorCurrently  \\\n2294                     NaN             NaN                    NaN   \n2350                     NaN             NaN                    NaN   \n2401                     NaN             NaN                    NaN   \n2452                     NaN             NaN                    NaN   \n2467                     NaN             NaN                    NaN   \n...                      ...             ...                    ...   \n2859                     NaN             NaN                    NaN   \n2864                     NaN             NaN                    NaN   \n2867                     NaN             NaN                    NaN   \n2870                     NaN             NaN                    NaN   \n2885                     NaN             NaN                    NaN   \n\n      recovered  death  hospitalized  \n2294        NaN    0.0           NaN  \n2350        NaN    0.0           NaN  \n2401        NaN    0.0           NaN  \n2452        NaN    0.0           NaN  \n2467        NaN    0.0           NaN  \n...         ...    ...           ...  \n2859        NaN    0.0           NaN  \n2864        NaN    0.0           NaN  \n2867        NaN    0.0           NaN  \n2870        NaN    0.0           NaN  \n2885        NaN    0.0           NaN  \n\n[107 rows x 11 columns]",
      "text/html": "<div>\n<style scoped>\n    .dataframe tbody tr th:only-of-type {\n        vertical-align: middle;\n    }\n\n    .dataframe tbody tr th {\n        vertical-align: top;\n    }\n\n    .dataframe thead th {\n        text-align: right;\n    }\n</style>\n<table border=\"1\" class=\"dataframe\">\n  <thead>\n    <tr style=\"text-align: right;\">\n      <th></th>\n      <th>date</th>\n      <th>state</th>\n      <th>positive</th>\n      <th>active</th>\n      <th>hospitalizedCurrently</th>\n      <th>hospitalizedCumulative</th>\n      <th>inIcuCurrently</th>\n      <th>onVentilatorCurrently</th>\n      <th>recovered</th>\n      <th>death</th>\n      <th>hospitalized</th>\n    </tr>\n  </thead>\n  <tbody>\n    <tr>\n      <th>2294</th>\n      <td>2020-03-17</td>\n      <td>WV</td>\n      <td>0.0</td>\n      <td>NaN</td>\n      <td>NaN</td>\n      <td>NaN</td>\n      <td>NaN</td>\n      <td>NaN</td>\n      <td>NaN</td>\n      <td>0.0</td>\n      <td>NaN</td>\n    </tr>\n    <tr>\n      <th>2350</th>\n      <td>2020-03-16</td>\n      <td>WV</td>\n      <td>0.0</td>\n      <td>NaN</td>\n      <td>NaN</td>\n      <td>NaN</td>\n      <td>NaN</td>\n      <td>NaN</td>\n      <td>NaN</td>\n      <td>0.0</td>\n      <td>NaN</td>\n    </tr>\n    <tr>\n      <th>2401</th>\n      <td>2020-03-15</td>\n      <td>WV</td>\n      <td>0.0</td>\n      <td>NaN</td>\n      <td>NaN</td>\n      <td>NaN</td>\n      <td>NaN</td>\n      <td>NaN</td>\n      <td>NaN</td>\n      <td>0.0</td>\n      <td>NaN</td>\n    </tr>\n    <tr>\n      <th>2452</th>\n      <td>2020-03-14</td>\n      <td>WV</td>\n      <td>0.0</td>\n      <td>NaN</td>\n      <td>NaN</td>\n      <td>NaN</td>\n      <td>NaN</td>\n      <td>NaN</td>\n      <td>NaN</td>\n      <td>0.0</td>\n      <td>NaN</td>\n    </tr>\n    <tr>\n      <th>2467</th>\n      <td>2020-03-13</td>\n      <td>ID</td>\n      <td>0.0</td>\n      <td>NaN</td>\n      <td>NaN</td>\n      <td>NaN</td>\n      <td>NaN</td>\n      <td>NaN</td>\n      <td>NaN</td>\n      <td>0.0</td>\n      <td>NaN</td>\n    </tr>\n    <tr>\n      <th>...</th>\n      <td>...</td>\n      <td>...</td>\n      <td>...</td>\n      <td>...</td>\n      <td>...</td>\n      <td>...</td>\n      <td>...</td>\n      <td>...</td>\n      <td>...</td>\n      <td>...</td>\n      <td>...</td>\n    </tr>\n    <tr>\n      <th>2859</th>\n      <td>2020-03-05</td>\n      <td>NE</td>\n      <td>0.0</td>\n      <td>NaN</td>\n      <td>NaN</td>\n      <td>NaN</td>\n      <td>NaN</td>\n      <td>NaN</td>\n      <td>NaN</td>\n      <td>0.0</td>\n      <td>NaN</td>\n    </tr>\n    <tr>\n      <th>2864</th>\n      <td>2020-03-05</td>\n      <td>OH</td>\n      <td>0.0</td>\n      <td>NaN</td>\n      <td>NaN</td>\n      <td>NaN</td>\n      <td>NaN</td>\n      <td>NaN</td>\n      <td>NaN</td>\n      <td>0.0</td>\n      <td>NaN</td>\n    </tr>\n    <tr>\n      <th>2867</th>\n      <td>2020-03-05</td>\n      <td>SC</td>\n      <td>0.0</td>\n      <td>NaN</td>\n      <td>NaN</td>\n      <td>NaN</td>\n      <td>NaN</td>\n      <td>NaN</td>\n      <td>NaN</td>\n      <td>0.0</td>\n      <td>NaN</td>\n    </tr>\n    <tr>\n      <th>2870</th>\n      <td>2020-03-05</td>\n      <td>VA</td>\n      <td>0.0</td>\n      <td>NaN</td>\n      <td>NaN</td>\n      <td>NaN</td>\n      <td>NaN</td>\n      <td>NaN</td>\n      <td>NaN</td>\n      <td>0.0</td>\n      <td>NaN</td>\n    </tr>\n    <tr>\n      <th>2885</th>\n      <td>2020-03-04</td>\n      <td>SC</td>\n      <td>0.0</td>\n      <td>NaN</td>\n      <td>NaN</td>\n      <td>NaN</td>\n      <td>NaN</td>\n      <td>NaN</td>\n      <td>NaN</td>\n      <td>0.0</td>\n      <td>NaN</td>\n    </tr>\n  </tbody>\n</table>\n<p>107 rows × 11 columns</p>\n</div>"
     },
     "metadata": {},
     "execution_count": 9
    }
   ],
   "source": [
    "# check which states have 0 positive cases\n",
    "all_cases.loc[all_cases['positive'] == 0]"
   ]
  },
  {
   "cell_type": "code",
   "execution_count": 10,
   "metadata": {},
   "outputs": [
    {
     "output_type": "execute_result",
     "data": {
      "text/plain": "           date state  positive    active  hospitalizedCurrently  \\\n37   2020-04-26    NY  288045.0  247192.0                12819.0   \n93   2020-04-25    NY  282143.0  241657.0                13524.0   \n149  2020-04-24    NY  271590.0  231541.0                14258.0   \n205  2020-04-23    NY  263460.0  223833.0                15021.0   \n261  2020-04-22    NY  257216.0  218027.0                15599.0   \n\n     hospitalizedCumulative  inIcuCurrently  onVentilatorCurrently  recovered  \\\n37                  57103.0          5016.0                    NaN    23887.0   \n93                  57103.0          5016.0                    NaN    23887.0   \n149                 57103.0          5016.0                    NaN    23887.0   \n205                 57103.0          5016.0                    NaN    23887.0   \n261                 57103.0          5016.0                    NaN    23887.0   \n\n       death  hospitalized  \n37   16966.0       57103.0  \n93   16599.0       57103.0  \n149  16162.0       57103.0  \n205  15740.0       57103.0  \n261  15302.0       57103.0  ",
      "text/html": "<div>\n<style scoped>\n    .dataframe tbody tr th:only-of-type {\n        vertical-align: middle;\n    }\n\n    .dataframe tbody tr th {\n        vertical-align: top;\n    }\n\n    .dataframe thead th {\n        text-align: right;\n    }\n</style>\n<table border=\"1\" class=\"dataframe\">\n  <thead>\n    <tr style=\"text-align: right;\">\n      <th></th>\n      <th>date</th>\n      <th>state</th>\n      <th>positive</th>\n      <th>active</th>\n      <th>hospitalizedCurrently</th>\n      <th>hospitalizedCumulative</th>\n      <th>inIcuCurrently</th>\n      <th>onVentilatorCurrently</th>\n      <th>recovered</th>\n      <th>death</th>\n      <th>hospitalized</th>\n    </tr>\n  </thead>\n  <tbody>\n    <tr>\n      <th>37</th>\n      <td>2020-04-26</td>\n      <td>NY</td>\n      <td>288045.0</td>\n      <td>247192.0</td>\n      <td>12819.0</td>\n      <td>57103.0</td>\n      <td>5016.0</td>\n      <td>NaN</td>\n      <td>23887.0</td>\n      <td>16966.0</td>\n      <td>57103.0</td>\n    </tr>\n    <tr>\n      <th>93</th>\n      <td>2020-04-25</td>\n      <td>NY</td>\n      <td>282143.0</td>\n      <td>241657.0</td>\n      <td>13524.0</td>\n      <td>57103.0</td>\n      <td>5016.0</td>\n      <td>NaN</td>\n      <td>23887.0</td>\n      <td>16599.0</td>\n      <td>57103.0</td>\n    </tr>\n    <tr>\n      <th>149</th>\n      <td>2020-04-24</td>\n      <td>NY</td>\n      <td>271590.0</td>\n      <td>231541.0</td>\n      <td>14258.0</td>\n      <td>57103.0</td>\n      <td>5016.0</td>\n      <td>NaN</td>\n      <td>23887.0</td>\n      <td>16162.0</td>\n      <td>57103.0</td>\n    </tr>\n    <tr>\n      <th>205</th>\n      <td>2020-04-23</td>\n      <td>NY</td>\n      <td>263460.0</td>\n      <td>223833.0</td>\n      <td>15021.0</td>\n      <td>57103.0</td>\n      <td>5016.0</td>\n      <td>NaN</td>\n      <td>23887.0</td>\n      <td>15740.0</td>\n      <td>57103.0</td>\n    </tr>\n    <tr>\n      <th>261</th>\n      <td>2020-04-22</td>\n      <td>NY</td>\n      <td>257216.0</td>\n      <td>218027.0</td>\n      <td>15599.0</td>\n      <td>57103.0</td>\n      <td>5016.0</td>\n      <td>NaN</td>\n      <td>23887.0</td>\n      <td>15302.0</td>\n      <td>57103.0</td>\n    </tr>\n  </tbody>\n</table>\n</div>"
     },
     "metadata": {},
     "execution_count": 10
    }
   ],
   "source": [
    "# Split dataframes by date\n",
    "df_split_by_date = dict(tuple(all_cases.groupby('date')))\n",
    "\n",
    "# Split dataframes by state\n",
    "df_split_by_state = dict(tuple(all_cases.groupby('state')))\n",
    "\n",
    "df_split_by_state['NY'].head()"
   ]
  },
  {
   "cell_type": "code",
   "execution_count": 11,
   "metadata": {},
   "outputs": [],
   "source": [
    "# merge dataframes us_population and all_cases\n",
    "\n",
    "df_merge_uspop = all_cases.merge(us_population, how='left', left_on='state', right_on='Abbreviation')\n",
    "df_merge_uspop = df_merge_uspop.drop(columns=['Abbreviation'])\n",
    "df_merge_uspop = df_merge_uspop.rename(columns={'Pop': 'population'})\n",
    "\n",
    "# change location of 'population' column\n",
    "cols = list(df_merge_uspop)\n",
    "cols.insert(2, cols.pop(cols.index('population')))\n",
    "df_merge_uspop = df_merge_uspop.loc[:, cols]\n",
    "\n",
    "# merge dataframes hosp_beds and df_merge_uspop\n",
    "df_merge_hosp = df_merge_uspop.merge(hosp_beds, how='left', left_on='state', right_on='Abbreviation')\n",
    "df_merge_hosp = df_merge_hosp.drop(columns=['Abbreviation'])\n",
    "all_cases = df_merge_hosp.rename(columns={'Total': 'bedsPerThousand'})"
   ]
  },
  {
   "cell_type": "code",
   "execution_count": 12,
   "metadata": {},
   "outputs": [
    {
     "output_type": "execute_result",
     "data": {
      "text/plain": "         date state  population  positive  active  hospitalizedCurrently  \\\n0  2020-04-26    AK      734002     341.0   115.0                   14.0   \n1  2020-04-26    AL     4908621    6270.0     NaN                    NaN   \n2  2020-04-26    AR     3038999    2941.0  1907.0                  104.0   \n3  2020-04-26    AZ     7378494    6526.0  4868.0                  671.0   \n4  2020-04-26    CA    39937489   42164.0     NaN                 4928.0   \n\n   hospitalizedCumulative  inIcuCurrently  onVentilatorCurrently  recovered  \\\n0                     NaN             NaN                    NaN      217.0   \n1                   845.0             NaN                    NaN        NaN   \n2                   291.0             NaN                   25.0      985.0   \n3                  1037.0           308.0                  200.0     1383.0   \n4                     NaN          1473.0                    NaN        NaN   \n\n    death  hospitalized  bedsPerThousand  \n0     9.0           NaN              2.2  \n1   216.0         845.0              3.1  \n2    49.0         291.0              3.2  \n3   275.0        1037.0              1.9  \n4  1710.0           NaN              1.8  ",
      "text/html": "<div>\n<style scoped>\n    .dataframe tbody tr th:only-of-type {\n        vertical-align: middle;\n    }\n\n    .dataframe tbody tr th {\n        vertical-align: top;\n    }\n\n    .dataframe thead th {\n        text-align: right;\n    }\n</style>\n<table border=\"1\" class=\"dataframe\">\n  <thead>\n    <tr style=\"text-align: right;\">\n      <th></th>\n      <th>date</th>\n      <th>state</th>\n      <th>population</th>\n      <th>positive</th>\n      <th>active</th>\n      <th>hospitalizedCurrently</th>\n      <th>hospitalizedCumulative</th>\n      <th>inIcuCurrently</th>\n      <th>onVentilatorCurrently</th>\n      <th>recovered</th>\n      <th>death</th>\n      <th>hospitalized</th>\n      <th>bedsPerThousand</th>\n    </tr>\n  </thead>\n  <tbody>\n    <tr>\n      <th>0</th>\n      <td>2020-04-26</td>\n      <td>AK</td>\n      <td>734002</td>\n      <td>341.0</td>\n      <td>115.0</td>\n      <td>14.0</td>\n      <td>NaN</td>\n      <td>NaN</td>\n      <td>NaN</td>\n      <td>217.0</td>\n      <td>9.0</td>\n      <td>NaN</td>\n      <td>2.2</td>\n    </tr>\n    <tr>\n      <th>1</th>\n      <td>2020-04-26</td>\n      <td>AL</td>\n      <td>4908621</td>\n      <td>6270.0</td>\n      <td>NaN</td>\n      <td>NaN</td>\n      <td>845.0</td>\n      <td>NaN</td>\n      <td>NaN</td>\n      <td>NaN</td>\n      <td>216.0</td>\n      <td>845.0</td>\n      <td>3.1</td>\n    </tr>\n    <tr>\n      <th>2</th>\n      <td>2020-04-26</td>\n      <td>AR</td>\n      <td>3038999</td>\n      <td>2941.0</td>\n      <td>1907.0</td>\n      <td>104.0</td>\n      <td>291.0</td>\n      <td>NaN</td>\n      <td>25.0</td>\n      <td>985.0</td>\n      <td>49.0</td>\n      <td>291.0</td>\n      <td>3.2</td>\n    </tr>\n    <tr>\n      <th>3</th>\n      <td>2020-04-26</td>\n      <td>AZ</td>\n      <td>7378494</td>\n      <td>6526.0</td>\n      <td>4868.0</td>\n      <td>671.0</td>\n      <td>1037.0</td>\n      <td>308.0</td>\n      <td>200.0</td>\n      <td>1383.0</td>\n      <td>275.0</td>\n      <td>1037.0</td>\n      <td>1.9</td>\n    </tr>\n    <tr>\n      <th>4</th>\n      <td>2020-04-26</td>\n      <td>CA</td>\n      <td>39937489</td>\n      <td>42164.0</td>\n      <td>NaN</td>\n      <td>4928.0</td>\n      <td>NaN</td>\n      <td>1473.0</td>\n      <td>NaN</td>\n      <td>NaN</td>\n      <td>1710.0</td>\n      <td>NaN</td>\n      <td>1.8</td>\n    </tr>\n  </tbody>\n</table>\n</div>"
     },
     "metadata": {},
     "execution_count": 12
    }
   ],
   "source": [
    "all_cases.head()"
   ]
  },
  {
   "cell_type": "code",
   "execution_count": 16,
   "metadata": {},
   "outputs": [
    {
     "output_type": "execute_result",
     "data": {
      "text/plain": "            date state  population  positive  active  hospitalizedCurrently  \\\n0     2020-04-26    AK      734002     341.0   115.0                   14.0   \n1     2020-04-26    AL     4908621    6270.0     NaN                    NaN   \n2     2020-04-26    AR     3038999    2941.0  1907.0                  104.0   \n3     2020-04-26    AZ     7378494    6526.0  4868.0                  671.0   \n4     2020-04-26    CA    39937489   42164.0     NaN                 4928.0   \n...          ...   ...         ...       ...     ...                    ...   \n2722  2020-01-26    WA     7797095       1.0     NaN                    NaN   \n2723  2020-01-25    WA     7797095       1.0     NaN                    NaN   \n2724  2020-01-24    WA     7797095       1.0     NaN                    NaN   \n2725  2020-01-23    WA     7797095       1.0     NaN                    NaN   \n2726  2020-01-22    WA     7797095       1.0     NaN                    NaN   \n\n      hospitalizedCumulative  inIcuCurrently  onVentilatorCurrently  \\\n0                        NaN             NaN                    NaN   \n1                      845.0             NaN                    NaN   \n2                      291.0             NaN                   25.0   \n3                     1037.0           308.0                  200.0   \n4                        NaN          1473.0                    NaN   \n...                      ...             ...                    ...   \n2722                     NaN             NaN                    NaN   \n2723                     NaN             NaN                    NaN   \n2724                     NaN             NaN                    NaN   \n2725                     NaN             NaN                    NaN   \n2726                     NaN             NaN                    NaN   \n\n      recovered   death  hospitalized  bedsPerThousand  total_beds  \n0         217.0     9.0           NaN              2.2   1614.8044  \n1           NaN   216.0         845.0              3.1  15216.7251  \n2         985.0    49.0         291.0              3.2   9724.7968  \n3        1383.0   275.0        1037.0              1.9  14019.1386  \n4           NaN  1710.0           NaN              1.8  71887.4802  \n...         ...     ...           ...              ...         ...  \n2722        NaN     0.0           NaN              1.7  13255.0615  \n2723        NaN     0.0           NaN              1.7  13255.0615  \n2724        NaN     0.0           NaN              1.7  13255.0615  \n2725        NaN     0.0           NaN              1.7  13255.0615  \n2726        NaN     0.0           NaN              1.7  13255.0615  \n\n[2727 rows x 14 columns]",
      "text/html": "<div>\n<style scoped>\n    .dataframe tbody tr th:only-of-type {\n        vertical-align: middle;\n    }\n\n    .dataframe tbody tr th {\n        vertical-align: top;\n    }\n\n    .dataframe thead th {\n        text-align: right;\n    }\n</style>\n<table border=\"1\" class=\"dataframe\">\n  <thead>\n    <tr style=\"text-align: right;\">\n      <th></th>\n      <th>date</th>\n      <th>state</th>\n      <th>population</th>\n      <th>positive</th>\n      <th>active</th>\n      <th>hospitalizedCurrently</th>\n      <th>hospitalizedCumulative</th>\n      <th>inIcuCurrently</th>\n      <th>onVentilatorCurrently</th>\n      <th>recovered</th>\n      <th>death</th>\n      <th>hospitalized</th>\n      <th>bedsPerThousand</th>\n      <th>total_beds</th>\n    </tr>\n  </thead>\n  <tbody>\n    <tr>\n      <th>0</th>\n      <td>2020-04-26</td>\n      <td>AK</td>\n      <td>734002</td>\n      <td>341.0</td>\n      <td>115.0</td>\n      <td>14.0</td>\n      <td>NaN</td>\n      <td>NaN</td>\n      <td>NaN</td>\n      <td>217.0</td>\n      <td>9.0</td>\n      <td>NaN</td>\n      <td>2.2</td>\n      <td>1614.8044</td>\n    </tr>\n    <tr>\n      <th>1</th>\n      <td>2020-04-26</td>\n      <td>AL</td>\n      <td>4908621</td>\n      <td>6270.0</td>\n      <td>NaN</td>\n      <td>NaN</td>\n      <td>845.0</td>\n      <td>NaN</td>\n      <td>NaN</td>\n      <td>NaN</td>\n      <td>216.0</td>\n      <td>845.0</td>\n      <td>3.1</td>\n      <td>15216.7251</td>\n    </tr>\n    <tr>\n      <th>2</th>\n      <td>2020-04-26</td>\n      <td>AR</td>\n      <td>3038999</td>\n      <td>2941.0</td>\n      <td>1907.0</td>\n      <td>104.0</td>\n      <td>291.0</td>\n      <td>NaN</td>\n      <td>25.0</td>\n      <td>985.0</td>\n      <td>49.0</td>\n      <td>291.0</td>\n      <td>3.2</td>\n      <td>9724.7968</td>\n    </tr>\n    <tr>\n      <th>3</th>\n      <td>2020-04-26</td>\n      <td>AZ</td>\n      <td>7378494</td>\n      <td>6526.0</td>\n      <td>4868.0</td>\n      <td>671.0</td>\n      <td>1037.0</td>\n      <td>308.0</td>\n      <td>200.0</td>\n      <td>1383.0</td>\n      <td>275.0</td>\n      <td>1037.0</td>\n      <td>1.9</td>\n      <td>14019.1386</td>\n    </tr>\n    <tr>\n      <th>4</th>\n      <td>2020-04-26</td>\n      <td>CA</td>\n      <td>39937489</td>\n      <td>42164.0</td>\n      <td>NaN</td>\n      <td>4928.0</td>\n      <td>NaN</td>\n      <td>1473.0</td>\n      <td>NaN</td>\n      <td>NaN</td>\n      <td>1710.0</td>\n      <td>NaN</td>\n      <td>1.8</td>\n      <td>71887.4802</td>\n    </tr>\n    <tr>\n      <th>...</th>\n      <td>...</td>\n      <td>...</td>\n      <td>...</td>\n      <td>...</td>\n      <td>...</td>\n      <td>...</td>\n      <td>...</td>\n      <td>...</td>\n      <td>...</td>\n      <td>...</td>\n      <td>...</td>\n      <td>...</td>\n      <td>...</td>\n      <td>...</td>\n    </tr>\n    <tr>\n      <th>2722</th>\n      <td>2020-01-26</td>\n      <td>WA</td>\n      <td>7797095</td>\n      <td>1.0</td>\n      <td>NaN</td>\n      <td>NaN</td>\n      <td>NaN</td>\n      <td>NaN</td>\n      <td>NaN</td>\n      <td>NaN</td>\n      <td>0.0</td>\n      <td>NaN</td>\n      <td>1.7</td>\n      <td>13255.0615</td>\n    </tr>\n    <tr>\n      <th>2723</th>\n      <td>2020-01-25</td>\n      <td>WA</td>\n      <td>7797095</td>\n      <td>1.0</td>\n      <td>NaN</td>\n      <td>NaN</td>\n      <td>NaN</td>\n      <td>NaN</td>\n      <td>NaN</td>\n      <td>NaN</td>\n      <td>0.0</td>\n      <td>NaN</td>\n      <td>1.7</td>\n      <td>13255.0615</td>\n    </tr>\n    <tr>\n      <th>2724</th>\n      <td>2020-01-24</td>\n      <td>WA</td>\n      <td>7797095</td>\n      <td>1.0</td>\n      <td>NaN</td>\n      <td>NaN</td>\n      <td>NaN</td>\n      <td>NaN</td>\n      <td>NaN</td>\n      <td>NaN</td>\n      <td>0.0</td>\n      <td>NaN</td>\n      <td>1.7</td>\n      <td>13255.0615</td>\n    </tr>\n    <tr>\n      <th>2725</th>\n      <td>2020-01-23</td>\n      <td>WA</td>\n      <td>7797095</td>\n      <td>1.0</td>\n      <td>NaN</td>\n      <td>NaN</td>\n      <td>NaN</td>\n      <td>NaN</td>\n      <td>NaN</td>\n      <td>NaN</td>\n      <td>0.0</td>\n      <td>NaN</td>\n      <td>1.7</td>\n      <td>13255.0615</td>\n    </tr>\n    <tr>\n      <th>2726</th>\n      <td>2020-01-22</td>\n      <td>WA</td>\n      <td>7797095</td>\n      <td>1.0</td>\n      <td>NaN</td>\n      <td>NaN</td>\n      <td>NaN</td>\n      <td>NaN</td>\n      <td>NaN</td>\n      <td>NaN</td>\n      <td>0.0</td>\n      <td>NaN</td>\n      <td>1.7</td>\n      <td>13255.0615</td>\n    </tr>\n  </tbody>\n</table>\n<p>2727 rows × 14 columns</p>\n</div>"
     },
     "metadata": {},
     "execution_count": 16
    }
   ],
   "source": [
    "# Calculate the total beds, and add the column\n",
    "all_cases['total_beds'] = all_cases['population'] / 1000 * all_cases['bedsPerThousand']\n",
    "all_cases"
   ]
  },
  {
   "cell_type": "markdown",
   "metadata": {},
   "source": [
    "## Step 2: Some Exploratory Data Analysis (EDA)"
   ]
  },
  {
   "cell_type": "code",
   "execution_count": 13,
   "metadata": {},
   "outputs": [],
   "source": [
    "# TODO Get some insights on data"
   ]
  },
  {
   "cell_type": "markdown",
   "metadata": {},
   "source": [
    "## Step 3: Build model for missing data (maybe? Up for discussion)"
   ]
  },
  {
   "cell_type": "code",
   "execution_count": 14,
   "metadata": {},
   "outputs": [],
   "source": [
    "## TODO Prepare necessary data for model (filter out with values which have all data)"
   ]
  },
  {
   "cell_type": "markdown",
   "metadata": {},
   "source": [
    "## Step 4: Using findings from dataset of hospital beds, conclude research problem"
   ]
  },
  {
   "cell_type": "markdown",
   "metadata": {},
   "source": [
    "## Download datasets from Kaggle"
   ]
  },
  {
   "cell_type": "code",
   "execution_count": 15,
   "metadata": {},
   "outputs": [],
   "source": [
    "kaggle.api.authenticate()\n",
    "kaggle.api.dataset_download_files('benhamner/jhucovid19', path='./kaggle/input/jhucovid19/', unzip=True)"
   ]
  },
  {
   "cell_type": "markdown",
   "metadata": {},
   "source": [
    "## Load JHU data"
   ]
  },
  {
   "cell_type": "code",
   "execution_count": 16,
   "metadata": {},
   "outputs": [
    {
     "data": {
      "text/html": [
       "<div>\n",
       "<style scoped>\n",
       "    .dataframe tbody tr th:only-of-type {\n",
       "        vertical-align: middle;\n",
       "    }\n",
       "\n",
       "    .dataframe tbody tr th {\n",
       "        vertical-align: top;\n",
       "    }\n",
       "\n",
       "    .dataframe thead th {\n",
       "        text-align: right;\n",
       "    }\n",
       "</style>\n",
       "<table border=\"1\" class=\"dataframe\">\n",
       "  <thead>\n",
       "    <tr style=\"text-align: right;\">\n",
       "      <th></th>\n",
       "      <th>Active</th>\n",
       "      <th>Admin2</th>\n",
       "      <th>Combined_Key</th>\n",
       "      <th>Confirmed</th>\n",
       "      <th>Country/Region</th>\n",
       "      <th>Country_Region</th>\n",
       "      <th>Deaths</th>\n",
       "      <th>FIPS</th>\n",
       "      <th>Last Update</th>\n",
       "      <th>Last_Update</th>\n",
       "      <th>Lat</th>\n",
       "      <th>Latitude</th>\n",
       "      <th>Long_</th>\n",
       "      <th>Longitude</th>\n",
       "      <th>Province/State</th>\n",
       "      <th>Province_State</th>\n",
       "      <th>Recovered</th>\n",
       "    </tr>\n",
       "  </thead>\n",
       "  <tbody>\n",
       "    <tr>\n",
       "      <td>0</td>\n",
       "      <td>NaN</td>\n",
       "      <td>NaN</td>\n",
       "      <td>NaN</td>\n",
       "      <td>67760.0</td>\n",
       "      <td>Mainland China</td>\n",
       "      <td>NaN</td>\n",
       "      <td>3024.0</td>\n",
       "      <td>NaN</td>\n",
       "      <td>2020-03-10T15:13:05</td>\n",
       "      <td>NaN</td>\n",
       "      <td>NaN</td>\n",
       "      <td>30.9756</td>\n",
       "      <td>NaN</td>\n",
       "      <td>112.2707</td>\n",
       "      <td>Hubei</td>\n",
       "      <td>NaN</td>\n",
       "      <td>47743.0</td>\n",
       "    </tr>\n",
       "    <tr>\n",
       "      <td>1</td>\n",
       "      <td>NaN</td>\n",
       "      <td>NaN</td>\n",
       "      <td>NaN</td>\n",
       "      <td>10149.0</td>\n",
       "      <td>Italy</td>\n",
       "      <td>NaN</td>\n",
       "      <td>631.0</td>\n",
       "      <td>NaN</td>\n",
       "      <td>2020-03-10T17:53:02</td>\n",
       "      <td>NaN</td>\n",
       "      <td>NaN</td>\n",
       "      <td>43.0000</td>\n",
       "      <td>NaN</td>\n",
       "      <td>12.0000</td>\n",
       "      <td>NaN</td>\n",
       "      <td>NaN</td>\n",
       "      <td>724.0</td>\n",
       "    </tr>\n",
       "    <tr>\n",
       "      <td>2</td>\n",
       "      <td>NaN</td>\n",
       "      <td>NaN</td>\n",
       "      <td>NaN</td>\n",
       "      <td>8042.0</td>\n",
       "      <td>Iran (Islamic Republic of)</td>\n",
       "      <td>NaN</td>\n",
       "      <td>291.0</td>\n",
       "      <td>NaN</td>\n",
       "      <td>2020-03-10T19:13:20</td>\n",
       "      <td>NaN</td>\n",
       "      <td>NaN</td>\n",
       "      <td>32.0000</td>\n",
       "      <td>NaN</td>\n",
       "      <td>53.0000</td>\n",
       "      <td>NaN</td>\n",
       "      <td>NaN</td>\n",
       "      <td>2731.0</td>\n",
       "    </tr>\n",
       "    <tr>\n",
       "      <td>3</td>\n",
       "      <td>NaN</td>\n",
       "      <td>NaN</td>\n",
       "      <td>NaN</td>\n",
       "      <td>7513.0</td>\n",
       "      <td>Republic of Korea</td>\n",
       "      <td>NaN</td>\n",
       "      <td>54.0</td>\n",
       "      <td>NaN</td>\n",
       "      <td>2020-03-10T19:13:20</td>\n",
       "      <td>NaN</td>\n",
       "      <td>NaN</td>\n",
       "      <td>36.0000</td>\n",
       "      <td>NaN</td>\n",
       "      <td>128.0000</td>\n",
       "      <td>NaN</td>\n",
       "      <td>NaN</td>\n",
       "      <td>247.0</td>\n",
       "    </tr>\n",
       "    <tr>\n",
       "      <td>4</td>\n",
       "      <td>NaN</td>\n",
       "      <td>NaN</td>\n",
       "      <td>NaN</td>\n",
       "      <td>1784.0</td>\n",
       "      <td>France</td>\n",
       "      <td>NaN</td>\n",
       "      <td>33.0</td>\n",
       "      <td>NaN</td>\n",
       "      <td>2020-03-10T18:53:02</td>\n",
       "      <td>NaN</td>\n",
       "      <td>NaN</td>\n",
       "      <td>47.0000</td>\n",
       "      <td>NaN</td>\n",
       "      <td>2.0000</td>\n",
       "      <td>NaN</td>\n",
       "      <td>NaN</td>\n",
       "      <td>12.0</td>\n",
       "    </tr>\n",
       "    <tr>\n",
       "      <td>...</td>\n",
       "      <td>...</td>\n",
       "      <td>...</td>\n",
       "      <td>...</td>\n",
       "      <td>...</td>\n",
       "      <td>...</td>\n",
       "      <td>...</td>\n",
       "      <td>...</td>\n",
       "      <td>...</td>\n",
       "      <td>...</td>\n",
       "      <td>...</td>\n",
       "      <td>...</td>\n",
       "      <td>...</td>\n",
       "      <td>...</td>\n",
       "      <td>...</td>\n",
       "      <td>...</td>\n",
       "      <td>...</td>\n",
       "      <td>...</td>\n",
       "    </tr>\n",
       "    <tr>\n",
       "      <td>114236</td>\n",
       "      <td>NaN</td>\n",
       "      <td>NaN</td>\n",
       "      <td>NaN</td>\n",
       "      <td>7.0</td>\n",
       "      <td>Afghanistan</td>\n",
       "      <td>NaN</td>\n",
       "      <td>0.0</td>\n",
       "      <td>NaN</td>\n",
       "      <td>2020-03-11T20:00:00</td>\n",
       "      <td>NaN</td>\n",
       "      <td>NaN</td>\n",
       "      <td>33.0000</td>\n",
       "      <td>NaN</td>\n",
       "      <td>65.0000</td>\n",
       "      <td>NaN</td>\n",
       "      <td>NaN</td>\n",
       "      <td>0.0</td>\n",
       "    </tr>\n",
       "    <tr>\n",
       "      <td>114237</td>\n",
       "      <td>NaN</td>\n",
       "      <td>NaN</td>\n",
       "      <td>NaN</td>\n",
       "      <td>2.0</td>\n",
       "      <td>Monaco</td>\n",
       "      <td>NaN</td>\n",
       "      <td>0.0</td>\n",
       "      <td>NaN</td>\n",
       "      <td>2020-03-11T20:00:00</td>\n",
       "      <td>NaN</td>\n",
       "      <td>NaN</td>\n",
       "      <td>43.7333</td>\n",
       "      <td>NaN</td>\n",
       "      <td>7.4167</td>\n",
       "      <td>NaN</td>\n",
       "      <td>NaN</td>\n",
       "      <td>0.0</td>\n",
       "    </tr>\n",
       "    <tr>\n",
       "      <td>114238</td>\n",
       "      <td>NaN</td>\n",
       "      <td>NaN</td>\n",
       "      <td>NaN</td>\n",
       "      <td>1.0</td>\n",
       "      <td>Liechtenstein</td>\n",
       "      <td>NaN</td>\n",
       "      <td>0.0</td>\n",
       "      <td>NaN</td>\n",
       "      <td>2020-03-11T20:00:00</td>\n",
       "      <td>NaN</td>\n",
       "      <td>NaN</td>\n",
       "      <td>47.1400</td>\n",
       "      <td>NaN</td>\n",
       "      <td>9.5500</td>\n",
       "      <td>NaN</td>\n",
       "      <td>NaN</td>\n",
       "      <td>0.0</td>\n",
       "    </tr>\n",
       "    <tr>\n",
       "      <td>114239</td>\n",
       "      <td>NaN</td>\n",
       "      <td>NaN</td>\n",
       "      <td>NaN</td>\n",
       "      <td>1.0</td>\n",
       "      <td>Guyana</td>\n",
       "      <td>NaN</td>\n",
       "      <td>1.0</td>\n",
       "      <td>NaN</td>\n",
       "      <td>2020-03-11T20:00:00</td>\n",
       "      <td>NaN</td>\n",
       "      <td>NaN</td>\n",
       "      <td>5.0000</td>\n",
       "      <td>NaN</td>\n",
       "      <td>-58.7500</td>\n",
       "      <td>NaN</td>\n",
       "      <td>NaN</td>\n",
       "      <td>0.0</td>\n",
       "    </tr>\n",
       "    <tr>\n",
       "      <td>114240</td>\n",
       "      <td>NaN</td>\n",
       "      <td>NaN</td>\n",
       "      <td>NaN</td>\n",
       "      <td>50.0</td>\n",
       "      <td>Taiwan*</td>\n",
       "      <td>NaN</td>\n",
       "      <td>1.0</td>\n",
       "      <td>NaN</td>\n",
       "      <td>2020-03-11T20:00:00</td>\n",
       "      <td>NaN</td>\n",
       "      <td>NaN</td>\n",
       "      <td>23.7000</td>\n",
       "      <td>NaN</td>\n",
       "      <td>121.0000</td>\n",
       "      <td>NaN</td>\n",
       "      <td>NaN</td>\n",
       "      <td>20.0</td>\n",
       "    </tr>\n",
       "  </tbody>\n",
       "</table>\n",
       "<p>114241 rows × 17 columns</p>\n",
       "</div>"
      ],
      "text/plain": [
       "        Active Admin2 Combined_Key  Confirmed              Country/Region  \\\n",
       "0          NaN    NaN          NaN    67760.0              Mainland China   \n",
       "1          NaN    NaN          NaN    10149.0                       Italy   \n",
       "2          NaN    NaN          NaN     8042.0  Iran (Islamic Republic of)   \n",
       "3          NaN    NaN          NaN     7513.0           Republic of Korea   \n",
       "4          NaN    NaN          NaN     1784.0                      France   \n",
       "...        ...    ...          ...        ...                         ...   \n",
       "114236     NaN    NaN          NaN        7.0                 Afghanistan   \n",
       "114237     NaN    NaN          NaN        2.0                      Monaco   \n",
       "114238     NaN    NaN          NaN        1.0               Liechtenstein   \n",
       "114239     NaN    NaN          NaN        1.0                      Guyana   \n",
       "114240     NaN    NaN          NaN       50.0                     Taiwan*   \n",
       "\n",
       "       Country_Region  Deaths  FIPS          Last Update Last_Update  Lat  \\\n",
       "0                 NaN  3024.0   NaN  2020-03-10T15:13:05         NaN  NaN   \n",
       "1                 NaN   631.0   NaN  2020-03-10T17:53:02         NaN  NaN   \n",
       "2                 NaN   291.0   NaN  2020-03-10T19:13:20         NaN  NaN   \n",
       "3                 NaN    54.0   NaN  2020-03-10T19:13:20         NaN  NaN   \n",
       "4                 NaN    33.0   NaN  2020-03-10T18:53:02         NaN  NaN   \n",
       "...               ...     ...   ...                  ...         ...  ...   \n",
       "114236            NaN     0.0   NaN  2020-03-11T20:00:00         NaN  NaN   \n",
       "114237            NaN     0.0   NaN  2020-03-11T20:00:00         NaN  NaN   \n",
       "114238            NaN     0.0   NaN  2020-03-11T20:00:00         NaN  NaN   \n",
       "114239            NaN     1.0   NaN  2020-03-11T20:00:00         NaN  NaN   \n",
       "114240            NaN     1.0   NaN  2020-03-11T20:00:00         NaN  NaN   \n",
       "\n",
       "        Latitude  Long_  Longitude Province/State Province_State  Recovered  \n",
       "0        30.9756    NaN   112.2707          Hubei            NaN    47743.0  \n",
       "1        43.0000    NaN    12.0000            NaN            NaN      724.0  \n",
       "2        32.0000    NaN    53.0000            NaN            NaN     2731.0  \n",
       "3        36.0000    NaN   128.0000            NaN            NaN      247.0  \n",
       "4        47.0000    NaN     2.0000            NaN            NaN       12.0  \n",
       "...          ...    ...        ...            ...            ...        ...  \n",
       "114236   33.0000    NaN    65.0000            NaN            NaN        0.0  \n",
       "114237   43.7333    NaN     7.4167            NaN            NaN        0.0  \n",
       "114238   47.1400    NaN     9.5500            NaN            NaN        0.0  \n",
       "114239    5.0000    NaN   -58.7500            NaN            NaN        0.0  \n",
       "114240   23.7000    NaN   121.0000            NaN            NaN       20.0  \n",
       "\n",
       "[114241 rows x 17 columns]"
      ]
     },
     "execution_count": 16,
     "metadata": {},
     "output_type": "execute_result"
    }
   ],
   "source": [
    "# Get Time-Series Data of cases as Pandas DataFrame\n",
    "dir_jhu = './kaggle/input/jhucovid19/csse_covid_19_data/csse_covid_19_daily_reports'\n",
    "\n",
    "df_list = []\n",
    "for dirname, _, files in os.walk(dir_jhu):\n",
    "    for file in files:\n",
    "        if 'gitignore' not in file and 'README' not in file:\n",
    "            full_dir = os.path.join(dirname, file)\n",
    "            #print(full_dir)\n",
    "            df_list.append(pd.read_csv(full_dir))\n",
    "jhu_df = pd.concat(df_list, axis=0, ignore_index=True, sort=True)\n",
    "\n",
    "jhu_df"
   ]
  }
 ],
 "metadata": {
  "kernelspec": {
   "display_name": "Python 3",
   "language": "python",
   "name": "python3"
  },
  "language_info": {
   "codemirror_mode": {
    "name": "ipython",
    "version": 3
   },
   "file_extension": ".py",
   "mimetype": "text/x-python",
   "name": "python",
   "nbconvert_exporter": "python",
   "pygments_lexer": "ipython3",
   "version": "3.7.4-final"
  }
 },
 "nbformat": 4,
 "nbformat_minor": 2
}